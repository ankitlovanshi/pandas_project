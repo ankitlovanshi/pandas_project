{
 "cells": [
  {
   "cell_type": "code",
   "execution_count": 1,
   "id": "0d70ca55-2e21-4fa6-bad4-40416fa76d4a",
   "metadata": {},
   "outputs": [],
   "source": [
    "import pandas as pd\n",
    "import numpy as np\n",
    "import matplotlib.pyplot as plt \n",
    "import seaborn as sns\n",
    "import plotly.express as px"
   ]
  },
  {
   "cell_type": "code",
   "execution_count": 2,
   "id": "4d809263-bf31-4cda-ba7b-94b4cfba8230",
   "metadata": {},
   "outputs": [],
   "source": [
    "# read csv\n",
    "play = pd.read_csv('/home/developer/Downloads/playstore.csv')"
   ]
  },
  {
   "cell_type": "code",
   "execution_count": 3,
   "id": "9af5809e-6807-4a9f-9d2b-e1334bc71761",
   "metadata": {},
   "outputs": [
    {
     "data": {
      "text/html": [
       "<div>\n",
       "<style scoped>\n",
       "    .dataframe tbody tr th:only-of-type {\n",
       "        vertical-align: middle;\n",
       "    }\n",
       "\n",
       "    .dataframe tbody tr th {\n",
       "        vertical-align: top;\n",
       "    }\n",
       "\n",
       "    .dataframe thead th {\n",
       "        text-align: right;\n",
       "    }\n",
       "</style>\n",
       "<table border=\"1\" class=\"dataframe\">\n",
       "  <thead>\n",
       "    <tr style=\"text-align: right;\">\n",
       "      <th></th>\n",
       "      <th>app_id</th>\n",
       "      <th>title</th>\n",
       "      <th>reviews</th>\n",
       "      <th>ratings</th>\n",
       "      <th>min_installs</th>\n",
       "      <th>score</th>\n",
       "      <th>offers_iap</th>\n",
       "      <th>ad_supported</th>\n",
       "      <th>released</th>\n",
       "      <th>ratings_per_day</th>\n",
       "      <th>genre</th>\n",
       "      <th>genre_id</th>\n",
       "      <th>price</th>\n",
       "      <th>rating_one_star</th>\n",
       "      <th>rating_two_star</th>\n",
       "      <th>rating_three_star</th>\n",
       "      <th>rating_four_star</th>\n",
       "      <th>rating_five_star</th>\n",
       "    </tr>\n",
       "  </thead>\n",
       "  <tbody>\n",
       "    <tr>\n",
       "      <th>0</th>\n",
       "      <td>com.prettyteengames.royal.princess.wedding.mak...</td>\n",
       "      <td>Royal Princess Wedding Makeover and Dress Up</td>\n",
       "      <td>375.0</td>\n",
       "      <td>1023.0</td>\n",
       "      <td>100000</td>\n",
       "      <td>4.179863</td>\n",
       "      <td>True</td>\n",
       "      <td>True</td>\n",
       "      <td>2017-12-20</td>\n",
       "      <td>3</td>\n",
       "      <td>Casual</td>\n",
       "      <td>GAME_CASUAL</td>\n",
       "      <td>0.0</td>\n",
       "      <td>115</td>\n",
       "      <td>31</td>\n",
       "      <td>98</td>\n",
       "      <td>90</td>\n",
       "      <td>689</td>\n",
       "    </tr>\n",
       "    <tr>\n",
       "      <th>1</th>\n",
       "      <td>com.MayGreenStudio.dressup</td>\n",
       "      <td>Momo's Dressup</td>\n",
       "      <td>13492.0</td>\n",
       "      <td>25974.0</td>\n",
       "      <td>1000000</td>\n",
       "      <td>4.711096</td>\n",
       "      <td>False</td>\n",
       "      <td>True</td>\n",
       "      <td>2017-03-07</td>\n",
       "      <td>42</td>\n",
       "      <td>Casual</td>\n",
       "      <td>GAME_CASUAL</td>\n",
       "      <td>0.0</td>\n",
       "      <td>673</td>\n",
       "      <td>213</td>\n",
       "      <td>806</td>\n",
       "      <td>2561</td>\n",
       "      <td>21721</td>\n",
       "    </tr>\n",
       "    <tr>\n",
       "      <th>2</th>\n",
       "      <td>air.theflash.f2game.PrettyGirl23</td>\n",
       "      <td>Princess Pretty Girl</td>\n",
       "      <td>1974.0</td>\n",
       "      <td>4610.0</td>\n",
       "      <td>500000</td>\n",
       "      <td>4.295445</td>\n",
       "      <td>False</td>\n",
       "      <td>True</td>\n",
       "      <td>2015-01-18</td>\n",
       "      <td>3</td>\n",
       "      <td>Casual</td>\n",
       "      <td>GAME_CASUAL</td>\n",
       "      <td>0.0</td>\n",
       "      <td>382</td>\n",
       "      <td>206</td>\n",
       "      <td>287</td>\n",
       "      <td>528</td>\n",
       "      <td>3207</td>\n",
       "    </tr>\n",
       "    <tr>\n",
       "      <th>3</th>\n",
       "      <td>air.com.dressupone.animeschooluniforms</td>\n",
       "      <td>Anime School Uniforms</td>\n",
       "      <td>2586.0</td>\n",
       "      <td>6081.0</td>\n",
       "      <td>500000</td>\n",
       "      <td>4.209505</td>\n",
       "      <td>False</td>\n",
       "      <td>True</td>\n",
       "      <td>2013-08-20</td>\n",
       "      <td>3</td>\n",
       "      <td>Casual</td>\n",
       "      <td>GAME_CASUAL</td>\n",
       "      <td>0.0</td>\n",
       "      <td>628</td>\n",
       "      <td>193</td>\n",
       "      <td>524</td>\n",
       "      <td>668</td>\n",
       "      <td>4068</td>\n",
       "    </tr>\n",
       "    <tr>\n",
       "      <th>4</th>\n",
       "      <td>air.theflash.f2game.PrettyGirl7</td>\n",
       "      <td>Wedding Pretty girl</td>\n",
       "      <td>1409.0</td>\n",
       "      <td>3728.0</td>\n",
       "      <td>500000</td>\n",
       "      <td>4.195011</td>\n",
       "      <td>False</td>\n",
       "      <td>True</td>\n",
       "      <td>2014-09-01</td>\n",
       "      <td>2</td>\n",
       "      <td>Casual</td>\n",
       "      <td>GAME_CASUAL</td>\n",
       "      <td>0.0</td>\n",
       "      <td>358</td>\n",
       "      <td>185</td>\n",
       "      <td>300</td>\n",
       "      <td>414</td>\n",
       "      <td>2471</td>\n",
       "    </tr>\n",
       "  </tbody>\n",
       "</table>\n",
       "</div>"
      ],
      "text/plain": [
       "                                              app_id  \\\n",
       "0  com.prettyteengames.royal.princess.wedding.mak...   \n",
       "1                         com.MayGreenStudio.dressup   \n",
       "2                   air.theflash.f2game.PrettyGirl23   \n",
       "3             air.com.dressupone.animeschooluniforms   \n",
       "4                    air.theflash.f2game.PrettyGirl7   \n",
       "\n",
       "                                          title  reviews  ratings  \\\n",
       "0  Royal Princess Wedding Makeover and Dress Up    375.0   1023.0   \n",
       "1                                Momo's Dressup  13492.0  25974.0   \n",
       "2                          Princess Pretty Girl   1974.0   4610.0   \n",
       "3                         Anime School Uniforms   2586.0   6081.0   \n",
       "4                           Wedding Pretty girl   1409.0   3728.0   \n",
       "\n",
       "   min_installs     score  offers_iap  ad_supported    released  \\\n",
       "0        100000  4.179863        True          True  2017-12-20   \n",
       "1       1000000  4.711096       False          True  2017-03-07   \n",
       "2        500000  4.295445       False          True  2015-01-18   \n",
       "3        500000  4.209505       False          True  2013-08-20   \n",
       "4        500000  4.195011       False          True  2014-09-01   \n",
       "\n",
       "   ratings_per_day   genre     genre_id  price  rating_one_star  \\\n",
       "0                3  Casual  GAME_CASUAL    0.0              115   \n",
       "1               42  Casual  GAME_CASUAL    0.0              673   \n",
       "2                3  Casual  GAME_CASUAL    0.0              382   \n",
       "3                3  Casual  GAME_CASUAL    0.0              628   \n",
       "4                2  Casual  GAME_CASUAL    0.0              358   \n",
       "\n",
       "   rating_two_star  rating_three_star  rating_four_star  rating_five_star  \n",
       "0               31                 98                90               689  \n",
       "1              213                806              2561             21721  \n",
       "2              206                287               528              3207  \n",
       "3              193                524               668              4068  \n",
       "4              185                300               414              2471  "
      ]
     },
     "execution_count": 3,
     "metadata": {},
     "output_type": "execute_result"
    }
   ],
   "source": [
    "play.head(5)"
   ]
  },
  {
   "cell_type": "code",
   "execution_count": 5,
   "id": "07d5a08d-05e3-40ac-95b4-7a074dc0274e",
   "metadata": {},
   "outputs": [
    {
     "data": {
      "text/plain": [
       "(62694, 18)"
      ]
     },
     "execution_count": 5,
     "metadata": {},
     "output_type": "execute_result"
    }
   ],
   "source": [
    "# get rows and columns\n",
    "play.shape"
   ]
  },
  {
   "cell_type": "code",
   "execution_count": 6,
   "id": "53fe2c5f-6a38-4776-b7a6-0b30d7f25a47",
   "metadata": {},
   "outputs": [
    {
     "data": {
      "text/plain": [
       "app_id                 0\n",
       "title                  0\n",
       "reviews               11\n",
       "ratings               11\n",
       "min_installs           0\n",
       "score                 11\n",
       "offers_iap             0\n",
       "ad_supported           0\n",
       "released             846\n",
       "ratings_per_day        0\n",
       "genre                  1\n",
       "genre_id               1\n",
       "price                  0\n",
       "rating_one_star        0\n",
       "rating_two_star        0\n",
       "rating_three_star      0\n",
       "rating_four_star       0\n",
       "rating_five_star       0\n",
       "dtype: int64"
      ]
     },
     "execution_count": 6,
     "metadata": {},
     "output_type": "execute_result"
    }
   ],
   "source": [
    "# check null values\n",
    "play.isnull().sum()"
   ]
  },
  {
   "cell_type": "code",
   "execution_count": 7,
   "id": "a88154ec-36f0-4dd4-acad-bb9f9d07f7c1",
   "metadata": {},
   "outputs": [
    {
     "name": "stdout",
     "output_type": "stream",
     "text": [
      "<class 'pandas.core.frame.DataFrame'>\n",
      "RangeIndex: 62694 entries, 0 to 62693\n",
      "Data columns (total 18 columns):\n",
      " #   Column             Non-Null Count  Dtype  \n",
      "---  ------             --------------  -----  \n",
      " 0   app_id             62694 non-null  object \n",
      " 1   title              62694 non-null  object \n",
      " 2   reviews            62683 non-null  float64\n",
      " 3   ratings            62683 non-null  float64\n",
      " 4   min_installs       62694 non-null  int64  \n",
      " 5   score              62683 non-null  float64\n",
      " 6   offers_iap         62694 non-null  bool   \n",
      " 7   ad_supported       62694 non-null  bool   \n",
      " 8   released           61848 non-null  object \n",
      " 9   ratings_per_day    62694 non-null  int64  \n",
      " 10  genre              62693 non-null  object \n",
      " 11  genre_id           62693 non-null  object \n",
      " 12  price              62694 non-null  float64\n",
      " 13  rating_one_star    62694 non-null  int64  \n",
      " 14  rating_two_star    62694 non-null  int64  \n",
      " 15  rating_three_star  62694 non-null  int64  \n",
      " 16  rating_four_star   62694 non-null  int64  \n",
      " 17  rating_five_star   62694 non-null  int64  \n",
      "dtypes: bool(2), float64(4), int64(7), object(5)\n",
      "memory usage: 7.8+ MB\n"
     ]
    }
   ],
   "source": [
    "# get info\n",
    "play.info()"
   ]
  },
  {
   "cell_type": "code",
   "execution_count": 8,
   "id": "d7d4d66c-8124-48a6-ba4c-147b184335c4",
   "metadata": {},
   "outputs": [],
   "source": [
    "# drop null values\n",
    "play = play.dropna(how='any')"
   ]
  },
  {
   "cell_type": "code",
   "execution_count": 9,
   "id": "4930bddc-d829-4aa6-8b97-3be0eebed894",
   "metadata": {},
   "outputs": [
    {
     "name": "stdout",
     "output_type": "stream",
     "text": [
      "<class 'pandas.core.frame.DataFrame'>\n",
      "Index: 61847 entries, 0 to 62693\n",
      "Data columns (total 18 columns):\n",
      " #   Column             Non-Null Count  Dtype  \n",
      "---  ------             --------------  -----  \n",
      " 0   app_id             61847 non-null  object \n",
      " 1   title              61847 non-null  object \n",
      " 2   reviews            61847 non-null  float64\n",
      " 3   ratings            61847 non-null  float64\n",
      " 4   min_installs       61847 non-null  int64  \n",
      " 5   score              61847 non-null  float64\n",
      " 6   offers_iap         61847 non-null  bool   \n",
      " 7   ad_supported       61847 non-null  bool   \n",
      " 8   released           61847 non-null  object \n",
      " 9   ratings_per_day    61847 non-null  int64  \n",
      " 10  genre              61847 non-null  object \n",
      " 11  genre_id           61847 non-null  object \n",
      " 12  price              61847 non-null  float64\n",
      " 13  rating_one_star    61847 non-null  int64  \n",
      " 14  rating_two_star    61847 non-null  int64  \n",
      " 15  rating_three_star  61847 non-null  int64  \n",
      " 16  rating_four_star   61847 non-null  int64  \n",
      " 17  rating_five_star   61847 non-null  int64  \n",
      "dtypes: bool(2), float64(4), int64(7), object(5)\n",
      "memory usage: 8.1+ MB\n"
     ]
    }
   ],
   "source": [
    "play.info()"
   ]
  },
  {
   "cell_type": "code",
   "execution_count": 10,
   "id": "e457c06b-3645-4965-a617-4ad5672464dd",
   "metadata": {},
   "outputs": [
    {
     "data": {
      "text/plain": [
       "app_id               0\n",
       "title                0\n",
       "reviews              0\n",
       "ratings              0\n",
       "min_installs         0\n",
       "score                0\n",
       "offers_iap           0\n",
       "ad_supported         0\n",
       "released             0\n",
       "ratings_per_day      0\n",
       "genre                0\n",
       "genre_id             0\n",
       "price                0\n",
       "rating_one_star      0\n",
       "rating_two_star      0\n",
       "rating_three_star    0\n",
       "rating_four_star     0\n",
       "rating_five_star     0\n",
       "dtype: int64"
      ]
     },
     "execution_count": 10,
     "metadata": {},
     "output_type": "execute_result"
    }
   ],
   "source": [
    "play.isnull().sum()"
   ]
  },
  {
   "cell_type": "code",
   "execution_count": null,
   "id": "a787d40f-c155-4c2d-af0c-fbae74c010f5",
   "metadata": {},
   "outputs": [],
   "source": []
  }
 ],
 "metadata": {
  "kernelspec": {
   "display_name": "Python 3 (ipykernel)",
   "language": "python",
   "name": "python3"
  },
  "language_info": {
   "codemirror_mode": {
    "name": "ipython",
    "version": 3
   },
   "file_extension": ".py",
   "mimetype": "text/x-python",
   "name": "python",
   "nbconvert_exporter": "python",
   "pygments_lexer": "ipython3",
   "version": "3.8.10"
  }
 },
 "nbformat": 4,
 "nbformat_minor": 5
}
