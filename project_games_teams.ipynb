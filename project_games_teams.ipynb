{
 "cells": [
  {
   "cell_type": "code",
   "execution_count": 4,
   "id": "e61916a6-21de-470a-a8e1-c0ce490c2600",
   "metadata": {},
   "outputs": [],
   "source": [
    "# Import the libraries\n",
    "import pandas as pd\n",
    "import numpy as np\n",
    "import matplotlib.pyplot as plt \n",
    "import seaborn as sns\n",
    "import plotly.express as px"
   ]
  },
  {
   "cell_type": "code",
   "execution_count": 5,
   "id": "2771d14c-05ad-4d79-b9df-a2e06ce4e4ff",
   "metadata": {},
   "outputs": [],
   "source": [
    "# Load the data\n",
    "games = pd.read_csv('/home/developer/Desktop/games.csv')\n",
    "teams = pd.read_csv('/home/developer/Desktop/teams.csv')"
   ]
  },
  {
   "cell_type": "code",
   "execution_count": null,
   "id": "50e95cb8-1f6c-4f1e-84c7-c32d1619ab81",
   "metadata": {},
   "outputs": [],
   "source": []
  }
 ],
 "metadata": {
  "kernelspec": {
   "display_name": "Python 3 (ipykernel)",
   "language": "python",
   "name": "python3"
  },
  "language_info": {
   "codemirror_mode": {
    "name": "ipython",
    "version": 3
   },
   "file_extension": ".py",
   "mimetype": "text/x-python",
   "name": "python",
   "nbconvert_exporter": "python",
   "pygments_lexer": "ipython3",
   "version": "3.8.10"
  }
 },
 "nbformat": 4,
 "nbformat_minor": 5
}
