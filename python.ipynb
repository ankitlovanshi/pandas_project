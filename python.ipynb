{
 "cells": [
  {
   "cell_type": "code",
   "execution_count": 7,
   "id": "b16c56ad-311a-4b72-a82d-9b894bd780b9",
   "metadata": {},
   "outputs": [
    {
     "name": "stdout",
     "output_type": "stream",
     "text": [
      "4\n",
      "2020\n",
      "this is 2020\n"
     ]
    },
    {
     "ename": "TypeError",
     "evalue": "__str__ returned non-string (type NoneType)",
     "output_type": "error",
     "traceback": [
      "\u001b[0;31m---------------------------------------------------------------------------\u001b[0m",
      "\u001b[0;31mTypeError\u001b[0m                                 Traceback (most recent call last)",
      "Cell \u001b[0;32mIn[7], line 25\u001b[0m\n\u001b[1;32m     23\u001b[0m \u001b[38;5;66;03m# Creating an object of the Car class\u001b[39;00m\n\u001b[1;32m     24\u001b[0m my_car \u001b[38;5;241m=\u001b[39m Car(\u001b[38;5;124m\"\u001b[39m\u001b[38;5;124mToyota\u001b[39m\u001b[38;5;124m\"\u001b[39m, \u001b[38;5;124m\"\u001b[39m\u001b[38;5;124mCorolla\u001b[39m\u001b[38;5;124m\"\u001b[39m, \u001b[38;5;241m2020\u001b[39m)\n\u001b[0;32m---> 25\u001b[0m \u001b[38;5;28;43mprint\u001b[39;49m\u001b[43m(\u001b[49m\u001b[43mmy_car\u001b[49m\u001b[43m)\u001b[49m\n\u001b[1;32m     26\u001b[0m \u001b[38;5;66;03m# Calling methods on the object\u001b[39;00m\n\u001b[1;32m     27\u001b[0m my_car\u001b[38;5;241m.\u001b[39mstart_engine()\n",
      "\u001b[0;31mTypeError\u001b[0m: __str__ returned non-string (type NoneType)"
     ]
    }
   ],
   "source": [
    "class Car:\n",
    "    # Class attribute\n",
    "    wheels = 4\n",
    "    print(wheels)\n",
    "    # Constructor method to initialize object attributes\n",
    "    def __init__(self, make, model, year):\n",
    "        self.make = make        # Instance attribute\n",
    "        self.model = model      # Instance attribute\n",
    "        self.year = year        # Instance attribute\n",
    "        print(self.year)\n",
    "\n",
    "    # Instance method\n",
    "    def start_engine(self):\n",
    "        print(f\"The {self.make} {self.model}'s engine has started.\")\n",
    "\n",
    "    # Instance method\n",
    "    def describe(self):\n",
    "        print(f\"This car is a {self.year} {self.make} {self.model} with {Car.wheels} wheels.\")\n",
    "\n",
    "    def __str__(self):\n",
    "        print(f\"this is {self.year}\")\n",
    "        \n",
    "\n",
    "# Creating an object of the Car class\n",
    "my_car = Car(\"Toyota\", \"Corolla\", 2020)\n",
    "print(my_car)\n",
    "# Calling methods on the object\n",
    "my_car.start_engine()\n",
    "my_car.describe()\n"
   ]
  },
  {
   "cell_type": "code",
   "execution_count": null,
   "id": "feb884b3-8114-4aeb-ab8c-511c39d07851",
   "metadata": {},
   "outputs": [],
   "source": []
  }
 ],
 "metadata": {
  "kernelspec": {
   "display_name": "Python 3 (ipykernel)",
   "language": "python",
   "name": "python3"
  },
  "language_info": {
   "codemirror_mode": {
    "name": "ipython",
    "version": 3
   },
   "file_extension": ".py",
   "mimetype": "text/x-python",
   "name": "python",
   "nbconvert_exporter": "python",
   "pygments_lexer": "ipython3",
   "version": "3.8.10"
  }
 },
 "nbformat": 4,
 "nbformat_minor": 5
}
