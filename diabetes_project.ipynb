{
 "cells": [
  {
   "cell_type": "code",
   "execution_count": 87,
   "id": "5d2dc863-f80f-4976-b0ad-e54876b84537",
   "metadata": {},
   "outputs": [],
   "source": [
    "import pandas as pd\n",
    "import numpy as np\n",
    "import matplotlib.pyplot as plt\n",
    "import seaborn as sns\n",
    "import plotly.express as px"
   ]
  },
  {
   "cell_type": "code",
   "execution_count": 88,
   "id": "15ac1ed9-8b51-40e7-ac27-a4cf24b59c35",
   "metadata": {},
   "outputs": [],
   "source": [
    "# load dataset\n",
    "data = pd.read_csv(\"/home/developer/Downloads/Gestational Diabetes.csv\")"
   ]
  },
  {
   "cell_type": "code",
   "execution_count": 89,
   "id": "371554ff-b032-4a4c-8aa4-cff97e181b49",
   "metadata": {},
   "outputs": [
    {
     "data": {
      "text/html": [
       "<div>\n",
       "<style scoped>\n",
       "    .dataframe tbody tr th:only-of-type {\n",
       "        vertical-align: middle;\n",
       "    }\n",
       "\n",
       "    .dataframe tbody tr th {\n",
       "        vertical-align: top;\n",
       "    }\n",
       "\n",
       "    .dataframe thead th {\n",
       "        text-align: right;\n",
       "    }\n",
       "</style>\n",
       "<table border=\"1\" class=\"dataframe\">\n",
       "  <thead>\n",
       "    <tr style=\"text-align: right;\">\n",
       "      <th></th>\n",
       "      <th>Age</th>\n",
       "      <th>Pregnancy No</th>\n",
       "      <th>Weight</th>\n",
       "      <th>Height</th>\n",
       "      <th>BMI</th>\n",
       "      <th>Heredity</th>\n",
       "      <th>Prediction</th>\n",
       "    </tr>\n",
       "  </thead>\n",
       "  <tbody>\n",
       "    <tr>\n",
       "      <th>0</th>\n",
       "      <td>17.0</td>\n",
       "      <td>1.0</td>\n",
       "      <td>48.0</td>\n",
       "      <td>165.0</td>\n",
       "      <td>17.6</td>\n",
       "      <td>0</td>\n",
       "      <td>0</td>\n",
       "    </tr>\n",
       "    <tr>\n",
       "      <th>1</th>\n",
       "      <td>17.0</td>\n",
       "      <td>1.0</td>\n",
       "      <td>49.0</td>\n",
       "      <td>145.0</td>\n",
       "      <td>23.3</td>\n",
       "      <td>0</td>\n",
       "      <td>0</td>\n",
       "    </tr>\n",
       "    <tr>\n",
       "      <th>2</th>\n",
       "      <td>17.0</td>\n",
       "      <td>1.0</td>\n",
       "      <td>50.0</td>\n",
       "      <td>140.0</td>\n",
       "      <td>25.5</td>\n",
       "      <td>0</td>\n",
       "      <td>0</td>\n",
       "    </tr>\n",
       "    <tr>\n",
       "      <th>3</th>\n",
       "      <td>17.0</td>\n",
       "      <td>1.0</td>\n",
       "      <td>50.0</td>\n",
       "      <td>145.0</td>\n",
       "      <td>23.8</td>\n",
       "      <td>0</td>\n",
       "      <td>0</td>\n",
       "    </tr>\n",
       "    <tr>\n",
       "      <th>4</th>\n",
       "      <td>17.0</td>\n",
       "      <td>1.0</td>\n",
       "      <td>49.0</td>\n",
       "      <td>146.0</td>\n",
       "      <td>23.0</td>\n",
       "      <td>0</td>\n",
       "      <td>0</td>\n",
       "    </tr>\n",
       "  </tbody>\n",
       "</table>\n",
       "</div>"
      ],
      "text/plain": [
       "    Age  Pregnancy No  Weight  Height   BMI  Heredity  Prediction\n",
       "0  17.0           1.0    48.0   165.0  17.6         0           0\n",
       "1  17.0           1.0    49.0   145.0  23.3         0           0\n",
       "2  17.0           1.0    50.0   140.0  25.5         0           0\n",
       "3  17.0           1.0    50.0   145.0  23.8         0           0\n",
       "4  17.0           1.0    49.0   146.0  23.0         0           0"
      ]
     },
     "execution_count": 89,
     "metadata": {},
     "output_type": "execute_result"
    }
   ],
   "source": [
    "data.head()"
   ]
  },
  {
   "cell_type": "code",
   "execution_count": 90,
   "id": "d1eea88a-68e3-48f9-a384-27412778a265",
   "metadata": {},
   "outputs": [
    {
     "data": {
      "text/html": [
       "<div>\n",
       "<style scoped>\n",
       "    .dataframe tbody tr th:only-of-type {\n",
       "        vertical-align: middle;\n",
       "    }\n",
       "\n",
       "    .dataframe tbody tr th {\n",
       "        vertical-align: top;\n",
       "    }\n",
       "\n",
       "    .dataframe thead th {\n",
       "        text-align: right;\n",
       "    }\n",
       "</style>\n",
       "<table border=\"1\" class=\"dataframe\">\n",
       "  <thead>\n",
       "    <tr style=\"text-align: right;\">\n",
       "      <th></th>\n",
       "      <th>Age</th>\n",
       "      <th>Pregnancy No</th>\n",
       "      <th>Weight</th>\n",
       "      <th>Height</th>\n",
       "      <th>BMI</th>\n",
       "      <th>Heredity</th>\n",
       "      <th>Prediction</th>\n",
       "    </tr>\n",
       "  </thead>\n",
       "  <tbody>\n",
       "    <tr>\n",
       "      <th>count</th>\n",
       "      <td>1012.000000</td>\n",
       "      <td>1012.000000</td>\n",
       "      <td>1012.000000</td>\n",
       "      <td>1012.000000</td>\n",
       "      <td>1012.000000</td>\n",
       "      <td>1012.000000</td>\n",
       "      <td>1012.000000</td>\n",
       "    </tr>\n",
       "    <tr>\n",
       "      <th>mean</th>\n",
       "      <td>30.357708</td>\n",
       "      <td>2.517787</td>\n",
       "      <td>72.988142</td>\n",
       "      <td>158.154150</td>\n",
       "      <td>29.256818</td>\n",
       "      <td>0.226285</td>\n",
       "      <td>0.214427</td>\n",
       "    </tr>\n",
       "    <tr>\n",
       "      <th>std</th>\n",
       "      <td>7.022960</td>\n",
       "      <td>1.530656</td>\n",
       "      <td>12.552712</td>\n",
       "      <td>7.367421</td>\n",
       "      <td>5.092321</td>\n",
       "      <td>0.418632</td>\n",
       "      <td>0.410627</td>\n",
       "    </tr>\n",
       "    <tr>\n",
       "      <th>min</th>\n",
       "      <td>16.000000</td>\n",
       "      <td>1.000000</td>\n",
       "      <td>43.000000</td>\n",
       "      <td>135.000000</td>\n",
       "      <td>16.000000</td>\n",
       "      <td>0.000000</td>\n",
       "      <td>0.000000</td>\n",
       "    </tr>\n",
       "    <tr>\n",
       "      <th>25%</th>\n",
       "      <td>24.000000</td>\n",
       "      <td>1.000000</td>\n",
       "      <td>64.750000</td>\n",
       "      <td>153.000000</td>\n",
       "      <td>25.700000</td>\n",
       "      <td>0.000000</td>\n",
       "      <td>0.000000</td>\n",
       "    </tr>\n",
       "    <tr>\n",
       "      <th>50%</th>\n",
       "      <td>30.000000</td>\n",
       "      <td>2.000000</td>\n",
       "      <td>70.000000</td>\n",
       "      <td>158.000000</td>\n",
       "      <td>28.900000</td>\n",
       "      <td>0.000000</td>\n",
       "      <td>0.000000</td>\n",
       "    </tr>\n",
       "    <tr>\n",
       "      <th>75%</th>\n",
       "      <td>36.000000</td>\n",
       "      <td>3.000000</td>\n",
       "      <td>80.000000</td>\n",
       "      <td>164.000000</td>\n",
       "      <td>32.000000</td>\n",
       "      <td>0.000000</td>\n",
       "      <td>0.000000</td>\n",
       "    </tr>\n",
       "    <tr>\n",
       "      <th>max</th>\n",
       "      <td>45.000000</td>\n",
       "      <td>9.000000</td>\n",
       "      <td>126.000000</td>\n",
       "      <td>196.000000</td>\n",
       "      <td>54.300000</td>\n",
       "      <td>1.000000</td>\n",
       "      <td>1.000000</td>\n",
       "    </tr>\n",
       "  </tbody>\n",
       "</table>\n",
       "</div>"
      ],
      "text/plain": [
       "               Age  Pregnancy No       Weight       Height          BMI  \\\n",
       "count  1012.000000   1012.000000  1012.000000  1012.000000  1012.000000   \n",
       "mean     30.357708      2.517787    72.988142   158.154150    29.256818   \n",
       "std       7.022960      1.530656    12.552712     7.367421     5.092321   \n",
       "min      16.000000      1.000000    43.000000   135.000000    16.000000   \n",
       "25%      24.000000      1.000000    64.750000   153.000000    25.700000   \n",
       "50%      30.000000      2.000000    70.000000   158.000000    28.900000   \n",
       "75%      36.000000      3.000000    80.000000   164.000000    32.000000   \n",
       "max      45.000000      9.000000   126.000000   196.000000    54.300000   \n",
       "\n",
       "          Heredity   Prediction  \n",
       "count  1012.000000  1012.000000  \n",
       "mean      0.226285     0.214427  \n",
       "std       0.418632     0.410627  \n",
       "min       0.000000     0.000000  \n",
       "25%       0.000000     0.000000  \n",
       "50%       0.000000     0.000000  \n",
       "75%       0.000000     0.000000  \n",
       "max       1.000000     1.000000  "
      ]
     },
     "execution_count": 90,
     "metadata": {},
     "output_type": "execute_result"
    }
   ],
   "source": [
    "data.describe()"
   ]
  },
  {
   "cell_type": "code",
   "execution_count": 91,
   "id": "077f601a-4619-4089-a297-aafd0a22b5f9",
   "metadata": {},
   "outputs": [
    {
     "data": {
      "text/plain": [
       "(1012, 7)"
      ]
     },
     "execution_count": 91,
     "metadata": {},
     "output_type": "execute_result"
    }
   ],
   "source": [
    "data.shape"
   ]
  },
  {
   "cell_type": "code",
   "execution_count": 92,
   "id": "489368b2-04d7-42df-9877-8ba52ab770de",
   "metadata": {},
   "outputs": [
    {
     "name": "stdout",
     "output_type": "stream",
     "text": [
      "<class 'pandas.core.frame.DataFrame'>\n",
      "RangeIndex: 1012 entries, 0 to 1011\n",
      "Data columns (total 7 columns):\n",
      " #   Column        Non-Null Count  Dtype  \n",
      "---  ------        --------------  -----  \n",
      " 0   Age           1012 non-null   float64\n",
      " 1   Pregnancy No  1012 non-null   float64\n",
      " 2   Weight        1012 non-null   float64\n",
      " 3   Height        1012 non-null   float64\n",
      " 4   BMI           1012 non-null   float64\n",
      " 5   Heredity      1012 non-null   int64  \n",
      " 6   Prediction    1012 non-null   int64  \n",
      "dtypes: float64(5), int64(2)\n",
      "memory usage: 55.5 KB\n"
     ]
    }
   ],
   "source": [
    "data.info()"
   ]
  },
  {
   "cell_type": "code",
   "execution_count": 93,
   "id": "29342545-b8d4-4976-90f5-e04fae2b19a5",
   "metadata": {},
   "outputs": [
    {
     "data": {
      "text/plain": [
       "Age             0\n",
       "Pregnancy No    0\n",
       "Weight          0\n",
       "Height          0\n",
       "BMI             0\n",
       "Heredity        0\n",
       "Prediction      0\n",
       "dtype: int64"
      ]
     },
     "execution_count": 93,
     "metadata": {},
     "output_type": "execute_result"
    }
   ],
   "source": [
    "# get null values\n",
    "data.isnull().sum()"
   ]
  },
  {
   "cell_type": "code",
   "execution_count": 94,
   "id": "82994a63-f0f1-44ea-9b32-91291a283782",
   "metadata": {},
   "outputs": [
    {
     "data": {
      "text/plain": [
       "94"
      ]
     },
     "execution_count": 94,
     "metadata": {},
     "output_type": "execute_result"
    }
   ],
   "source": [
    "# get duplicates\n",
    "data.duplicated().sum()"
   ]
  },
  {
   "cell_type": "code",
   "execution_count": 95,
   "id": "94024085-8d15-483d-a3ef-4ed27f8bc1f3",
   "metadata": {},
   "outputs": [],
   "source": [
    "# drop duplicates\n",
    "data.drop_duplicates(inplace=True)"
   ]
  },
  {
   "cell_type": "code",
   "execution_count": 96,
   "id": "0c8ce9b1-cddb-43e9-8625-9ba43347e5e1",
   "metadata": {},
   "outputs": [
    {
     "data": {
      "text/plain": [
       "(918, 7)"
      ]
     },
     "execution_count": 96,
     "metadata": {},
     "output_type": "execute_result"
    }
   ],
   "source": [
    "data.shape"
   ]
  },
  {
   "cell_type": "code",
   "execution_count": 97,
   "id": "d6016c83-7524-43d2-a2b5-d4a348a068e7",
   "metadata": {},
   "outputs": [
    {
     "data": {
      "image/png": "[encoded data removed]",
      "text/plain": [
       "<Figure size 800x600 with 4 Axes>"
      ]
     },
     "metadata": {},
     "output_type": "display_data"
    }
   ],
   "source": [
    "# get outliers\n",
    "\n",
    "# Create a 2x2 grid of plots\n",
    "fig, axes = plt.subplots(2, 2, figsize=(8, 6))\n",
    "\n",
    "# Plot the first box plot (Age) in the first subplot\n",
    "axes[0, 0].boxplot(data['Age'])\n",
    "axes[0, 0].set_title('Age')\n",
    "\n",
    "# Plot the second box plot (Weight) in the second subplot\n",
    "axes[0, 1].boxplot(data['Weight'])\n",
    "axes[0, 1].set_title('Weight')\n",
    "\n",
    "# Plot the third box plot (Height) in the third subplot\n",
    "axes[1, 0].boxplot(data['Height'])\n",
    "axes[1, 0].set_title('Height')\n",
    "\n",
    "# Plot the fourth box plot (BMI) in the fourth subplot\n",
    "axes[1, 1].boxplot(data['BMI'])\n",
    "axes[1, 1].set_title('BMI')\n",
    "\n",
    "# Adjust layout to prevent overlap\n",
    "plt.tight_layout()\n",
    "\n",
    "# Show the plots\n",
    "plt.show()\n"
   ]
  },
  {
   "cell_type": "code",
   "execution_count": 98,
   "id": "24af4ee9-01c9-484a-ab7b-f5418b299402",
   "metadata": {},
   "outputs": [],
   "source": [
    "# remove outliers\n",
    "def remove_outliers(col, df):\n",
    "    Q1 = df[col].quantile(0.25)\n",
    "    Q3 = df[col].quantile(0.75)\n",
    "\n",
    "    IQR = Q3 - Q1\n",
    "\n",
    "    lower_bound = Q1 - 1.5 * IQR\n",
    "    upper_bound = Q3 + 1.5 * IQR\n",
    "\n",
    "    return df[(df[col] >= lower_bound) & (df[col] <= upper_bound)]\n",
    "  \n",
    "\n",
    "data = remove_outliers('Age', data)\n",
    "data = remove_outliers('Weight', data)\n",
    "data = remove_outliers('Height', data)\n",
    "data = remove_outliers('BMI', data)"
   ]
  },
  {
   "cell_type": "code",
   "execution_count": 99,
   "id": "069a5fc2-e67f-4a64-afde-c695765d09ab",
   "metadata": {},
   "outputs": [
    {
     "data": {
      "image/png": "[encoded data removed]",
      "text/plain": [
       "<Figure size 800x600 with 4 Axes>"
      ]
     },
     "metadata": {},
     "output_type": "display_data"
    }
   ],
   "source": [
    "# Create a 2x2 grid of plots\n",
    "fig, axes = plt.subplots(2, 2, figsize=(8, 6))\n",
    "\n",
    "# Plot the first box plot (Age) in the first subplot\n",
    "axes[0, 0].boxplot(data['Age'])\n",
    "axes[0, 0].set_title('Age')\n",
    "\n",
    "# Plot the second box plot (Weight) in the second subplot\n",
    "axes[0, 1].boxplot(data['Weight'])\n",
    "axes[0, 1].set_title('Weight')\n",
    "\n",
    "# Plot the third box plot (Height) in the third subplot\n",
    "axes[1, 0].boxplot(data['Height'])\n",
    "axes[1, 0].set_title('Height')\n",
    "\n",
    "# Plot the fourth box plot (BMI) in the fourth subplot\n",
    "axes[1, 1].boxplot(data['BMI'])\n",
    "axes[1, 1].set_title('BMI')\n",
    "\n",
    "# Adjust layout to prevent overlap\n",
    "plt.tight_layout()\n",
    "\n",
    "# Show the plots\n",
    "plt.show()"
   ]
  },
  {
   "cell_type": "code",
   "execution_count": 100,
   "id": "2978e8ee-2c95-4fef-82fb-555b295ace80",
   "metadata": {},
   "outputs": [
    {
     "data": {
      "image/png": "[encoded data removed]",
      "text/plain": [
       "<Figure size 640x480 with 1 Axes>"
      ]
     },
     "metadata": {},
     "output_type": "display_data"
    }
   ],
   "source": [
    "# plot bar plot get diabetes positive in the perticuler age\n",
    "df=data[data['Prediction']==1].groupby('Age').sum()\n",
    "sns.barplot(data=df, x='Age', y=\"Prediction\")\n",
    "plt.xticks(rotation='vertical')\n",
    "plt.show()"
   ]
  },
  {
   "cell_type": "code",
   "execution_count": 101,
   "id": "b76ad6c4-e4f8-4664-9d7e-92c51f37766b",
   "metadata": {},
   "outputs": [
    {
     "data": {
      "image/png": "[encoded data removed]",
      "text/plain": [
       "<Figure size 640x480 with 1 Axes>"
      ]
     },
     "metadata": {},
     "output_type": "display_data"
    }
   ],
   "source": [
    "sns.histplot(data['BMI'], kde=True)\n",
    "plt.xlabel('BMI')\n",
    "plt.ylabel('Frequency')\n",
    "plt.show()"
   ]
  },
  {
   "cell_type": "code",
   "execution_count": 102,
   "id": "54bc0409-33ba-4c16-b395-625159d1ff28",
   "metadata": {},
   "outputs": [
    {
     "data": {
      "text/plain": [
       "Index(['Age', 'Pregnancy No', 'Weight', 'Height', 'BMI', 'Heredity',\n",
       "       'Prediction'],\n",
       "      dtype='object')"
      ]
     },
     "execution_count": 102,
     "metadata": {},
     "output_type": "execute_result"
    }
   ],
   "source": [
    "data.columns"
   ]
  },
  {
   "cell_type": "code",
   "execution_count": 103,
   "id": "d85245bf-5375-4ec2-8fb6-7a15de2d0e62",
   "metadata": {},
   "outputs": [
    {
     "data": {
      "text/plain": [
       "<Axes: >"
      ]
     },
     "execution_count": 103,
     "metadata": {},
     "output_type": "execute_result"
    },
    {
     "data": {
      "image/png": "[encoded data removed]",
      "text/plain": [
       "<Figure size 640x480 with 2 Axes>"
      ]
     },
     "metadata": {},
     "output_type": "display_data"
    }
   ],
   "source": [
    "# Calculate the correlation between 'Age', 'Weight', 'Height', and 'BMI'. Which pair of variables are most strongly correlated??\n",
    "corr_relations = data[['Age', 'Weight', 'Height', 'BMI']].corr()\n",
    "sns.heatmap(corr_relations, annot=True)"
   ]
  },
  {
   "cell_type": "code",
   "execution_count": 104,
   "id": "61ff946a-6545-42c3-a56e-a6f991a84dc9",
   "metadata": {},
   "outputs": [
    {
     "data": {
      "text/html": [
       "<div>\n",
       "<style scoped>\n",
       "    .dataframe tbody tr th:only-of-type {\n",
       "        vertical-align: middle;\n",
       "    }\n",
       "\n",
       "    .dataframe tbody tr th {\n",
       "        vertical-align: top;\n",
       "    }\n",
       "\n",
       "    .dataframe thead th {\n",
       "        text-align: right;\n",
       "    }\n",
       "</style>\n",
       "<table border=\"1\" class=\"dataframe\">\n",
       "  <thead>\n",
       "    <tr style=\"text-align: right;\">\n",
       "      <th></th>\n",
       "      <th>Age</th>\n",
       "      <th>Pregnancy No</th>\n",
       "      <th>Weight</th>\n",
       "      <th>Height</th>\n",
       "      <th>BMI</th>\n",
       "      <th>Heredity</th>\n",
       "      <th>Prediction</th>\n",
       "    </tr>\n",
       "  </thead>\n",
       "  <tbody>\n",
       "    <tr>\n",
       "      <th>146</th>\n",
       "      <td>31.0</td>\n",
       "      <td>1.0</td>\n",
       "      <td>69.0</td>\n",
       "      <td>165.0</td>\n",
       "      <td>25.3</td>\n",
       "      <td>0</td>\n",
       "      <td>0</td>\n",
       "    </tr>\n",
       "    <tr>\n",
       "      <th>149</th>\n",
       "      <td>32.0</td>\n",
       "      <td>1.0</td>\n",
       "      <td>69.0</td>\n",
       "      <td>165.0</td>\n",
       "      <td>25.3</td>\n",
       "      <td>0</td>\n",
       "      <td>0</td>\n",
       "    </tr>\n",
       "    <tr>\n",
       "      <th>159</th>\n",
       "      <td>31.0</td>\n",
       "      <td>1.0</td>\n",
       "      <td>73.0</td>\n",
       "      <td>155.0</td>\n",
       "      <td>30.4</td>\n",
       "      <td>0</td>\n",
       "      <td>0</td>\n",
       "    </tr>\n",
       "    <tr>\n",
       "      <th>161</th>\n",
       "      <td>31.0</td>\n",
       "      <td>1.0</td>\n",
       "      <td>71.0</td>\n",
       "      <td>154.0</td>\n",
       "      <td>29.9</td>\n",
       "      <td>0</td>\n",
       "      <td>0</td>\n",
       "    </tr>\n",
       "    <tr>\n",
       "      <th>162</th>\n",
       "      <td>32.0</td>\n",
       "      <td>1.0</td>\n",
       "      <td>70.0</td>\n",
       "      <td>146.0</td>\n",
       "      <td>32.8</td>\n",
       "      <td>0</td>\n",
       "      <td>0</td>\n",
       "    </tr>\n",
       "    <tr>\n",
       "      <th>...</th>\n",
       "      <td>...</td>\n",
       "      <td>...</td>\n",
       "      <td>...</td>\n",
       "      <td>...</td>\n",
       "      <td>...</td>\n",
       "      <td>...</td>\n",
       "      <td>...</td>\n",
       "    </tr>\n",
       "    <tr>\n",
       "      <th>1005</th>\n",
       "      <td>37.0</td>\n",
       "      <td>2.0</td>\n",
       "      <td>92.0</td>\n",
       "      <td>157.0</td>\n",
       "      <td>37.3</td>\n",
       "      <td>0</td>\n",
       "      <td>1</td>\n",
       "    </tr>\n",
       "    <tr>\n",
       "      <th>1006</th>\n",
       "      <td>34.0</td>\n",
       "      <td>3.0</td>\n",
       "      <td>90.0</td>\n",
       "      <td>155.0</td>\n",
       "      <td>37.5</td>\n",
       "      <td>0</td>\n",
       "      <td>0</td>\n",
       "    </tr>\n",
       "    <tr>\n",
       "      <th>1007</th>\n",
       "      <td>35.0</td>\n",
       "      <td>3.0</td>\n",
       "      <td>89.0</td>\n",
       "      <td>159.0</td>\n",
       "      <td>35.2</td>\n",
       "      <td>1</td>\n",
       "      <td>1</td>\n",
       "    </tr>\n",
       "    <tr>\n",
       "      <th>1008</th>\n",
       "      <td>41.0</td>\n",
       "      <td>4.0</td>\n",
       "      <td>87.0</td>\n",
       "      <td>165.0</td>\n",
       "      <td>32.0</td>\n",
       "      <td>0</td>\n",
       "      <td>0</td>\n",
       "    </tr>\n",
       "    <tr>\n",
       "      <th>1009</th>\n",
       "      <td>34.0</td>\n",
       "      <td>2.0</td>\n",
       "      <td>67.0</td>\n",
       "      <td>160.0</td>\n",
       "      <td>26.2</td>\n",
       "      <td>1</td>\n",
       "      <td>0</td>\n",
       "    </tr>\n",
       "  </tbody>\n",
       "</table>\n",
       "<p>392 rows × 7 columns</p>\n",
       "</div>"
      ],
      "text/plain": [
       "       Age  Pregnancy No  Weight  Height   BMI  Heredity  Prediction\n",
       "146   31.0           1.0    69.0   165.0  25.3         0           0\n",
       "149   32.0           1.0    69.0   165.0  25.3         0           0\n",
       "159   31.0           1.0    73.0   155.0  30.4         0           0\n",
       "161   31.0           1.0    71.0   154.0  29.9         0           0\n",
       "162   32.0           1.0    70.0   146.0  32.8         0           0\n",
       "...    ...           ...     ...     ...   ...       ...         ...\n",
       "1005  37.0           2.0    92.0   157.0  37.3         0           1\n",
       "1006  34.0           3.0    90.0   155.0  37.5         0           0\n",
       "1007  35.0           3.0    89.0   159.0  35.2         1           1\n",
       "1008  41.0           4.0    87.0   165.0  32.0         0           0\n",
       "1009  34.0           2.0    67.0   160.0  26.2         1           0\n",
       "\n",
       "[392 rows x 7 columns]"
      ]
     },
     "execution_count": 104,
     "metadata": {},
     "output_type": "execute_result"
    }
   ],
   "source": [
    "# Filter the dataset to show records where the 'Age' is above 30 and the 'BMI' is greater than 25.\n",
    "data[(data['Age'] > 30) & (data['BMI'] > 25)]"
   ]
  },
  {
   "cell_type": "code",
   "execution_count": 105,
   "id": "a6009d8f-086b-47dc-bf28-ee1e9b0ddbf3",
   "metadata": {},
   "outputs": [
    {
     "data": {
      "text/html": [
       "<div>\n",
       "<style scoped>\n",
       "    .dataframe tbody tr th:only-of-type {\n",
       "        vertical-align: middle;\n",
       "    }\n",
       "\n",
       "    .dataframe tbody tr th {\n",
       "        vertical-align: top;\n",
       "    }\n",
       "\n",
       "    .dataframe thead th {\n",
       "        text-align: right;\n",
       "    }\n",
       "</style>\n",
       "<table border=\"1\" class=\"dataframe\">\n",
       "  <thead>\n",
       "    <tr style=\"text-align: right;\">\n",
       "      <th></th>\n",
       "      <th>Age</th>\n",
       "      <th>Pregnancy No</th>\n",
       "      <th>Weight</th>\n",
       "      <th>Height</th>\n",
       "      <th>BMI</th>\n",
       "      <th>Heredity</th>\n",
       "    </tr>\n",
       "    <tr>\n",
       "      <th>Prediction</th>\n",
       "      <th></th>\n",
       "      <th></th>\n",
       "      <th></th>\n",
       "      <th></th>\n",
       "      <th></th>\n",
       "      <th></th>\n",
       "    </tr>\n",
       "  </thead>\n",
       "  <tbody>\n",
       "    <tr>\n",
       "      <th>0</th>\n",
       "      <td>88</td>\n",
       "      <td>88</td>\n",
       "      <td>88</td>\n",
       "      <td>88</td>\n",
       "      <td>88</td>\n",
       "      <td>88</td>\n",
       "    </tr>\n",
       "    <tr>\n",
       "      <th>1</th>\n",
       "      <td>120</td>\n",
       "      <td>120</td>\n",
       "      <td>120</td>\n",
       "      <td>120</td>\n",
       "      <td>120</td>\n",
       "      <td>120</td>\n",
       "    </tr>\n",
       "  </tbody>\n",
       "</table>\n",
       "</div>"
      ],
      "text/plain": [
       "            Age  Pregnancy No  Weight  Height  BMI  Heredity\n",
       "Prediction                                                  \n",
       "0            88            88      88      88   88        88\n",
       "1           120           120     120     120  120       120"
      ]
     },
     "execution_count": 105,
     "metadata": {},
     "output_type": "execute_result"
    }
   ],
   "source": [
    "# Find all records where 'Heredity' is 'Yes' and the 'Prediction' is 'High Risk'.\n",
    "df=data[data['Heredity'] == 1].groupby('Prediction').count()\n",
    "df"
   ]
  },
  {
   "cell_type": "code",
   "execution_count": 106,
   "id": "9304dfd1-14bf-48bc-9da0-69536da08ddb",
   "metadata": {},
   "outputs": [
    {
     "data": {
      "application/vnd.plotly.v1+json": {
       "config": {
        "plotlyServerURL": "https://plot.ly"
       },
       "data": [
        {
         "domain": {
          "x": [
           0,
           1
          ],
          "y": [
           0,
           1
          ]
         },
         "hole": 0,
         "hovertemplate": "value=%{value}<extra></extra>",
         "legendgroup": "",
         "name": "",
         "showlegend": false,
         "type": "pie",
         "values": [
          88,
          120
         ]
        }
       ],
       "layout": {
        "autosize": true,
        "legend": {
         "tracegroupgap": 0
        },
        "margin": {
         "t": 60
        },
        "template": {
         "data": {
          "bar": [
           {
            "error_x": {
             "color": "#2a3f5f"
            },
            "error_y": {
             "color": "#2a3f5f"
            },
            "marker": {
             "line": {
              "color": "#E5ECF6",
              "width": 0.5
             },
             "pattern": {
              "fillmode": "overlay",
              "size": 10,
              "solidity": 0.2
             }
            },
            "type": "bar"
           }
          ],
          "barpolar": [
           {
            "marker": {
             "line": {
              "color": "#E5ECF6",
              "width": 0.5
             },
             "pattern": {
              "fillmode": "overlay",
              "size": 10,
              "solidity": 0.2
             }
            },
            "type": "barpolar"
           }
          ],
          "carpet": [
           {
            "aaxis": {
             "endlinecolor": "#2a3f5f",
             "gridcolor": "white",
             "linecolor": "white",
             "minorgridcolor": "white",
             "startlinecolor": "#2a3f5f"
            },
            "baxis": {
             "endlinecolor": "#2a3f5f",
             "gridcolor": "white",
             "linecolor": "white",
             "minorgridcolor": "white",
             "startlinecolor": "#2a3f5f"
            },
            "type": "carpet"
           }
          ],
          "choropleth": [
           {
            "colorbar": {
             "outlinewidth": 0,
             "ticks": ""
            },
            "type": "choropleth"
           }
          ],
          "contour": [
           {
            "colorbar": {
             "outlinewidth": 0,
             "ticks": ""
            },
            "colorscale": [
             [
              0,
              "#0d0887"
             ],
             [
              0.1111111111111111,
              "#46039f"
             ],
             [
              0.2222222222222222,
              "#7201a8"
             ],
             [
              0.3333333333333333,
              "#9c179e"
             ],
             [
              0.4444444444444444,
              "#bd3786"
             ],
             [
              0.5555555555555556,
              "#d8576b"
             ],
             [
              0.6666666666666666,
              "#ed7953"
             ],
             [
              0.7777777777777778,
              "#fb9f3a"
             ],
             [
              0.8888888888888888,
              "#fdca26"
             ],
             [
              1,
              "#f0f921"
             ]
            ],
            "type": "contour"
           }
          ],
          "contourcarpet": [
           {
            "colorbar": {
             "outlinewidth": 0,
             "ticks": ""
            },
            "type": "contourcarpet"
           }
          ],
          "heatmap": [
           {
            "colorbar": {
             "outlinewidth": 0,
             "ticks": ""
            },
            "colorscale": [
             [
              0,
              "#0d0887"
             ],
             [
              0.1111111111111111,
              "#46039f"
             ],
             [
              0.2222222222222222,
              "#7201a8"
             ],
             [
              0.3333333333333333,
              "#9c179e"
             ],
             [
              0.4444444444444444,
              "#bd3786"
             ],
             [
              0.5555555555555556,
              "#d8576b"
             ],
             [
              0.6666666666666666,
              "#ed7953"
             ],
             [
              0.7777777777777778,
              "#fb9f3a"
             ],
             [
              0.8888888888888888,
              "#fdca26"
             ],
             [
              1,
              "#f0f921"
             ]
            ],
            "type": "heatmap"
           }
          ],
          "heatmapgl": [
           {
            "colorbar": {
             "outlinewidth": 0,
             "ticks": ""
            },
            "colorscale": [
             [
              0,
              "#0d0887"
             ],
             [
              0.1111111111111111,
              "#46039f"
             ],
             [
              0.2222222222222222,
              "#7201a8"
             ],
             [
              0.3333333333333333,
              "#9c179e"
             ],
             [
              0.4444444444444444,
              "#bd3786"
             ],
             [
              0.5555555555555556,
              "#d8576b"
             ],
             [
              0.6666666666666666,
              "#ed7953"
             ],
             [
              0.7777777777777778,
              "#fb9f3a"
             ],
             [
              0.8888888888888888,
              "#fdca26"
             ],
             [
              1,
              "#f0f921"
             ]
            ],
            "type": "heatmapgl"
           }
          ],
          "histogram": [
           {
            "marker": {
             "pattern": {
              "fillmode": "overlay",
              "size": 10,
              "solidity": 0.2
             }
            },
            "type": "histogram"
           }
          ],
          "histogram2d": [
           {
            "colorbar": {
             "outlinewidth": 0,
             "ticks": ""
            },
            "colorscale": [
             [
              0,
              "#0d0887"
             ],
             [
              0.1111111111111111,
              "#46039f"
             ],
             [
              0.2222222222222222,
              "#7201a8"
             ],
             [
              0.3333333333333333,
              "#9c179e"
             ],
             [
              0.4444444444444444,
              "#bd3786"
             ],
             [
              0.5555555555555556,
              "#d8576b"
             ],
             [
              0.6666666666666666,
              "#ed7953"
             ],
             [
              0.7777777777777778,
              "#fb9f3a"
             ],
             [
              0.8888888888888888,
              "#fdca26"
             ],
             [
              1,
              "#f0f921"
             ]
            ],
            "type": "histogram2d"
           }
          ],
          "histogram2dcontour": [
           {
            "colorbar": {
             "outlinewidth": 0,
             "ticks": ""
            },
            "colorscale": [
             [
              0,
              "#0d0887"
             ],
             [
              0.1111111111111111,
              "#46039f"
             ],
             [
              0.2222222222222222,
              "#7201a8"
             ],
             [
              0.3333333333333333,
              "#9c179e"
             ],
             [
              0.4444444444444444,
              "#bd3786"
             ],
             [
              0.5555555555555556,
              "#d8576b"
             ],
             [
              0.6666666666666666,
              "#ed7953"
             ],
             [
              0.7777777777777778,
              "#fb9f3a"
             ],
             [
              0.8888888888888888,
              "#fdca26"
             ],
             [
              1,
              "#f0f921"
             ]
            ],
            "type": "histogram2dcontour"
           }
          ],
          "mesh3d": [
           {
            "colorbar": {
             "outlinewidth": 0,
             "ticks": ""
            },
            "type": "mesh3d"
           }
          ],
          "parcoords": [
           {
            "line": {
             "colorbar": {
              "outlinewidth": 0,
              "ticks": ""
             }
            },
            "type": "parcoords"
           }
          ],
          "pie": [
           {
            "automargin": true,
            "type": "pie"
           }
          ],
          "scatter": [
           {
            "fillpattern": {
             "fillmode": "overlay",
             "size": 10,
             "solidity": 0.2
            },
            "type": "scatter"
           }
          ],
          "scatter3d": [
           {
            "line": {
             "colorbar": {
              "outlinewidth": 0,
              "ticks": ""
             }
            },
            "marker": {
             "colorbar": {
              "outlinewidth": 0,
              "ticks": ""
             }
            },
            "type": "scatter3d"
           }
          ],
          "scattercarpet": [
           {
            "marker": {
             "colorbar": {
              "outlinewidth": 0,
              "ticks": ""
             }
            },
            "type": "scattercarpet"
           }
          ],
          "scattergeo": [
           {
            "marker": {
             "colorbar": {
              "outlinewidth": 0,
              "ticks": ""
             }
            },
            "type": "scattergeo"
           }
          ],
          "scattergl": [
           {
            "marker": {
             "colorbar": {
              "outlinewidth": 0,
              "ticks": ""
             }
            },
            "type": "scattergl"
           }
          ],
          "scattermapbox": [
           {
            "marker": {
             "colorbar": {
              "outlinewidth": 0,
              "ticks": ""
             }
            },
            "type": "scattermapbox"
           }
          ],
          "scatterpolar": [
           {
            "marker": {
             "colorbar": {
              "outlinewidth": 0,
              "ticks": ""
             }
            },
            "type": "scatterpolar"
           }
          ],
          "scatterpolargl": [
           {
            "marker": {
             "colorbar": {
              "outlinewidth": 0,
              "ticks": ""
             }
            },
            "type": "scatterpolargl"
           }
          ],
          "scatterternary": [
           {
            "marker": {
             "colorbar": {
              "outlinewidth": 0,
              "ticks": ""
             }
            },
            "type": "scatterternary"
           }
          ],
          "surface": [
           {
            "colorbar": {
             "outlinewidth": 0,
             "ticks": ""
            },
            "colorscale": [
             [
              0,
              "#0d0887"
             ],
             [
              0.1111111111111111,
              "#46039f"
             ],
             [
              0.2222222222222222,
              "#7201a8"
             ],
             [
              0.3333333333333333,
              "#9c179e"
             ],
             [
              0.4444444444444444,
              "#bd3786"
             ],
             [
              0.5555555555555556,
              "#d8576b"
             ],
             [
              0.6666666666666666,
              "#ed7953"
             ],
             [
              0.7777777777777778,
              "#fb9f3a"
             ],
             [
              0.8888888888888888,
              "#fdca26"
             ],
             [
              1,
              "#f0f921"
             ]
            ],
            "type": "surface"
           }
          ],
          "table": [
           {
            "cells": {
             "fill": {
              "color": "#EBF0F8"
             },
             "line": {
              "color": "white"
             }
            },
            "header": {
             "fill": {
              "color": "#C8D4E3"
             },
             "line": {
              "color": "white"
             }
            },
            "type": "table"
           }
          ]
         },
         "layout": {
          "annotationdefaults": {
           "arrowcolor": "#2a3f5f",
           "arrowhead": 0,
           "arrowwidth": 1
          },
          "autotypenumbers": "strict",
          "coloraxis": {
           "colorbar": {
            "outlinewidth": 0,
            "ticks": ""
           }
          },
          "colorscale": {
           "diverging": [
            [
             0,
             "#8e0152"
            ],
            [
             0.1,
             "#c51b7d"
            ],
            [
             0.2,
             "#de77ae"
            ],
            [
             0.3,
             "#f1b6da"
            ],
            [
             0.4,
             "#fde0ef"
            ],
            [
             0.5,
             "#f7f7f7"
            ],
            [
             0.6,
             "#e6f5d0"
            ],
            [
             0.7,
             "#b8e186"
            ],
            [
             0.8,
             "#7fbc41"
            ],
            [
             0.9,
             "#4d9221"
            ],
            [
             1,
             "#276419"
            ]
           ],
           "sequential": [
            [
             0,
             "#0d0887"
            ],
            [
             0.1111111111111111,
             "#46039f"
            ],
            [
             0.2222222222222222,
             "#7201a8"
            ],
            [
             0.3333333333333333,
             "#9c179e"
            ],
            [
             0.4444444444444444,
             "#bd3786"
            ],
            [
             0.5555555555555556,
             "#d8576b"
            ],
            [
             0.6666666666666666,
             "#ed7953"
            ],
            [
             0.7777777777777778,
             "#fb9f3a"
            ],
            [
             0.8888888888888888,
             "#fdca26"
            ],
            [
             1,
             "#f0f921"
            ]
           ],
           "sequentialminus": [
            [
             0,
             "#0d0887"
            ],
            [
             0.1111111111111111,
             "#46039f"
            ],
            [
             0.2222222222222222,
             "#7201a8"
            ],
            [
             0.3333333333333333,
             "#9c179e"
            ],
            [
             0.4444444444444444,
             "#bd3786"
            ],
            [
             0.5555555555555556,
             "#d8576b"
            ],
            [
             0.6666666666666666,
             "#ed7953"
            ],
            [
             0.7777777777777778,
             "#fb9f3a"
            ],
            [
             0.8888888888888888,
             "#fdca26"
            ],
            [
             1,
             "#f0f921"
            ]
           ]
          },
          "colorway": [
           "#636efa",
           "#EF553B",
           "#00cc96",
           "#ab63fa",
           "#FFA15A",
           "#19d3f3",
           "#FF6692",
           "#B6E880",
           "#FF97FF",
           "#FECB52"
          ],
          "font": {
           "color": "#2a3f5f"
          },
          "geo": {
           "bgcolor": "white",
           "lakecolor": "white",
           "landcolor": "#E5ECF6",
           "showlakes": true,
           "showland": true,
           "subunitcolor": "white"
          },
          "hoverlabel": {
           "align": "left"
          },
          "hovermode": "closest",
          "mapbox": {
           "style": "light"
          },
          "paper_bgcolor": "white",
          "plot_bgcolor": "#E5ECF6",
          "polar": {
           "angularaxis": {
            "gridcolor": "white",
            "linecolor": "white",
            "ticks": ""
           },
           "bgcolor": "#E5ECF6",
           "radialaxis": {
            "gridcolor": "white",
            "linecolor": "white",
            "ticks": ""
           }
          },
          "scene": {
           "xaxis": {
            "backgroundcolor": "#E5ECF6",
            "gridcolor": "white",
            "gridwidth": 2,
            "linecolor": "white",
            "showbackground": true,
            "ticks": "",
            "zerolinecolor": "white"
           },
           "yaxis": {
            "backgroundcolor": "#E5ECF6",
            "gridcolor": "white",
            "gridwidth": 2,
            "linecolor": "white",
            "showbackground": true,
            "ticks": "",
            "zerolinecolor": "white"
           },
           "zaxis": {
            "backgroundcolor": "#E5ECF6",
            "gridcolor": "white",
            "gridwidth": 2,
            "linecolor": "white",
            "showbackground": true,
            "ticks": "",
            "zerolinecolor": "white"
           }
          },
          "shapedefaults": {
           "line": {
            "color": "#2a3f5f"
           }
          },
          "ternary": {
           "aaxis": {
            "gridcolor": "white",
            "linecolor": "white",
            "ticks": ""
           },
           "baxis": {
            "gridcolor": "white",
            "linecolor": "white",
            "ticks": ""
           },
           "bgcolor": "#E5ECF6",
           "caxis": {
            "gridcolor": "white",
            "linecolor": "white",
            "ticks": ""
           }
          },
          "title": {
           "x": 0.05
          },
          "xaxis": {
           "automargin": true,
           "gridcolor": "white",
           "linecolor": "white",
           "ticks": "",
           "title": {
            "standoff": 15
           },
           "zerolinecolor": "white",
           "zerolinewidth": 2
          },
          "yaxis": {
           "automargin": true,
           "gridcolor": "white",
           "linecolor": "white",
           "ticks": "",
           "title": {
            "standoff": 15
           },
           "zerolinecolor": "white",
           "zerolinewidth": 2
          }
         }
        }
       }
      },
      "image/png": "[encoded data removed]",
      "text/html": [
       "<div>                            <div id=\"f1b0934e-8e33-44b5-a1d4-1679e2754424\" class=\"plotly-graph-div\" style=\"height:525px; width:100%;\"></div>            <script type=\"text/javascript\">                require([\"plotly\"], function(Plotly) {                    window.PLOTLYENV=window.PLOTLYENV || {};                                    if (document.getElementById(\"f1b0934e-8e33-44b5-a1d4-1679e2754424\")) {                    Plotly.newPlot(                        \"f1b0934e-8e33-44b5-a1d4-1679e2754424\",                        [{\"domain\":{\"x\":[0.0,1.0],\"y\":[0.0,1.0]},\"hole\":0.0,\"hovertemplate\":\"value=%{value}\\u003cextra\\u003e\\u003c\\u002fextra\\u003e\",\"legendgroup\":\"\",\"name\":\"\",\"showlegend\":false,\"values\":[88,120],\"type\":\"pie\"}],                        {\"template\":{\"data\":{\"histogram2dcontour\":[{\"type\":\"histogram2dcontour\",\"colorbar\":{\"outlinewidth\":0,\"ticks\":\"\"},\"colorscale\":[[0.0,\"#0d0887\"],[0.1111111111111111,\"#46039f\"],[0.2222222222222222,\"#7201a8\"],[0.3333333333333333,\"#9c179e\"],[0.4444444444444444,\"#bd3786\"],[0.5555555555555556,\"#d8576b\"],[0.6666666666666666,\"#ed7953\"],[0.7777777777777778,\"#fb9f3a\"],[0.8888888888888888,\"#fdca26\"],[1.0,\"#f0f921\"]]}],\"choropleth\":[{\"type\":\"choropleth\",\"colorbar\":{\"outlinewidth\":0,\"ticks\":\"\"}}],\"histogram2d\":[{\"type\":\"histogram2d\",\"colorbar\":{\"outlinewidth\":0,\"ticks\":\"\"},\"colorscale\":[[0.0,\"#0d0887\"],[0.1111111111111111,\"#46039f\"],[0.2222222222222222,\"#7201a8\"],[0.3333333333333333,\"#9c179e\"],[0.4444444444444444,\"#bd3786\"],[0.5555555555555556,\"#d8576b\"],[0.6666666666666666,\"#ed7953\"],[0.7777777777777778,\"#fb9f3a\"],[0.8888888888888888,\"#fdca26\"],[1.0,\"#f0f921\"]]}],\"heatmap\":[{\"type\":\"heatmap\",\"colorbar\":{\"outlinewidth\":0,\"ticks\":\"\"},\"colorscale\":[[0.0,\"#0d0887\"],[0.1111111111111111,\"#46039f\"],[0.2222222222222222,\"#7201a8\"],[0.3333333333333333,\"#9c179e\"],[0.4444444444444444,\"#bd3786\"],[0.5555555555555556,\"#d8576b\"],[0.6666666666666666,\"#ed7953\"],[0.7777777777777778,\"#fb9f3a\"],[0.8888888888888888,\"#fdca26\"],[1.0,\"#f0f921\"]]}],\"heatmapgl\":[{\"type\":\"heatmapgl\",\"colorbar\":{\"outlinewidth\":0,\"ticks\":\"\"},\"colorscale\":[[0.0,\"#0d0887\"],[0.1111111111111111,\"#46039f\"],[0.2222222222222222,\"#7201a8\"],[0.3333333333333333,\"#9c179e\"],[0.4444444444444444,\"#bd3786\"],[0.5555555555555556,\"#d8576b\"],[0.6666666666666666,\"#ed7953\"],[0.7777777777777778,\"#fb9f3a\"],[0.8888888888888888,\"#fdca26\"],[1.0,\"#f0f921\"]]}],\"contourcarpet\":[{\"type\":\"contourcarpet\",\"colorbar\":{\"outlinewidth\":0,\"ticks\":\"\"}}],\"contour\":[{\"type\":\"contour\",\"colorbar\":{\"outlinewidth\":0,\"ticks\":\"\"},\"colorscale\":[[0.0,\"#0d0887\"],[0.1111111111111111,\"#46039f\"],[0.2222222222222222,\"#7201a8\"],[0.3333333333333333,\"#9c179e\"],[0.4444444444444444,\"#bd3786\"],[0.5555555555555556,\"#d8576b\"],[0.6666666666666666,\"#ed7953\"],[0.7777777777777778,\"#fb9f3a\"],[0.8888888888888888,\"#fdca26\"],[1.0,\"#f0f921\"]]}],\"surface\":[{\"type\":\"surface\",\"colorbar\":{\"outlinewidth\":0,\"ticks\":\"\"},\"colorscale\":[[0.0,\"#0d0887\"],[0.1111111111111111,\"#46039f\"],[0.2222222222222222,\"#7201a8\"],[0.3333333333333333,\"#9c179e\"],[0.4444444444444444,\"#bd3786\"],[0.5555555555555556,\"#d8576b\"],[0.6666666666666666,\"#ed7953\"],[0.7777777777777778,\"#fb9f3a\"],[0.8888888888888888,\"#fdca26\"],[1.0,\"#f0f921\"]]}],\"mesh3d\":[{\"type\":\"mesh3d\",\"colorbar\":{\"outlinewidth\":0,\"ticks\":\"\"}}],\"scatter\":[{\"fillpattern\":{\"fillmode\":\"overlay\",\"size\":10,\"solidity\":0.2},\"type\":\"scatter\"}],\"parcoords\":[{\"type\":\"parcoords\",\"line\":{\"colorbar\":{\"outlinewidth\":0,\"ticks\":\"\"}}}],\"scatterpolargl\":[{\"type\":\"scatterpolargl\",\"marker\":{\"colorbar\":{\"outlinewidth\":0,\"ticks\":\"\"}}}],\"bar\":[{\"error_x\":{\"color\":\"#2a3f5f\"},\"error_y\":{\"color\":\"#2a3f5f\"},\"marker\":{\"line\":{\"color\":\"#E5ECF6\",\"width\":0.5},\"pattern\":{\"fillmode\":\"overlay\",\"size\":10,\"solidity\":0.2}},\"type\":\"bar\"}],\"scattergeo\":[{\"type\":\"scattergeo\",\"marker\":{\"colorbar\":{\"outlinewidth\":0,\"ticks\":\"\"}}}],\"scatterpolar\":[{\"type\":\"scatterpolar\",\"marker\":{\"colorbar\":{\"outlinewidth\":0,\"ticks\":\"\"}}}],\"histogram\":[{\"marker\":{\"pattern\":{\"fillmode\":\"overlay\",\"size\":10,\"solidity\":0.2}},\"type\":\"histogram\"}],\"scattergl\":[{\"type\":\"scattergl\",\"marker\":{\"colorbar\":{\"outlinewidth\":0,\"ticks\":\"\"}}}],\"scatter3d\":[{\"type\":\"scatter3d\",\"line\":{\"colorbar\":{\"outlinewidth\":0,\"ticks\":\"\"}},\"marker\":{\"colorbar\":{\"outlinewidth\":0,\"ticks\":\"\"}}}],\"scattermapbox\":[{\"type\":\"scattermapbox\",\"marker\":{\"colorbar\":{\"outlinewidth\":0,\"ticks\":\"\"}}}],\"scatterternary\":[{\"type\":\"scatterternary\",\"marker\":{\"colorbar\":{\"outlinewidth\":0,\"ticks\":\"\"}}}],\"scattercarpet\":[{\"type\":\"scattercarpet\",\"marker\":{\"colorbar\":{\"outlinewidth\":0,\"ticks\":\"\"}}}],\"carpet\":[{\"aaxis\":{\"endlinecolor\":\"#2a3f5f\",\"gridcolor\":\"white\",\"linecolor\":\"white\",\"minorgridcolor\":\"white\",\"startlinecolor\":\"#2a3f5f\"},\"baxis\":{\"endlinecolor\":\"#2a3f5f\",\"gridcolor\":\"white\",\"linecolor\":\"white\",\"minorgridcolor\":\"white\",\"startlinecolor\":\"#2a3f5f\"},\"type\":\"carpet\"}],\"table\":[{\"cells\":{\"fill\":{\"color\":\"#EBF0F8\"},\"line\":{\"color\":\"white\"}},\"header\":{\"fill\":{\"color\":\"#C8D4E3\"},\"line\":{\"color\":\"white\"}},\"type\":\"table\"}],\"barpolar\":[{\"marker\":{\"line\":{\"color\":\"#E5ECF6\",\"width\":0.5},\"pattern\":{\"fillmode\":\"overlay\",\"size\":10,\"solidity\":0.2}},\"type\":\"barpolar\"}],\"pie\":[{\"automargin\":true,\"type\":\"pie\"}]},\"layout\":{\"autotypenumbers\":\"strict\",\"colorway\":[\"#636efa\",\"#EF553B\",\"#00cc96\",\"#ab63fa\",\"#FFA15A\",\"#19d3f3\",\"#FF6692\",\"#B6E880\",\"#FF97FF\",\"#FECB52\"],\"font\":{\"color\":\"#2a3f5f\"},\"hovermode\":\"closest\",\"hoverlabel\":{\"align\":\"left\"},\"paper_bgcolor\":\"white\",\"plot_bgcolor\":\"#E5ECF6\",\"polar\":{\"bgcolor\":\"#E5ECF6\",\"angularaxis\":{\"gridcolor\":\"white\",\"linecolor\":\"white\",\"ticks\":\"\"},\"radialaxis\":{\"gridcolor\":\"white\",\"linecolor\":\"white\",\"ticks\":\"\"}},\"ternary\":{\"bgcolor\":\"#E5ECF6\",\"aaxis\":{\"gridcolor\":\"white\",\"linecolor\":\"white\",\"ticks\":\"\"},\"baxis\":{\"gridcolor\":\"white\",\"linecolor\":\"white\",\"ticks\":\"\"},\"caxis\":{\"gridcolor\":\"white\",\"linecolor\":\"white\",\"ticks\":\"\"}},\"coloraxis\":{\"colorbar\":{\"outlinewidth\":0,\"ticks\":\"\"}},\"colorscale\":{\"sequential\":[[0.0,\"#0d0887\"],[0.1111111111111111,\"#46039f\"],[0.2222222222222222,\"#7201a8\"],[0.3333333333333333,\"#9c179e\"],[0.4444444444444444,\"#bd3786\"],[0.5555555555555556,\"#d8576b\"],[0.6666666666666666,\"#ed7953\"],[0.7777777777777778,\"#fb9f3a\"],[0.8888888888888888,\"#fdca26\"],[1.0,\"#f0f921\"]],\"sequentialminus\":[[0.0,\"#0d0887\"],[0.1111111111111111,\"#46039f\"],[0.2222222222222222,\"#7201a8\"],[0.3333333333333333,\"#9c179e\"],[0.4444444444444444,\"#bd3786\"],[0.5555555555555556,\"#d8576b\"],[0.6666666666666666,\"#ed7953\"],[0.7777777777777778,\"#fb9f3a\"],[0.8888888888888888,\"#fdca26\"],[1.0,\"#f0f921\"]],\"diverging\":[[0,\"#8e0152\"],[0.1,\"#c51b7d\"],[0.2,\"#de77ae\"],[0.3,\"#f1b6da\"],[0.4,\"#fde0ef\"],[0.5,\"#f7f7f7\"],[0.6,\"#e6f5d0\"],[0.7,\"#b8e186\"],[0.8,\"#7fbc41\"],[0.9,\"#4d9221\"],[1,\"#276419\"]]},\"xaxis\":{\"gridcolor\":\"white\",\"linecolor\":\"white\",\"ticks\":\"\",\"title\":{\"standoff\":15},\"zerolinecolor\":\"white\",\"automargin\":true,\"zerolinewidth\":2},\"yaxis\":{\"gridcolor\":\"white\",\"linecolor\":\"white\",\"ticks\":\"\",\"title\":{\"standoff\":15},\"zerolinecolor\":\"white\",\"automargin\":true,\"zerolinewidth\":2},\"scene\":{\"xaxis\":{\"backgroundcolor\":\"#E5ECF6\",\"gridcolor\":\"white\",\"linecolor\":\"white\",\"showbackground\":true,\"ticks\":\"\",\"zerolinecolor\":\"white\",\"gridwidth\":2},\"yaxis\":{\"backgroundcolor\":\"#E5ECF6\",\"gridcolor\":\"white\",\"linecolor\":\"white\",\"showbackground\":true,\"ticks\":\"\",\"zerolinecolor\":\"white\",\"gridwidth\":2},\"zaxis\":{\"backgroundcolor\":\"#E5ECF6\",\"gridcolor\":\"white\",\"linecolor\":\"white\",\"showbackground\":true,\"ticks\":\"\",\"zerolinecolor\":\"white\",\"gridwidth\":2}},\"shapedefaults\":{\"line\":{\"color\":\"#2a3f5f\"}},\"annotationdefaults\":{\"arrowcolor\":\"#2a3f5f\",\"arrowhead\":0,\"arrowwidth\":1},\"geo\":{\"bgcolor\":\"white\",\"landcolor\":\"#E5ECF6\",\"subunitcolor\":\"white\",\"showland\":true,\"showlakes\":true,\"lakecolor\":\"white\"},\"title\":{\"x\":0.05},\"mapbox\":{\"style\":\"light\"}}},\"legend\":{\"tracegroupgap\":0},\"margin\":{\"t\":60}},                        {\"responsive\": true}                    ).then(function(){\n",
       "                            \n",
       "var gd = document.getElementById('f1b0934e-8e33-44b5-a1d4-1679e2754424');\n",
       "var x = new MutationObserver(function (mutations, observer) {{\n",
       "        var display = window.getComputedStyle(gd).display;\n",
       "        if (!display || display === 'none') {{\n",
       "            console.log([gd, 'removed!']);\n",
       "            Plotly.purge(gd);\n",
       "            observer.disconnect();\n",
       "        }}\n",
       "}});\n",
       "\n",
       "// Listen for the removal of the full notebook cells\n",
       "var notebookContainer = gd.closest('#notebook-container');\n",
       "if (notebookContainer) {{\n",
       "    x.observe(notebookContainer, {childList: true});\n",
       "}}\n",
       "\n",
       "// Listen for the clearing of the current output cell\n",
       "var outputEl = gd.closest('.output');\n",
       "if (outputEl) {{\n",
       "    x.observe(outputEl, {childList: true});\n",
       "}}\n",
       "\n",
       "                        })                };                });            </script>        </div>"
      ]
     },
     "metadata": {},
     "output_type": "display_data"
    }
   ],
   "source": [
    "fig = px.pie(values=df['Heredity'], hole=0.0)\n",
    "\n",
    "# Show the chart\n",
    "fig.show()"
   ]
  },
  {
   "cell_type": "code",
   "execution_count": 107,
   "id": "75f26cee-1ec7-4b68-9b30-0e489418ef54",
   "metadata": {},
   "outputs": [
    {
     "data": {
      "text/html": [
       "<div>\n",
       "<style scoped>\n",
       "    .dataframe tbody tr th:only-of-type {\n",
       "        vertical-align: middle;\n",
       "    }\n",
       "\n",
       "    .dataframe tbody tr th {\n",
       "        vertical-align: top;\n",
       "    }\n",
       "\n",
       "    .dataframe thead th {\n",
       "        text-align: right;\n",
       "    }\n",
       "</style>\n",
       "<table border=\"1\" class=\"dataframe\">\n",
       "  <thead>\n",
       "    <tr style=\"text-align: right;\">\n",
       "      <th></th>\n",
       "      <th>Age</th>\n",
       "      <th>BMI</th>\n",
       "    </tr>\n",
       "    <tr>\n",
       "      <th>Heredity</th>\n",
       "      <th></th>\n",
       "      <th></th>\n",
       "    </tr>\n",
       "  </thead>\n",
       "  <tbody>\n",
       "    <tr>\n",
       "      <th>0</th>\n",
       "      <td>29.491228</td>\n",
       "      <td>28.185234</td>\n",
       "    </tr>\n",
       "    <tr>\n",
       "      <th>1</th>\n",
       "      <td>33.413462</td>\n",
       "      <td>31.883173</td>\n",
       "    </tr>\n",
       "  </tbody>\n",
       "</table>\n",
       "</div>"
      ],
      "text/plain": [
       "                Age        BMI\n",
       "Heredity                      \n",
       "0         29.491228  28.185234\n",
       "1         33.413462  31.883173"
      ]
     },
     "execution_count": 107,
     "metadata": {},
     "output_type": "execute_result"
    }
   ],
   "source": [
    "# Group the dataset by 'Heredity' and calculate the average 'Age' and 'BMI' for each group.\n",
    "data.groupby('Heredity')[['Age', 'BMI']].mean()"
   ]
  },
  {
   "cell_type": "code",
   "execution_count": 108,
   "id": "aca01a6d-64ec-4077-ab71-d0dd56ab3c2e",
   "metadata": {},
   "outputs": [
    {
     "data": {
      "text/plain": [
       "Prediction\n",
       "0    1609.0\n",
       "1     654.0\n",
       "Name: Pregnancy No, dtype: float64"
      ]
     },
     "execution_count": 108,
     "metadata": {},
     "output_type": "execute_result"
    }
   ],
   "source": [
    "# What is the total number of pregnancies ('Pregnancy No') for each 'Prediction' category?\n",
    "total_pregnancies = data.groupby('Prediction')['Pregnancy No'].sum()\n",
    "total_pregnancies"
   ]
  },
  {
   "cell_type": "code",
   "execution_count": 109,
   "id": "2716e6b3-6f8d-46ee-9440-13207394e7bb",
   "metadata": {},
   "outputs": [
    {
     "data": {
      "application/vnd.plotly.v1+json": {
       "config": {
        "plotlyServerURL": "https://plot.ly"
       },
       "data": [
        {
         "hovertemplate": "Height=%{x}<br>Weight=%{y}<extra></extra>",
         "legendgroup": "",
         "marker": {
          "color": "#636efa",
          "symbol": "circle"
         },
         "mode": "markers",
         "name": "",
         "orientation": "v",
         "showlegend": false,
         "type": "scatter",
         "x": [
          165,
          145,
          140,
          145,
          146,
          147,
          147,
          165,
          147,
          150,
          150,
          156,
          150,
          148,
          180,
          150,
          150,
          165,
          152,
          151,
          160,
          150,
          150,
          154,
          150,
          149,
          151,
          151,
          151,
          150,
          150,
          156,
          150,
          151,
          150,
          145,
          148,
          146,
          145,
          154,
          150,
          148,
          148,
          165,
          156,
          149,
          149,
          160,
          148,
          175,
          148,
          149,
          165,
          150,
          151,
          151,
          150,
          145,
          148,
          158,
          149,
          150,
          180,
          150,
          150,
          151,
          167,
          151,
          152,
          153,
          153,
          150,
          150,
          150,
          158,
          152,
          165,
          152,
          168,
          158,
          149,
          168,
          150,
          153,
          150,
          153,
          153,
          155,
          155,
          150,
          164,
          159,
          149,
          149,
          146,
          159,
          160,
          160,
          160,
          160,
          160,
          160,
          160,
          161,
          162,
          163,
          159,
          165,
          150,
          149,
          159,
          167,
          167,
          160,
          165,
          165,
          167,
          170,
          171,
          168,
          160,
          160,
          155,
          152,
          154,
          146,
          145,
          150,
          148,
          150,
          162,
          165,
          165,
          151,
          155,
          160,
          160,
          155,
          155,
          148,
          144,
          145,
          170,
          150,
          153,
          155,
          165,
          156,
          157,
          157,
          155,
          158,
          160,
          157,
          160,
          150,
          158,
          160,
          155,
          166,
          154,
          162,
          155,
          169,
          172,
          155,
          152,
          150,
          153,
          152,
          150,
          155,
          168,
          151,
          153,
          156,
          157,
          155,
          150,
          150,
          150,
          159,
          158,
          148,
          149,
          140,
          141,
          149,
          149,
          150,
          155,
          156,
          159,
          175,
          165,
          160,
          155,
          160,
          170,
          180,
          161,
          162,
          150,
          150,
          166,
          165,
          158,
          170,
          170,
          165,
          172,
          150,
          151,
          153,
          151,
          153,
          152,
          152,
          150,
          159,
          160,
          150,
          159,
          160,
          167,
          180,
          159,
          166,
          167,
          167,
          168,
          169,
          165,
          160,
          160,
          155,
          155,
          156,
          165,
          160,
          178,
          160,
          165,
          165,
          155,
          167,
          157,
          168,
          178,
          160,
          150,
          155,
          155,
          150,
          152,
          152,
          154,
          140,
          145,
          156,
          147,
          150,
          160,
          160,
          165,
          145,
          146,
          146,
          146,
          147,
          155,
          150,
          148,
          148,
          149,
          148,
          155,
          157,
          150,
          150,
          164,
          151,
          155,
          159,
          159,
          160,
          165,
          154,
          154,
          155,
          153,
          165,
          150,
          157,
          149,
          149,
          148,
          160,
          160,
          160,
          160,
          160,
          160,
          160,
          158,
          155,
          155,
          151,
          151,
          152,
          152,
          154,
          160,
          165,
          160,
          155,
          156,
          150,
          150,
          158,
          158,
          145,
          154,
          169,
          146,
          164,
          157,
          153,
          158,
          165,
          155,
          164,
          148,
          166,
          166,
          162,
          156,
          162,
          157,
          165,
          149,
          150,
          155,
          160,
          160,
          161,
          162,
          162,
          150,
          165,
          156,
          156,
          150,
          156,
          157,
          157,
          150,
          157,
          149,
          160,
          160,
          157,
          152,
          160,
          160,
          157,
          158,
          158,
          170,
          175,
          155,
          155,
          155,
          155,
          154,
          151,
          152,
          156,
          152,
          152,
          155,
          153,
          150,
          153,
          167,
          148,
          158,
          160,
          160,
          160,
          165,
          155,
          158,
          155,
          165,
          156,
          160,
          160,
          155,
          155,
          155,
          160,
          155,
          155,
          155,
          154,
          165,
          167,
          169,
          155,
          160,
          165,
          145,
          150,
          162,
          165,
          156,
          166,
          160,
          154,
          163,
          171,
          169,
          165,
          161,
          159,
          154,
          164,
          160,
          155,
          150,
          172,
          157,
          160,
          153,
          148,
          152,
          160,
          165,
          161,
          160,
          160,
          175,
          155,
          155,
          155,
          164,
          155,
          155,
          149,
          155,
          154,
          156,
          160,
          155,
          160,
          155,
          156,
          169,
          162,
          159,
          160,
          166,
          156,
          160,
          165,
          165,
          150,
          153,
          150,
          150,
          152,
          150,
          162,
          155,
          160,
          161,
          164,
          164,
          164,
          155,
          163,
          150,
          150,
          165,
          150,
          161,
          162,
          147,
          148,
          162,
          153,
          159,
          159,
          157,
          150,
          165,
          157,
          155,
          150,
          148,
          150,
          161,
          159,
          164,
          165,
          155,
          169,
          170,
          165,
          150,
          147,
          167,
          167,
          167,
          158,
          155,
          160,
          165,
          161,
          160,
          159,
          165,
          160,
          168,
          165,
          166,
          166,
          168,
          172,
          150,
          165,
          154,
          168,
          164,
          165,
          162,
          165,
          156,
          175,
          160,
          156,
          160,
          153,
          170,
          155,
          166,
          168,
          165,
          177,
          168,
          167,
          167,
          171,
          164,
          171,
          167,
          174,
          172,
          175,
          169,
          170,
          169,
          168,
          169,
          170,
          168,
          170,
          153,
          164,
          158,
          156,
          159,
          167,
          166,
          164,
          156,
          158,
          157,
          174,
          164,
          155,
          156,
          156,
          164,
          165,
          161,
          164,
          155,
          150,
          160,
          159,
          156,
          154,
          157,
          155,
          158,
          154,
          160,
          167,
          156,
          164,
          167,
          153,
          170,
          170,
          140,
          156,
          169,
          157,
          158,
          155,
          154,
          173,
          162,
          145,
          155,
          156,
          154,
          165,
          151,
          161,
          161,
          160,
          162,
          161,
          160,
          163,
          150,
          156,
          160,
          162,
          174,
          170,
          161,
          151,
          154,
          161,
          158,
          158,
          162,
          164,
          161,
          163,
          174,
          164,
          166,
          165,
          160,
          158,
          166,
          165,
          165,
          165,
          172,
          174,
          155,
          156,
          155,
          155,
          160,
          163,
          155,
          162,
          153,
          165,
          174,
          156,
          171,
          161,
          172,
          161,
          159,
          153,
          171,
          164,
          161,
          161,
          165,
          160,
          163,
          162,
          152,
          159,
          157,
          167,
          151,
          154,
          160,
          144,
          166,
          154,
          167,
          165,
          156,
          154,
          154,
          156,
          156,
          167,
          170,
          154,
          166,
          164,
          154,
          151,
          161,
          155,
          169,
          161,
          161,
          150,
          165,
          158,
          155,
          168,
          165,
          164,
          164,
          167,
          170,
          164,
          166,
          167,
          158,
          164,
          168,
          170,
          164,
          166,
          154,
          172,
          174,
          153,
          162,
          173,
          160,
          153,
          164,
          158,
          160,
          160,
          149,
          165,
          162,
          163,
          156,
          159,
          157,
          168,
          161,
          145,
          153,
          158,
          164,
          162,
          158,
          153,
          150,
          152,
          165,
          159,
          165,
          155,
          150,
          170,
          180,
          150,
          154,
          151,
          164,
          157,
          165,
          159,
          163,
          148,
          154,
          150,
          154,
          164,
          157,
          158,
          153,
          157,
          164,
          158,
          165,
          172,
          162,
          153,
          151,
          167,
          161,
          167,
          168,
          159,
          163,
          153,
          158,
          158,
          157,
          155,
          164,
          157,
          163,
          161,
          152,
          161,
          161,
          163,
          154,
          160,
          154,
          147,
          159,
          162,
          158,
          168,
          173,
          163,
          154,
          178,
          165,
          163,
          167,
          165,
          169,
          155,
          156,
          158,
          159,
          160,
          156,
          159,
          155,
          147,
          165,
          160,
          152,
          150,
          160,
          156,
          157,
          151,
          152,
          150,
          150,
          150,
          150,
          156,
          160,
          148,
          161,
          145,
          155,
          159,
          158,
          157,
          154,
          164,
          156,
          160,
          160,
          156,
          165,
          169,
          167,
          162,
          165,
          155,
          153,
          154,
          152,
          155,
          160,
          160,
          172,
          170,
          166,
          157,
          155,
          154,
          166,
          160,
          156,
          157,
          155,
          159,
          165,
          160,
          167,
          156
         ],
         "xaxis": "x",
         "y": [
          48,
          49,
          50,
          50,
          49,
          49,
          52,
          50,
          52,
          52,
          52,
          55,
          53,
          53,
          52,
          53,
          52,
          49,
          50,
          50,
          55,
          54,
          54,
          53,
          55,
          58,
          58,
          54,
          58,
          58,
          54,
          54,
          85,
          55,
          55,
          55,
          60,
          61,
          66,
          60,
          65,
          64,
          60,
          65,
          56,
          61,
          61,
          65,
          61,
          60,
          65,
          60,
          61,
          61,
          61,
          60,
          61,
          61,
          61,
          52,
          62,
          62,
          60,
          85,
          65,
          66,
          60,
          67,
          67,
          49,
          67,
          67,
          50,
          68,
          60,
          65,
          67,
          60,
          65,
          63,
          63,
          65,
          63,
          63,
          63,
          65,
          65,
          65,
          64,
          69,
          65,
          64,
          64,
          66,
          64,
          66,
          67,
          68,
          69,
          66,
          64,
          64,
          63,
          63,
          63,
          60,
          63,
          65,
          65,
          65,
          67,
          67,
          60,
          70,
          69,
          69,
          66,
          64,
          64,
          71,
          71,
          69,
          73,
          70,
          71,
          70,
          71,
          70,
          73,
          71,
          69,
          84,
          85,
          70,
          75,
          80,
          65,
          72,
          65,
          60,
          55,
          55,
          81,
          65,
          64,
          97,
          73,
          51,
          69,
          85,
          80,
          65,
          80,
          60,
          55,
          70,
          58,
          60,
          90,
          85,
          80,
          70,
          58,
          60,
          80,
          68,
          66,
          64,
          63,
          63,
          63,
          63,
          65,
          65,
          52,
          64,
          64,
          64,
          64,
          60,
          65,
          64,
          64,
          64,
          66,
          64,
          64,
          64,
          65,
          67,
          65,
          64,
          65,
          65,
          64,
          65,
          65,
          63,
          65,
          65,
          64,
          64,
          63,
          64,
          65,
          65,
          65,
          60,
          67,
          67,
          68,
          67,
          75,
          73,
          68,
          65,
          68,
          68,
          68,
          68,
          75,
          68,
          68,
          68,
          70,
          82,
          69,
          69,
          83,
          66,
          66,
          85,
          64,
          84,
          69,
          69,
          68,
          70,
          70,
          70,
          70,
          95,
          69,
          68,
          70,
          70,
          70,
          71,
          71,
          69,
          69,
          70,
          69,
          71,
          79,
          65,
          70,
          70,
          67,
          75,
          68,
          68,
          67,
          75,
          69,
          69,
          69,
          72,
          70,
          70,
          66,
          71,
          72,
          73,
          73,
          70,
          80,
          83,
          71,
          71,
          84,
          71,
          70,
          70,
          68,
          66,
          80,
          73,
          73,
          73,
          73,
          77,
          77,
          78,
          78,
          79,
          79,
          67,
          65,
          70,
          78,
          79,
          75,
          77,
          69,
          70,
          71,
          70,
          71,
          62,
          62,
          71,
          67,
          71,
          70,
          75,
          62,
          69,
          82,
          82,
          85,
          55,
          60,
          79,
          50,
          82,
          80,
          75,
          60,
          75,
          70,
          85,
          60,
          85,
          70,
          80,
          58,
          80,
          78,
          88,
          71,
          71,
          84,
          82,
          70,
          73,
          80,
          76,
          70,
          80,
          76,
          72,
          78,
          77,
          77,
          67,
          84,
          78,
          80,
          80,
          80,
          78,
          84,
          76,
          78,
          78,
          78,
          77,
          85,
          87,
          71,
          70,
          73,
          78,
          88,
          72,
          67,
          80,
          67,
          68,
          88,
          67,
          90,
          80,
          92,
          90,
          91,
          72,
          72,
          75,
          98,
          72,
          98,
          79,
          79,
          75,
          93,
          94,
          77,
          71,
          71,
          95,
          70,
          62,
          88,
          76,
          87,
          82,
          82,
          74,
          81,
          79,
          58,
          60,
          76,
          77,
          75,
          76,
          70,
          88,
          75,
          80,
          90,
          59,
          71,
          97,
          58,
          65,
          78,
          85,
          84,
          84,
          78,
          90,
          75,
          90,
          92,
          79,
          75,
          80,
          80,
          71,
          93,
          80,
          69,
          65,
          88,
          79,
          81,
          71,
          73,
          80,
          80,
          80,
          87,
          88,
          75,
          94,
          95,
          80,
          89,
          85,
          60,
          84,
          85,
          70,
          75,
          84,
          76,
          75,
          81,
          90,
          81,
          95,
          81,
          94,
          95,
          88,
          87,
          80,
          81,
          81,
          85,
          91,
          90,
          90,
          80,
          105,
          79,
          68,
          90,
          80,
          88,
          90,
          90,
          78,
          81,
          88,
          92,
          88,
          87,
          85,
          76,
          90,
          99,
          83,
          91,
          84,
          87,
          89,
          89,
          85,
          70,
          90,
          90,
          90,
          92,
          93,
          80,
          50,
          76,
          65,
          74,
          58,
          60,
          80,
          105,
          70,
          65,
          88,
          63,
          70,
          69,
          95,
          58,
          60,
          60,
          77,
          65,
          70,
          80,
          65,
          75,
          60,
          76,
          60,
          62,
          90,
          69,
          69,
          65,
          70,
          60,
          91,
          71,
          80,
          67,
          78,
          63,
          70,
          70,
          65,
          70,
          65,
          67,
          80,
          60,
          82,
          62,
          85,
          60,
          78,
          65,
          70,
          75,
          81,
          60,
          65,
          78,
          94,
          63,
          72,
          65,
          60,
          63,
          71,
          68,
          96,
          82,
          56,
          70,
          82,
          79,
          78,
          76,
          67,
          78,
          48,
          85,
          50,
          76,
          90,
          95,
          45,
          58,
          64,
          67,
          82,
          87,
          68,
          63,
          67,
          71,
          82,
          65,
          61,
          64,
          70,
          65,
          104,
          78,
          60,
          65,
          60,
          85,
          76,
          81,
          98,
          55,
          68,
          60,
          63,
          61,
          64,
          63,
          60,
          49,
          80,
          80,
          64,
          59,
          85,
          68,
          51,
          75,
          75,
          58,
          58,
          73,
          85,
          76,
          81,
          79,
          81,
          79,
          71,
          65,
          70,
          66,
          56,
          78,
          88,
          56,
          79,
          95,
          90,
          72,
          50,
          81,
          73,
          81,
          70,
          69,
          73,
          90,
          66,
          76,
          97,
          69,
          83,
          62,
          95,
          75,
          80,
          59,
          70,
          61,
          60,
          78,
          65,
          87,
          78,
          65,
          63,
          72,
          80,
          65,
          66,
          74,
          81,
          78,
          59,
          63,
          72,
          65,
          50,
          74,
          60,
          80,
          80,
          71,
          79,
          58,
          68,
          61,
          85,
          101,
          88,
          78,
          54,
          85,
          60,
          71,
          90,
          67,
          80,
          75,
          75,
          70,
          72,
          61,
          103,
          65,
          85,
          54,
          83,
          75,
          80,
          65,
          70,
          80,
          90,
          65,
          76,
          65,
          104,
          79,
          94,
          73,
          54,
          68,
          78,
          79,
          77,
          58,
          71,
          58,
          63,
          63,
          45,
          78,
          71,
          76,
          80,
          63,
          90,
          80,
          63,
          53,
          60,
          63,
          81,
          88,
          86,
          101,
          83,
          79,
          90,
          76,
          71,
          76,
          87,
          65,
          75,
          85,
          50,
          79,
          64,
          57,
          87,
          84,
          61,
          71,
          68,
          91,
          83,
          93,
          62,
          75,
          65,
          66,
          55,
          61,
          43,
          69,
          61,
          80,
          83,
          69,
          79,
          81,
          71,
          86,
          61,
          69,
          70,
          81,
          80,
          82,
          90,
          90,
          92,
          87,
          91,
          102,
          89,
          90,
          93,
          89,
          95,
          90,
          87,
          95,
          90,
          77,
          87,
          91,
          90,
          82,
          83,
          90,
          93,
          90,
          89,
          83,
          89,
          67,
          71,
          69,
          66,
          59,
          65,
          67,
          80,
          68,
          76,
          90,
          87,
          66,
          65,
          67,
          88,
          92,
          91,
          89,
          86,
          68,
          77,
          78,
          88,
          80,
          82,
          83,
          84,
          86,
          85,
          90,
          67,
          76,
          95,
          67,
          65,
          86,
          87,
          88,
          92,
          90,
          89,
          87,
          67,
          65,
          68
         ],
         "yaxis": "y"
        }
       ],
       "layout": {
        "autosize": true,
        "legend": {
         "tracegroupgap": 0
        },
        "margin": {
         "t": 60
        },
        "template": {
         "data": {
          "bar": [
           {
            "error_x": {
             "color": "#2a3f5f"
            },
            "error_y": {
             "color": "#2a3f5f"
            },
            "marker": {
             "line": {
              "color": "#E5ECF6",
              "width": 0.5
             },
             "pattern": {
              "fillmode": "overlay",
              "size": 10,
              "solidity": 0.2
             }
            },
            "type": "bar"
           }
          ],
          "barpolar": [
           {
            "marker": {
             "line": {
              "color": "#E5ECF6",
              "width": 0.5
             },
             "pattern": {
              "fillmode": "overlay",
              "size": 10,
              "solidity": 0.2
             }
            },
            "type": "barpolar"
           }
          ],
          "carpet": [
           {
            "aaxis": {
             "endlinecolor": "#2a3f5f",
             "gridcolor": "white",
             "linecolor": "white",
             "minorgridcolor": "white",
             "startlinecolor": "#2a3f5f"
            },
            "baxis": {
             "endlinecolor": "#2a3f5f",
             "gridcolor": "white",
             "linecolor": "white",
             "minorgridcolor": "white",
             "startlinecolor": "#2a3f5f"
            },
            "type": "carpet"
           }
          ],
          "choropleth": [
           {
            "colorbar": {
             "outlinewidth": 0,
             "ticks": ""
            },
            "type": "choropleth"
           }
          ],
          "contour": [
           {
            "colorbar": {
             "outlinewidth": 0,
             "ticks": ""
            },
            "colorscale": [
             [
              0,
              "#0d0887"
             ],
             [
              0.1111111111111111,
              "#46039f"
             ],
             [
              0.2222222222222222,
              "#7201a8"
             ],
             [
              0.3333333333333333,
              "#9c179e"
             ],
             [
              0.4444444444444444,
              "#bd3786"
             ],
             [
              0.5555555555555556,
              "#d8576b"
             ],
             [
              0.6666666666666666,
              "#ed7953"
             ],
             [
              0.7777777777777778,
              "#fb9f3a"
             ],
             [
              0.8888888888888888,
              "#fdca26"
             ],
             [
              1,
              "#f0f921"
             ]
            ],
            "type": "contour"
           }
          ],
          "contourcarpet": [
           {
            "colorbar": {
             "outlinewidth": 0,
             "ticks": ""
            },
            "type": "contourcarpet"
           }
          ],
          "heatmap": [
           {
            "colorbar": {
             "outlinewidth": 0,
             "ticks": ""
            },
            "colorscale": [
             [
              0,
              "#0d0887"
             ],
             [
              0.1111111111111111,
              "#46039f"
             ],
             [
              0.2222222222222222,
              "#7201a8"
             ],
             [
              0.3333333333333333,
              "#9c179e"
             ],
             [
              0.4444444444444444,
              "#bd3786"
             ],
             [
              0.5555555555555556,
              "#d8576b"
             ],
             [
              0.6666666666666666,
              "#ed7953"
             ],
             [
              0.7777777777777778,
              "#fb9f3a"
             ],
             [
              0.8888888888888888,
              "#fdca26"
             ],
             [
              1,
              "#f0f921"
             ]
            ],
            "type": "heatmap"
           }
          ],
          "heatmapgl": [
           {
            "colorbar": {
             "outlinewidth": 0,
             "ticks": ""
            },
            "colorscale": [
             [
              0,
              "#0d0887"
             ],
             [
              0.1111111111111111,
              "#46039f"
             ],
             [
              0.2222222222222222,
              "#7201a8"
             ],
             [
              0.3333333333333333,
              "#9c179e"
             ],
             [
              0.4444444444444444,
              "#bd3786"
             ],
             [
              0.5555555555555556,
              "#d8576b"
             ],
             [
              0.6666666666666666,
              "#ed7953"
             ],
             [
              0.7777777777777778,
              "#fb9f3a"
             ],
             [
              0.8888888888888888,
              "#fdca26"
             ],
             [
              1,
              "#f0f921"
             ]
            ],
            "type": "heatmapgl"
           }
          ],
          "histogram": [
           {
            "marker": {
             "pattern": {
              "fillmode": "overlay",
              "size": 10,
              "solidity": 0.2
             }
            },
            "type": "histogram"
           }
          ],
          "histogram2d": [
           {
            "colorbar": {
             "outlinewidth": 0,
             "ticks": ""
            },
            "colorscale": [
             [
              0,
              "#0d0887"
             ],
             [
              0.1111111111111111,
              "#46039f"
             ],
             [
              0.2222222222222222,
              "#7201a8"
             ],
             [
              0.3333333333333333,
              "#9c179e"
             ],
             [
              0.4444444444444444,
              "#bd3786"
             ],
             [
              0.5555555555555556,
              "#d8576b"
             ],
             [
              0.6666666666666666,
              "#ed7953"
             ],
             [
              0.7777777777777778,
              "#fb9f3a"
             ],
             [
              0.8888888888888888,
              "#fdca26"
             ],
             [
              1,
              "#f0f921"
             ]
            ],
            "type": "histogram2d"
           }
          ],
          "histogram2dcontour": [
           {
            "colorbar": {
             "outlinewidth": 0,
             "ticks": ""
            },
            "colorscale": [
             [
              0,
              "#0d0887"
             ],
             [
              0.1111111111111111,
              "#46039f"
             ],
             [
              0.2222222222222222,
              "#7201a8"
             ],
             [
              0.3333333333333333,
              "#9c179e"
             ],
             [
              0.4444444444444444,
              "#bd3786"
             ],
             [
              0.5555555555555556,
              "#d8576b"
             ],
             [
              0.6666666666666666,
              "#ed7953"
             ],
             [
              0.7777777777777778,
              "#fb9f3a"
             ],
             [
              0.8888888888888888,
              "#fdca26"
             ],
             [
              1,
              "#f0f921"
             ]
            ],
            "type": "histogram2dcontour"
           }
          ],
          "mesh3d": [
           {
            "colorbar": {
             "outlinewidth": 0,
             "ticks": ""
            },
            "type": "mesh3d"
           }
          ],
          "parcoords": [
           {
            "line": {
             "colorbar": {
              "outlinewidth": 0,
              "ticks": ""
             }
            },
            "type": "parcoords"
           }
          ],
          "pie": [
           {
            "automargin": true,
            "type": "pie"
           }
          ],
          "scatter": [
           {
            "fillpattern": {
             "fillmode": "overlay",
             "size": 10,
             "solidity": 0.2
            },
            "type": "scatter"
           }
          ],
          "scatter3d": [
           {
            "line": {
             "colorbar": {
              "outlinewidth": 0,
              "ticks": ""
             }
            },
            "marker": {
             "colorbar": {
              "outlinewidth": 0,
              "ticks": ""
             }
            },
            "type": "scatter3d"
           }
          ],
          "scattercarpet": [
           {
            "marker": {
             "colorbar": {
              "outlinewidth": 0,
              "ticks": ""
             }
            },
            "type": "scattercarpet"
           }
          ],
          "scattergeo": [
           {
            "marker": {
             "colorbar": {
              "outlinewidth": 0,
              "ticks": ""
             }
            },
            "type": "scattergeo"
           }
          ],
          "scattergl": [
           {
            "marker": {
             "colorbar": {
              "outlinewidth": 0,
              "ticks": ""
             }
            },
            "type": "scattergl"
           }
          ],
          "scattermapbox": [
           {
            "marker": {
             "colorbar": {
              "outlinewidth": 0,
              "ticks": ""
             }
            },
            "type": "scattermapbox"
           }
          ],
          "scatterpolar": [
           {
            "marker": {
             "colorbar": {
              "outlinewidth": 0,
              "ticks": ""
             }
            },
            "type": "scatterpolar"
           }
          ],
          "scatterpolargl": [
           {
            "marker": {
             "colorbar": {
              "outlinewidth": 0,
              "ticks": ""
             }
            },
            "type": "scatterpolargl"
           }
          ],
          "scatterternary": [
           {
            "marker": {
             "colorbar": {
              "outlinewidth": 0,
              "ticks": ""
             }
            },
            "type": "scatterternary"
           }
          ],
          "surface": [
           {
            "colorbar": {
             "outlinewidth": 0,
             "ticks": ""
            },
            "colorscale": [
             [
              0,
              "#0d0887"
             ],
             [
              0.1111111111111111,
              "#46039f"
             ],
             [
              0.2222222222222222,
              "#7201a8"
             ],
             [
              0.3333333333333333,
              "#9c179e"
             ],
             [
              0.4444444444444444,
              "#bd3786"
             ],
             [
              0.5555555555555556,
              "#d8576b"
             ],
             [
              0.6666666666666666,
              "#ed7953"
             ],
             [
              0.7777777777777778,
              "#fb9f3a"
             ],
             [
              0.8888888888888888,
              "#fdca26"
             ],
             [
              1,
              "#f0f921"
             ]
            ],
            "type": "surface"
           }
          ],
          "table": [
           {
            "cells": {
             "fill": {
              "color": "#EBF0F8"
             },
             "line": {
              "color": "white"
             }
            },
            "header": {
             "fill": {
              "color": "#C8D4E3"
             },
             "line": {
              "color": "white"
             }
            },
            "type": "table"
           }
          ]
         },
         "layout": {
          "annotationdefaults": {
           "arrowcolor": "#2a3f5f",
           "arrowhead": 0,
           "arrowwidth": 1
          },
          "autotypenumbers": "strict",
          "coloraxis": {
           "colorbar": {
            "outlinewidth": 0,
            "ticks": ""
           }
          },
          "colorscale": {
           "diverging": [
            [
             0,
             "#8e0152"
            ],
            [
             0.1,
             "#c51b7d"
            ],
            [
             0.2,
             "#de77ae"
            ],
            [
             0.3,
             "#f1b6da"
            ],
            [
             0.4,
             "#fde0ef"
            ],
            [
             0.5,
             "#f7f7f7"
            ],
            [
             0.6,
             "#e6f5d0"
            ],
            [
             0.7,
             "#b8e186"
            ],
            [
             0.8,
             "#7fbc41"
            ],
            [
             0.9,
             "#4d9221"
            ],
            [
             1,
             "#276419"
            ]
           ],
           "sequential": [
            [
             0,
             "#0d0887"
            ],
            [
             0.1111111111111111,
             "#46039f"
            ],
            [
             0.2222222222222222,
             "#7201a8"
            ],
            [
             0.3333333333333333,
             "#9c179e"
            ],
            [
             0.4444444444444444,
             "#bd3786"
            ],
            [
             0.5555555555555556,
             "#d8576b"
            ],
            [
             0.6666666666666666,
             "#ed7953"
            ],
            [
             0.7777777777777778,
             "#fb9f3a"
            ],
            [
             0.8888888888888888,
             "#fdca26"
            ],
            [
             1,
             "#f0f921"
            ]
           ],
           "sequentialminus": [
            [
             0,
             "#0d0887"
            ],
            [
             0.1111111111111111,
             "#46039f"
            ],
            [
             0.2222222222222222,
             "#7201a8"
            ],
            [
             0.3333333333333333,
             "#9c179e"
            ],
            [
             0.4444444444444444,
             "#bd3786"
            ],
            [
             0.5555555555555556,
             "#d8576b"
            ],
            [
             0.6666666666666666,
             "#ed7953"
            ],
            [
             0.7777777777777778,
             "#fb9f3a"
            ],
            [
             0.8888888888888888,
             "#fdca26"
            ],
            [
             1,
             "#f0f921"
            ]
           ]
          },
          "colorway": [
           "#636efa",
           "#EF553B",
           "#00cc96",
           "#ab63fa",
           "#FFA15A",
           "#19d3f3",
           "#FF6692",
           "#B6E880",
           "#FF97FF",
           "#FECB52"
          ],
          "font": {
           "color": "#2a3f5f"
          },
          "geo": {
           "bgcolor": "white",
           "lakecolor": "white",
           "landcolor": "#E5ECF6",
           "showlakes": true,
           "showland": true,
           "subunitcolor": "white"
          },
          "hoverlabel": {
           "align": "left"
          },
          "hovermode": "closest",
          "mapbox": {
           "style": "light"
          },
          "paper_bgcolor": "white",
          "plot_bgcolor": "#E5ECF6",
          "polar": {
           "angularaxis": {
            "gridcolor": "white",
            "linecolor": "white",
            "ticks": ""
           },
           "bgcolor": "#E5ECF6",
           "radialaxis": {
            "gridcolor": "white",
            "linecolor": "white",
            "ticks": ""
           }
          },
          "scene": {
           "xaxis": {
            "backgroundcolor": "#E5ECF6",
            "gridcolor": "white",
            "gridwidth": 2,
            "linecolor": "white",
            "showbackground": true,
            "ticks": "",
            "zerolinecolor": "white"
           },
           "yaxis": {
            "backgroundcolor": "#E5ECF6",
            "gridcolor": "white",
            "gridwidth": 2,
            "linecolor": "white",
            "showbackground": true,
            "ticks": "",
            "zerolinecolor": "white"
           },
           "zaxis": {
            "backgroundcolor": "#E5ECF6",
            "gridcolor": "white",
            "gridwidth": 2,
            "linecolor": "white",
            "showbackground": true,
            "ticks": "",
            "zerolinecolor": "white"
           }
          },
          "shapedefaults": {
           "line": {
            "color": "#2a3f5f"
           }
          },
          "ternary": {
           "aaxis": {
            "gridcolor": "white",
            "linecolor": "white",
            "ticks": ""
           },
           "baxis": {
            "gridcolor": "white",
            "linecolor": "white",
            "ticks": ""
           },
           "bgcolor": "#E5ECF6",
           "caxis": {
            "gridcolor": "white",
            "linecolor": "white",
            "ticks": ""
           }
          },
          "title": {
           "x": 0.05
          },
          "xaxis": {
           "automargin": true,
           "gridcolor": "white",
           "linecolor": "white",
           "ticks": "",
           "title": {
            "standoff": 15
           },
           "zerolinecolor": "white",
           "zerolinewidth": 2
          },
          "yaxis": {
           "automargin": true,
           "gridcolor": "white",
           "linecolor": "white",
           "ticks": "",
           "title": {
            "standoff": 15
           },
           "zerolinecolor": "white",
           "zerolinewidth": 2
          }
         }
        },
        "xaxis": {
         "anchor": "y",
         "autorange": true,
         "domain": [
          0,
          1
         ],
         "range": [
          137.57964812173086,
          182.42035187826914
         ],
         "title": {
          "text": "Height"
         },
         "type": "linear"
        },
        "yaxis": {
         "anchor": "x",
         "autorange": true,
         "domain": [
          0,
          1
         ],
         "range": [
          38.199475065616795,
          109.8005249343832
         ],
         "title": {
          "text": "Weight"
         },
         "type": "linear"
        }
       }
      },
      "image/png": "[encoded data removed]",
      "text/html": [
       "<div>                            <div id=\"c8ad1357-f0df-45ed-b356-774f1987a961\" class=\"plotly-graph-div\" style=\"height:525px; width:100%;\"></div>            <script type=\"text/javascript\">                require([\"plotly\"], function(Plotly) {                    window.PLOTLYENV=window.PLOTLYENV || {};                                    if (document.getElementById(\"c8ad1357-f0df-45ed-b356-774f1987a961\")) {                    Plotly.newPlot(                        \"c8ad1357-f0df-45ed-b356-774f1987a961\",                        [{\"hovertemplate\":\"Height=%{x}\\u003cbr\\u003eWeight=%{y}\\u003cextra\\u003e\\u003c\\u002fextra\\u003e\",\"legendgroup\":\"\",\"marker\":{\"color\":\"#636efa\",\"symbol\":\"circle\"},\"mode\":\"markers\",\"name\":\"\",\"orientation\":\"v\",\"showlegend\":false,\"x\":[165.0,145.0,140.0,145.0,146.0,147.0,147.0,165.0,147.0,150.0,150.0,156.0,150.0,148.0,180.0,150.0,150.0,165.0,152.0,151.0,160.0,150.0,150.0,154.0,150.0,149.0,151.0,151.0,151.0,150.0,150.0,156.0,150.0,151.0,150.0,145.0,148.0,146.0,145.0,154.0,150.0,148.0,148.0,165.0,156.0,149.0,149.0,160.0,148.0,175.0,148.0,149.0,165.0,150.0,151.0,151.0,150.0,145.0,148.0,158.0,149.0,150.0,180.0,150.0,150.0,151.0,167.0,151.0,152.0,153.0,153.0,150.0,150.0,150.0,158.0,152.0,165.0,152.0,168.0,158.0,149.0,168.0,150.0,153.0,150.0,153.0,153.0,155.0,155.0,150.0,164.0,159.0,149.0,149.0,146.0,159.0,160.0,160.0,160.0,160.0,160.0,160.0,160.0,161.0,162.0,163.0,159.0,165.0,150.0,149.0,159.0,167.0,167.0,160.0,165.0,165.0,167.0,170.0,171.0,168.0,160.0,160.0,155.0,152.0,154.0,146.0,145.0,150.0,148.0,150.0,162.0,165.0,165.0,151.0,155.0,160.0,160.0,155.0,155.0,148.0,144.0,145.0,170.0,150.0,153.0,155.0,165.0,156.0,157.0,157.0,155.0,158.0,160.0,157.0,160.0,150.0,158.0,160.0,155.0,166.0,154.0,162.0,155.0,169.0,172.0,155.0,152.0,150.0,153.0,152.0,150.0,155.0,168.0,151.0,153.0,156.0,157.0,155.0,150.0,150.0,150.0,159.0,158.0,148.0,149.0,140.0,141.0,149.0,149.0,150.0,155.0,156.0,159.0,175.0,165.0,160.0,155.0,160.0,170.0,180.0,161.0,162.0,150.0,150.0,166.0,165.0,158.0,170.0,170.0,165.0,172.0,150.0,151.0,153.0,151.0,153.0,152.0,152.0,150.0,159.0,160.0,150.0,159.0,160.0,167.0,180.0,159.0,166.0,167.0,167.0,168.0,169.0,165.0,160.0,160.0,155.0,155.0,156.0,165.0,160.0,178.0,160.0,165.0,165.0,155.0,167.0,157.0,168.0,178.0,160.0,150.0,155.0,155.0,150.0,152.0,152.0,154.0,140.0,145.0,156.0,147.0,150.0,160.0,160.0,165.0,145.0,146.0,146.0,146.0,147.0,155.0,150.0,148.0,148.0,149.0,148.0,155.0,157.0,150.0,150.0,164.0,151.0,155.0,159.0,159.0,160.0,165.0,154.0,154.0,155.0,153.0,165.0,150.0,157.0,149.0,149.0,148.0,160.0,160.0,160.0,160.0,160.0,160.0,160.0,158.0,155.0,155.0,151.0,151.0,152.0,152.0,154.0,160.0,165.0,160.0,155.0,156.0,150.0,150.0,158.0,158.0,145.0,154.0,169.0,146.0,164.0,157.0,153.0,158.0,165.0,155.0,164.0,148.0,166.0,166.0,162.0,156.0,162.0,157.0,165.0,149.0,150.0,155.0,160.0,160.0,161.0,162.0,162.0,150.0,165.0,156.0,156.0,150.0,156.0,157.0,157.0,150.0,157.0,149.0,160.0,160.0,157.0,152.0,160.0,160.0,157.0,158.0,158.0,170.0,175.0,155.0,155.0,155.0,155.0,154.0,151.0,152.0,156.0,152.0,152.0,155.0,153.0,150.0,153.0,167.0,148.0,158.0,160.0,160.0,160.0,165.0,155.0,158.0,155.0,165.0,156.0,160.0,160.0,155.0,155.0,155.0,160.0,155.0,155.0,155.0,154.0,165.0,167.0,169.0,155.0,160.0,165.0,145.0,150.0,162.0,165.0,156.0,166.0,160.0,154.0,163.0,171.0,169.0,165.0,161.0,159.0,154.0,164.0,160.0,155.0,150.0,172.0,157.0,160.0,153.0,148.0,152.0,160.0,165.0,161.0,160.0,160.0,175.0,155.0,155.0,155.0,164.0,155.0,155.0,149.0,155.0,154.0,156.0,160.0,155.0,160.0,155.0,156.0,169.0,162.0,159.0,160.0,166.0,156.0,160.0,165.0,165.0,150.0,153.0,150.0,150.0,152.0,150.0,162.0,155.0,160.0,161.0,164.0,164.0,164.0,155.0,163.0,150.0,150.0,165.0,150.0,161.0,162.0,147.0,148.0,162.0,153.0,159.0,159.0,157.0,150.0,165.0,157.0,155.0,150.0,148.0,150.0,161.0,159.0,164.0,165.0,155.0,169.0,170.0,165.0,150.0,147.0,167.0,167.0,167.0,158.0,155.0,160.0,165.0,161.0,160.0,159.0,165.0,160.0,168.0,165.0,166.0,166.0,168.0,172.0,150.0,165.0,154.0,168.0,164.0,165.0,162.0,165.0,156.0,175.0,160.0,156.0,160.0,153.0,170.0,155.0,166.0,168.0,165.0,177.0,168.0,167.0,167.0,171.0,164.0,171.0,167.0,174.0,172.0,175.0,169.0,170.0,169.0,168.0,169.0,170.0,168.0,170.0,153.0,164.0,158.0,156.0,159.0,167.0,166.0,164.0,156.0,158.0,157.0,174.0,164.0,155.0,156.0,156.0,164.0,165.0,161.0,164.0,155.0,150.0,160.0,159.0,156.0,154.0,157.0,155.0,158.0,154.0,160.0,167.0,156.0,164.0,167.0,153.0,170.0,170.0,140.0,156.0,169.0,157.0,158.0,155.0,154.0,173.0,162.0,145.0,155.0,156.0,154.0,165.0,151.0,161.0,161.0,160.0,162.0,161.0,160.0,163.0,150.0,156.0,160.0,162.0,174.0,170.0,161.0,151.0,154.0,161.0,158.0,158.0,162.0,164.0,161.0,163.0,174.0,164.0,166.0,165.0,160.0,158.0,166.0,165.0,165.0,165.0,172.0,174.0,155.0,156.0,155.0,155.0,160.0,163.0,155.0,162.0,153.0,165.0,174.0,156.0,171.0,161.0,172.0,161.0,159.0,153.0,171.0,164.0,161.0,161.0,165.0,160.0,163.0,162.0,152.0,159.0,157.0,167.0,151.0,154.0,160.0,144.0,166.0,154.0,167.0,165.0,156.0,154.0,154.0,156.0,156.0,167.0,170.0,154.0,166.0,164.0,154.0,151.0,161.0,155.0,169.0,161.0,161.0,150.0,165.0,158.0,155.0,168.0,165.0,164.0,164.0,167.0,170.0,164.0,166.0,167.0,158.0,164.0,168.0,170.0,164.0,166.0,154.0,172.0,174.0,153.0,162.0,173.0,160.0,153.0,164.0,158.0,160.0,160.0,149.0,165.0,162.0,163.0,156.0,159.0,157.0,168.0,161.0,145.0,153.0,158.0,164.0,162.0,158.0,153.0,150.0,152.0,165.0,159.0,165.0,155.0,150.0,170.0,180.0,150.0,154.0,151.0,164.0,157.0,165.0,159.0,163.0,148.0,154.0,150.0,154.0,164.0,157.0,158.0,153.0,157.0,164.0,158.0,165.0,172.0,162.0,153.0,151.0,167.0,161.0,167.0,168.0,159.0,163.0,153.0,158.0,158.0,157.0,155.0,164.0,157.0,163.0,161.0,152.0,161.0,161.0,163.0,154.0,160.0,154.0,147.0,159.0,162.0,158.0,168.0,173.0,163.0,154.0,178.0,165.0,163.0,167.0,165.0,169.0,155.0,156.0,158.0,159.0,160.0,156.0,159.0,155.0,147.0,165.0,160.0,152.0,150.0,160.0,156.0,157.0,151.0,152.0,150.0,150.0,150.0,150.0,156.0,160.0,148.0,161.0,145.0,155.0,159.0,158.0,157.0,154.0,164.0,156.0,160.0,160.0,156.0,165.0,169.0,167.0,162.0,165.0,155.0,153.0,154.0,152.0,155.0,160.0,160.0,172.0,170.0,166.0,157.0,155.0,154.0,166.0,160.0,156.0,157.0,155.0,159.0,165.0,160.0,167.0,156.0],\"xaxis\":\"x\",\"y\":[48.0,49.0,50.0,50.0,49.0,49.0,52.0,50.0,52.0,52.0,52.0,55.0,53.0,53.0,52.0,53.0,52.0,49.0,50.0,50.0,55.0,54.0,54.0,53.0,55.0,58.0,58.0,54.0,58.0,58.0,54.0,54.0,85.0,55.0,55.0,55.0,60.0,61.0,66.0,60.0,65.0,64.0,60.0,65.0,56.0,61.0,61.0,65.0,61.0,60.0,65.0,60.0,61.0,61.0,61.0,60.0,61.0,61.0,61.0,52.0,62.0,62.0,60.0,85.0,65.0,66.0,60.0,67.0,67.0,49.0,67.0,67.0,50.0,68.0,60.0,65.0,67.0,60.0,65.0,63.0,63.0,65.0,63.0,63.0,63.0,65.0,65.0,65.0,64.0,69.0,65.0,64.0,64.0,66.0,64.0,66.0,67.0,68.0,69.0,66.0,64.0,64.0,63.0,63.0,63.0,60.0,63.0,65.0,65.0,65.0,67.0,67.0,60.0,70.0,69.0,69.0,66.0,64.0,64.0,71.0,71.0,69.0,73.0,70.0,71.0,70.0,71.0,70.0,73.0,71.0,69.0,84.0,85.0,70.0,75.0,80.0,65.0,72.0,65.0,60.0,55.0,55.0,81.0,65.0,64.0,97.0,73.0,51.0,69.0,85.0,80.0,65.0,80.0,60.0,55.0,70.0,58.0,60.0,90.0,85.0,80.0,70.0,58.0,60.0,80.0,68.0,66.0,64.0,63.0,63.0,63.0,63.0,65.0,65.0,52.0,64.0,64.0,64.0,64.0,60.0,65.0,64.0,64.0,64.0,66.0,64.0,64.0,64.0,65.0,67.0,65.0,64.0,65.0,65.0,64.0,65.0,65.0,63.0,65.0,65.0,64.0,64.0,63.0,64.0,65.0,65.0,65.0,60.0,67.0,67.0,68.0,67.0,75.0,73.0,68.0,65.0,68.0,68.0,68.0,68.0,75.0,68.0,68.0,68.0,70.0,82.0,69.0,69.0,83.0,66.0,66.0,85.0,64.0,84.0,69.0,69.0,68.0,70.0,70.0,70.0,70.0,95.0,69.0,68.0,70.0,70.0,70.0,71.0,71.0,69.0,69.0,70.0,69.0,71.0,79.0,65.0,70.0,70.0,67.0,75.0,68.0,68.0,67.0,75.0,69.0,69.0,69.0,72.0,70.0,70.0,66.0,71.0,72.0,73.0,73.0,70.0,80.0,83.0,71.0,71.0,84.0,71.0,70.0,70.0,68.0,66.0,80.0,73.0,73.0,73.0,73.0,77.0,77.0,78.0,78.0,79.0,79.0,67.0,65.0,70.0,78.0,79.0,75.0,77.0,69.0,70.0,71.0,70.0,71.0,62.0,62.0,71.0,67.0,71.0,70.0,75.0,62.0,69.0,82.0,82.0,85.0,55.0,60.0,79.0,50.0,82.0,80.0,75.0,60.0,75.0,70.0,85.0,60.0,85.0,70.0,80.0,58.0,80.0,78.0,88.0,71.0,71.0,84.0,82.0,70.0,73.0,80.0,76.0,70.0,80.0,76.0,72.0,78.0,77.0,77.0,67.0,84.0,78.0,80.0,80.0,80.0,78.0,84.0,76.0,78.0,78.0,78.0,77.0,85.0,87.0,71.0,70.0,73.0,78.0,88.0,72.0,67.0,80.0,67.0,68.0,88.0,67.0,90.0,80.0,92.0,90.0,91.0,72.0,72.0,75.0,98.0,72.0,98.0,79.0,79.0,75.0,93.0,94.0,77.0,71.0,71.0,95.0,70.0,62.0,88.0,76.0,87.0,82.0,82.0,74.0,81.0,79.0,58.0,60.0,76.0,77.0,75.0,76.0,70.0,88.0,75.0,80.0,90.0,59.0,71.0,97.0,58.0,65.0,78.0,85.0,84.0,84.0,78.0,90.0,75.0,90.0,92.0,79.0,75.0,80.0,80.0,71.0,93.0,80.0,69.0,65.0,88.0,79.0,81.0,71.0,73.0,80.0,80.0,80.0,87.0,88.0,75.0,94.0,95.0,80.0,89.0,85.0,60.0,84.0,85.0,70.0,75.0,84.0,76.0,75.0,81.0,90.0,81.0,95.0,81.0,94.0,95.0,88.0,87.0,80.0,81.0,81.0,85.0,91.0,90.0,90.0,80.0,105.0,79.0,68.0,90.0,80.0,88.0,90.0,90.0,78.0,81.0,88.0,92.0,88.0,87.0,85.0,76.0,90.0,99.0,83.0,91.0,84.0,87.0,89.0,89.0,85.0,70.0,90.0,90.0,90.0,92.0,93.0,80.0,50.0,76.0,65.0,74.0,58.0,60.0,80.0,105.0,70.0,65.0,88.0,63.0,70.0,69.0,95.0,58.0,60.0,60.0,77.0,65.0,70.0,80.0,65.0,75.0,60.0,76.0,60.0,62.0,90.0,69.0,69.0,65.0,70.0,60.0,91.0,71.0,80.0,67.0,78.0,63.0,70.0,70.0,65.0,70.0,65.0,67.0,80.0,60.0,82.0,62.0,85.0,60.0,78.0,65.0,70.0,75.0,81.0,60.0,65.0,78.0,94.0,63.0,72.0,65.0,60.0,63.0,71.0,68.0,96.0,82.0,56.0,70.0,82.0,79.0,78.0,76.0,67.0,78.0,48.0,85.0,50.0,76.0,90.0,95.0,45.0,58.0,64.0,67.0,82.0,87.0,68.0,63.0,67.0,71.0,82.0,65.0,61.0,64.0,70.0,65.0,104.0,78.0,60.0,65.0,60.0,85.0,76.0,81.0,98.0,55.0,68.0,60.0,63.0,61.0,64.0,63.0,60.0,49.0,80.0,80.0,64.0,59.0,85.0,68.0,51.0,75.0,75.0,58.0,58.0,73.0,85.0,76.0,81.0,79.0,81.0,79.0,71.0,65.0,70.0,66.0,56.0,78.0,88.0,56.0,79.0,95.0,90.0,72.0,50.0,81.0,73.0,81.0,70.0,69.0,73.0,90.0,66.0,76.0,97.0,69.0,83.0,62.0,95.0,75.0,80.0,59.0,70.0,61.0,60.0,78.0,65.0,87.0,78.0,65.0,63.0,72.0,80.0,65.0,66.0,74.0,81.0,78.0,59.0,63.0,72.0,65.0,50.0,74.0,60.0,80.0,80.0,71.0,79.0,58.0,68.0,61.0,85.0,101.0,88.0,78.0,54.0,85.0,60.0,71.0,90.0,67.0,80.0,75.0,75.0,70.0,72.0,61.0,103.0,65.0,85.0,54.0,83.0,75.0,80.0,65.0,70.0,80.0,90.0,65.0,76.0,65.0,104.0,79.0,94.0,73.0,54.0,68.0,78.0,79.0,77.0,58.0,71.0,58.0,63.0,63.0,45.0,78.0,71.0,76.0,80.0,63.0,90.0,80.0,63.0,53.0,60.0,63.0,81.0,88.0,86.0,101.0,83.0,79.0,90.0,76.0,71.0,76.0,87.0,65.0,75.0,85.0,50.0,79.0,64.0,57.0,87.0,84.0,61.0,71.0,68.0,91.0,83.0,93.0,62.0,75.0,65.0,66.0,55.0,61.0,43.0,69.0,61.0,80.0,83.0,69.0,79.0,81.0,71.0,86.0,61.0,69.0,70.0,81.0,80.0,82.0,90.0,90.0,92.0,87.0,91.0,102.0,89.0,90.0,93.0,89.0,95.0,90.0,87.0,95.0,90.0,77.0,87.0,91.0,90.0,82.0,83.0,90.0,93.0,90.0,89.0,83.0,89.0,67.0,71.0,69.0,66.0,59.0,65.0,67.0,80.0,68.0,76.0,90.0,87.0,66.0,65.0,67.0,88.0,92.0,91.0,89.0,86.0,68.0,77.0,78.0,88.0,80.0,82.0,83.0,84.0,86.0,85.0,90.0,67.0,76.0,95.0,67.0,65.0,86.0,87.0,88.0,92.0,90.0,89.0,87.0,67.0,65.0,68.0],\"yaxis\":\"y\",\"type\":\"scatter\"}],                        {\"template\":{\"data\":{\"histogram2dcontour\":[{\"type\":\"histogram2dcontour\",\"colorbar\":{\"outlinewidth\":0,\"ticks\":\"\"},\"colorscale\":[[0.0,\"#0d0887\"],[0.1111111111111111,\"#46039f\"],[0.2222222222222222,\"#7201a8\"],[0.3333333333333333,\"#9c179e\"],[0.4444444444444444,\"#bd3786\"],[0.5555555555555556,\"#d8576b\"],[0.6666666666666666,\"#ed7953\"],[0.7777777777777778,\"#fb9f3a\"],[0.8888888888888888,\"#fdca26\"],[1.0,\"#f0f921\"]]}],\"choropleth\":[{\"type\":\"choropleth\",\"colorbar\":{\"outlinewidth\":0,\"ticks\":\"\"}}],\"histogram2d\":[{\"type\":\"histogram2d\",\"colorbar\":{\"outlinewidth\":0,\"ticks\":\"\"},\"colorscale\":[[0.0,\"#0d0887\"],[0.1111111111111111,\"#46039f\"],[0.2222222222222222,\"#7201a8\"],[0.3333333333333333,\"#9c179e\"],[0.4444444444444444,\"#bd3786\"],[0.5555555555555556,\"#d8576b\"],[0.6666666666666666,\"#ed7953\"],[0.7777777777777778,\"#fb9f3a\"],[0.8888888888888888,\"#fdca26\"],[1.0,\"#f0f921\"]]}],\"heatmap\":[{\"type\":\"heatmap\",\"colorbar\":{\"outlinewidth\":0,\"ticks\":\"\"},\"colorscale\":[[0.0,\"#0d0887\"],[0.1111111111111111,\"#46039f\"],[0.2222222222222222,\"#7201a8\"],[0.3333333333333333,\"#9c179e\"],[0.4444444444444444,\"#bd3786\"],[0.5555555555555556,\"#d8576b\"],[0.6666666666666666,\"#ed7953\"],[0.7777777777777778,\"#fb9f3a\"],[0.8888888888888888,\"#fdca26\"],[1.0,\"#f0f921\"]]}],\"heatmapgl\":[{\"type\":\"heatmapgl\",\"colorbar\":{\"outlinewidth\":0,\"ticks\":\"\"},\"colorscale\":[[0.0,\"#0d0887\"],[0.1111111111111111,\"#46039f\"],[0.2222222222222222,\"#7201a8\"],[0.3333333333333333,\"#9c179e\"],[0.4444444444444444,\"#bd3786\"],[0.5555555555555556,\"#d8576b\"],[0.6666666666666666,\"#ed7953\"],[0.7777777777777778,\"#fb9f3a\"],[0.8888888888888888,\"#fdca26\"],[1.0,\"#f0f921\"]]}],\"contourcarpet\":[{\"type\":\"contourcarpet\",\"colorbar\":{\"outlinewidth\":0,\"ticks\":\"\"}}],\"contour\":[{\"type\":\"contour\",\"colorbar\":{\"outlinewidth\":0,\"ticks\":\"\"},\"colorscale\":[[0.0,\"#0d0887\"],[0.1111111111111111,\"#46039f\"],[0.2222222222222222,\"#7201a8\"],[0.3333333333333333,\"#9c179e\"],[0.4444444444444444,\"#bd3786\"],[0.5555555555555556,\"#d8576b\"],[0.6666666666666666,\"#ed7953\"],[0.7777777777777778,\"#fb9f3a\"],[0.8888888888888888,\"#fdca26\"],[1.0,\"#f0f921\"]]}],\"surface\":[{\"type\":\"surface\",\"colorbar\":{\"outlinewidth\":0,\"ticks\":\"\"},\"colorscale\":[[0.0,\"#0d0887\"],[0.1111111111111111,\"#46039f\"],[0.2222222222222222,\"#7201a8\"],[0.3333333333333333,\"#9c179e\"],[0.4444444444444444,\"#bd3786\"],[0.5555555555555556,\"#d8576b\"],[0.6666666666666666,\"#ed7953\"],[0.7777777777777778,\"#fb9f3a\"],[0.8888888888888888,\"#fdca26\"],[1.0,\"#f0f921\"]]}],\"mesh3d\":[{\"type\":\"mesh3d\",\"colorbar\":{\"outlinewidth\":0,\"ticks\":\"\"}}],\"scatter\":[{\"fillpattern\":{\"fillmode\":\"overlay\",\"size\":10,\"solidity\":0.2},\"type\":\"scatter\"}],\"parcoords\":[{\"type\":\"parcoords\",\"line\":{\"colorbar\":{\"outlinewidth\":0,\"ticks\":\"\"}}}],\"scatterpolargl\":[{\"type\":\"scatterpolargl\",\"marker\":{\"colorbar\":{\"outlinewidth\":0,\"ticks\":\"\"}}}],\"bar\":[{\"error_x\":{\"color\":\"#2a3f5f\"},\"error_y\":{\"color\":\"#2a3f5f\"},\"marker\":{\"line\":{\"color\":\"#E5ECF6\",\"width\":0.5},\"pattern\":{\"fillmode\":\"overlay\",\"size\":10,\"solidity\":0.2}},\"type\":\"bar\"}],\"scattergeo\":[{\"type\":\"scattergeo\",\"marker\":{\"colorbar\":{\"outlinewidth\":0,\"ticks\":\"\"}}}],\"scatterpolar\":[{\"type\":\"scatterpolar\",\"marker\":{\"colorbar\":{\"outlinewidth\":0,\"ticks\":\"\"}}}],\"histogram\":[{\"marker\":{\"pattern\":{\"fillmode\":\"overlay\",\"size\":10,\"solidity\":0.2}},\"type\":\"histogram\"}],\"scattergl\":[{\"type\":\"scattergl\",\"marker\":{\"colorbar\":{\"outlinewidth\":0,\"ticks\":\"\"}}}],\"scatter3d\":[{\"type\":\"scatter3d\",\"line\":{\"colorbar\":{\"outlinewidth\":0,\"ticks\":\"\"}},\"marker\":{\"colorbar\":{\"outlinewidth\":0,\"ticks\":\"\"}}}],\"scattermapbox\":[{\"type\":\"scattermapbox\",\"marker\":{\"colorbar\":{\"outlinewidth\":0,\"ticks\":\"\"}}}],\"scatterternary\":[{\"type\":\"scatterternary\",\"marker\":{\"colorbar\":{\"outlinewidth\":0,\"ticks\":\"\"}}}],\"scattercarpet\":[{\"type\":\"scattercarpet\",\"marker\":{\"colorbar\":{\"outlinewidth\":0,\"ticks\":\"\"}}}],\"carpet\":[{\"aaxis\":{\"endlinecolor\":\"#2a3f5f\",\"gridcolor\":\"white\",\"linecolor\":\"white\",\"minorgridcolor\":\"white\",\"startlinecolor\":\"#2a3f5f\"},\"baxis\":{\"endlinecolor\":\"#2a3f5f\",\"gridcolor\":\"white\",\"linecolor\":\"white\",\"minorgridcolor\":\"white\",\"startlinecolor\":\"#2a3f5f\"},\"type\":\"carpet\"}],\"table\":[{\"cells\":{\"fill\":{\"color\":\"#EBF0F8\"},\"line\":{\"color\":\"white\"}},\"header\":{\"fill\":{\"color\":\"#C8D4E3\"},\"line\":{\"color\":\"white\"}},\"type\":\"table\"}],\"barpolar\":[{\"marker\":{\"line\":{\"color\":\"#E5ECF6\",\"width\":0.5},\"pattern\":{\"fillmode\":\"overlay\",\"size\":10,\"solidity\":0.2}},\"type\":\"barpolar\"}],\"pie\":[{\"automargin\":true,\"type\":\"pie\"}]},\"layout\":{\"autotypenumbers\":\"strict\",\"colorway\":[\"#636efa\",\"#EF553B\",\"#00cc96\",\"#ab63fa\",\"#FFA15A\",\"#19d3f3\",\"#FF6692\",\"#B6E880\",\"#FF97FF\",\"#FECB52\"],\"font\":{\"color\":\"#2a3f5f\"},\"hovermode\":\"closest\",\"hoverlabel\":{\"align\":\"left\"},\"paper_bgcolor\":\"white\",\"plot_bgcolor\":\"#E5ECF6\",\"polar\":{\"bgcolor\":\"#E5ECF6\",\"angularaxis\":{\"gridcolor\":\"white\",\"linecolor\":\"white\",\"ticks\":\"\"},\"radialaxis\":{\"gridcolor\":\"white\",\"linecolor\":\"white\",\"ticks\":\"\"}},\"ternary\":{\"bgcolor\":\"#E5ECF6\",\"aaxis\":{\"gridcolor\":\"white\",\"linecolor\":\"white\",\"ticks\":\"\"},\"baxis\":{\"gridcolor\":\"white\",\"linecolor\":\"white\",\"ticks\":\"\"},\"caxis\":{\"gridcolor\":\"white\",\"linecolor\":\"white\",\"ticks\":\"\"}},\"coloraxis\":{\"colorbar\":{\"outlinewidth\":0,\"ticks\":\"\"}},\"colorscale\":{\"sequential\":[[0.0,\"#0d0887\"],[0.1111111111111111,\"#46039f\"],[0.2222222222222222,\"#7201a8\"],[0.3333333333333333,\"#9c179e\"],[0.4444444444444444,\"#bd3786\"],[0.5555555555555556,\"#d8576b\"],[0.6666666666666666,\"#ed7953\"],[0.7777777777777778,\"#fb9f3a\"],[0.8888888888888888,\"#fdca26\"],[1.0,\"#f0f921\"]],\"sequentialminus\":[[0.0,\"#0d0887\"],[0.1111111111111111,\"#46039f\"],[0.2222222222222222,\"#7201a8\"],[0.3333333333333333,\"#9c179e\"],[0.4444444444444444,\"#bd3786\"],[0.5555555555555556,\"#d8576b\"],[0.6666666666666666,\"#ed7953\"],[0.7777777777777778,\"#fb9f3a\"],[0.8888888888888888,\"#fdca26\"],[1.0,\"#f0f921\"]],\"diverging\":[[0,\"#8e0152\"],[0.1,\"#c51b7d\"],[0.2,\"#de77ae\"],[0.3,\"#f1b6da\"],[0.4,\"#fde0ef\"],[0.5,\"#f7f7f7\"],[0.6,\"#e6f5d0\"],[0.7,\"#b8e186\"],[0.8,\"#7fbc41\"],[0.9,\"#4d9221\"],[1,\"#276419\"]]},\"xaxis\":{\"gridcolor\":\"white\",\"linecolor\":\"white\",\"ticks\":\"\",\"title\":{\"standoff\":15},\"zerolinecolor\":\"white\",\"automargin\":true,\"zerolinewidth\":2},\"yaxis\":{\"gridcolor\":\"white\",\"linecolor\":\"white\",\"ticks\":\"\",\"title\":{\"standoff\":15},\"zerolinecolor\":\"white\",\"automargin\":true,\"zerolinewidth\":2},\"scene\":{\"xaxis\":{\"backgroundcolor\":\"#E5ECF6\",\"gridcolor\":\"white\",\"linecolor\":\"white\",\"showbackground\":true,\"ticks\":\"\",\"zerolinecolor\":\"white\",\"gridwidth\":2},\"yaxis\":{\"backgroundcolor\":\"#E5ECF6\",\"gridcolor\":\"white\",\"linecolor\":\"white\",\"showbackground\":true,\"ticks\":\"\",\"zerolinecolor\":\"white\",\"gridwidth\":2},\"zaxis\":{\"backgroundcolor\":\"#E5ECF6\",\"gridcolor\":\"white\",\"linecolor\":\"white\",\"showbackground\":true,\"ticks\":\"\",\"zerolinecolor\":\"white\",\"gridwidth\":2}},\"shapedefaults\":{\"line\":{\"color\":\"#2a3f5f\"}},\"annotationdefaults\":{\"arrowcolor\":\"#2a3f5f\",\"arrowhead\":0,\"arrowwidth\":1},\"geo\":{\"bgcolor\":\"white\",\"landcolor\":\"#E5ECF6\",\"subunitcolor\":\"white\",\"showland\":true,\"showlakes\":true,\"lakecolor\":\"white\"},\"title\":{\"x\":0.05},\"mapbox\":{\"style\":\"light\"}}},\"xaxis\":{\"anchor\":\"y\",\"domain\":[0.0,1.0],\"title\":{\"text\":\"Height\"}},\"yaxis\":{\"anchor\":\"x\",\"domain\":[0.0,1.0],\"title\":{\"text\":\"Weight\"}},\"legend\":{\"tracegroupgap\":0},\"margin\":{\"t\":60}},                        {\"responsive\": true}                    ).then(function(){\n",
       "                            \n",
       "var gd = document.getElementById('c8ad1357-f0df-45ed-b356-774f1987a961');\n",
       "var x = new MutationObserver(function (mutations, observer) {{\n",
       "        var display = window.getComputedStyle(gd).display;\n",
       "        if (!display || display === 'none') {{\n",
       "            console.log([gd, 'removed!']);\n",
       "            Plotly.purge(gd);\n",
       "            observer.disconnect();\n",
       "        }}\n",
       "}});\n",
       "\n",
       "// Listen for the removal of the full notebook cells\n",
       "var notebookContainer = gd.closest('#notebook-container');\n",
       "if (notebookContainer) {{\n",
       "    x.observe(notebookContainer, {childList: true});\n",
       "}}\n",
       "\n",
       "// Listen for the clearing of the current output cell\n",
       "var outputEl = gd.closest('.output');\n",
       "if (outputEl) {{\n",
       "    x.observe(outputEl, {childList: true});\n",
       "}}\n",
       "\n",
       "                        })                };                });            </script>        </div>"
      ]
     },
     "metadata": {},
     "output_type": "display_data"
    }
   ],
   "source": [
    "# Create a scatter plot of 'Height' vs 'Weight', color-coded by 'Prediction'. What insights can you derive?\n",
    "# px.scatter(x=data['Height'], y=data['Weight'], hue='Prediction')\n",
    "# plt.show()\n",
    "fig = px.scatter(\n",
    "    x=data['Height'],\n",
    "    y=data['Weight'],\n",
    "    labels={'x': 'Height', 'y': 'Weight'}\n",
    ")\n",
    "# Show the plot\n",
    "fig.show()"
   ]
  },
  {
   "cell_type": "code",
   "execution_count": 110,
   "id": "875b15d2-553d-4542-b9d0-928c3c0b40bf",
   "metadata": {},
   "outputs": [
    {
     "data": {
      "application/vnd.plotly.v1+json": {
       "config": {
        "plotlyServerURL": "https://plot.ly"
       },
       "data": [
        {
         "alignmentgroup": "True",
         "box": {
          "visible": true
         },
         "hovertemplate": "Prediction=%{x}<br>BMI=%{y}<extra></extra>",
         "legendgroup": "",
         "marker": {
          "color": "#636efa"
         },
         "name": "",
         "offsetgroup": "",
         "orientation": "v",
         "points": "all",
         "scalegroup": "True",
         "showlegend": false,
         "type": "violin",
         "x": [
          0,
          0,
          0,
          0,
          0,
          0,
          0,
          0,
          0,
          0,
          0,
          0,
          0,
          0,
          0,
          0,
          0,
          0,
          0,
          0,
          0,
          0,
          0,
          0,
          0,
          0,
          0,
          0,
          0,
          0,
          0,
          0,
          0,
          0,
          0,
          0,
          0,
          0,
          0,
          0,
          0,
          0,
          0,
          0,
          0,
          0,
          0,
          0,
          0,
          0,
          0,
          0,
          0,
          0,
          0,
          0,
          0,
          0,
          0,
          0,
          0,
          0,
          0,
          1,
          0,
          0,
          0,
          0,
          0,
          0,
          0,
          0,
          0,
          0,
          0,
          0,
          0,
          0,
          0,
          0,
          0,
          0,
          1,
          0,
          0,
          0,
          0,
          0,
          0,
          0,
          0,
          0,
          0,
          0,
          0,
          0,
          0,
          0,
          0,
          0,
          0,
          0,
          0,
          0,
          0,
          0,
          0,
          0,
          0,
          0,
          0,
          0,
          0,
          0,
          0,
          0,
          0,
          0,
          0,
          0,
          0,
          0,
          0,
          0,
          0,
          0,
          1,
          0,
          1,
          0,
          0,
          1,
          0,
          0,
          0,
          0,
          0,
          0,
          0,
          0,
          0,
          0,
          1,
          0,
          0,
          1,
          1,
          0,
          0,
          0,
          0,
          0,
          0,
          0,
          0,
          1,
          1,
          0,
          1,
          0,
          0,
          0,
          0,
          0,
          0,
          0,
          0,
          0,
          0,
          0,
          0,
          0,
          0,
          0,
          0,
          0,
          0,
          0,
          0,
          0,
          0,
          0,
          0,
          0,
          0,
          1,
          1,
          0,
          0,
          0,
          0,
          0,
          0,
          0,
          0,
          0,
          0,
          0,
          0,
          0,
          0,
          0,
          0,
          0,
          0,
          0,
          0,
          0,
          0,
          0,
          0,
          0,
          1,
          1,
          0,
          0,
          0,
          0,
          0,
          0,
          0,
          0,
          0,
          0,
          0,
          0,
          0,
          0,
          0,
          0,
          0,
          0,
          0,
          1,
          0,
          0,
          0,
          0,
          0,
          0,
          0,
          1,
          0,
          0,
          0,
          0,
          0,
          0,
          0,
          0,
          0,
          0,
          0,
          0,
          1,
          0,
          0,
          0,
          0,
          0,
          0,
          0,
          0,
          0,
          0,
          0,
          0,
          1,
          0,
          1,
          0,
          0,
          1,
          1,
          1,
          0,
          1,
          1,
          0,
          1,
          0,
          0,
          0,
          0,
          0,
          0,
          1,
          0,
          0,
          0,
          0,
          0,
          1,
          0,
          1,
          1,
          1,
          0,
          0,
          0,
          0,
          0,
          0,
          0,
          0,
          0,
          0,
          0,
          0,
          0,
          0,
          0,
          0,
          0,
          0,
          0,
          0,
          0,
          1,
          0,
          1,
          0,
          0,
          0,
          1,
          1,
          0,
          1,
          0,
          0,
          0,
          0,
          0,
          0,
          0,
          0,
          0,
          0,
          1,
          1,
          0,
          0,
          1,
          1,
          0,
          0,
          0,
          0,
          0,
          1,
          0,
          0,
          1,
          0,
          0,
          0,
          1,
          0,
          1,
          0,
          0,
          1,
          1,
          0,
          0,
          0,
          0,
          1,
          1,
          1,
          0,
          1,
          1,
          1,
          1,
          0,
          0,
          1,
          0,
          1,
          1,
          0,
          1,
          1,
          1,
          1,
          0,
          1,
          0,
          0,
          1,
          0,
          1,
          1,
          0,
          0,
          0,
          1,
          0,
          0,
          0,
          1,
          0,
          0,
          1,
          0,
          0,
          0,
          0,
          0,
          1,
          0,
          0,
          0,
          0,
          0,
          0,
          0,
          1,
          0,
          0,
          0,
          0,
          0,
          1,
          0,
          0,
          1,
          0,
          1,
          1,
          0,
          1,
          1,
          1,
          1,
          1,
          1,
          0,
          0,
          0,
          0,
          1,
          1,
          0,
          0,
          1,
          0,
          1,
          0,
          0,
          1,
          1,
          0,
          1,
          0,
          0,
          0,
          0,
          1,
          1,
          0,
          0,
          0,
          0,
          0,
          0,
          0,
          1,
          1,
          1,
          1,
          0,
          1,
          0,
          0,
          1,
          1,
          1,
          0,
          1,
          0,
          1,
          1,
          0,
          1,
          1,
          1,
          1,
          0,
          0,
          1,
          1,
          0,
          1,
          1,
          0,
          1,
          1,
          1,
          0,
          1,
          0,
          0,
          0,
          0,
          1,
          0,
          0,
          0,
          1,
          1,
          0,
          1,
          1,
          1,
          1,
          0,
          0,
          0,
          0,
          0,
          0,
          0,
          0,
          1,
          0,
          0,
          0,
          0,
          0,
          0,
          1,
          0,
          0,
          1,
          0,
          1,
          0,
          0,
          0,
          0,
          0,
          1,
          0,
          0,
          0,
          0,
          0,
          0,
          0,
          0,
          0,
          0,
          0,
          0,
          0,
          0,
          0,
          1,
          1,
          0,
          0,
          0,
          0,
          1,
          0,
          0,
          0,
          1,
          1,
          0,
          0,
          0,
          1,
          0,
          0,
          0,
          1,
          0,
          0,
          1,
          0,
          0,
          0,
          0,
          1,
          0,
          0,
          0,
          1,
          1,
          0,
          1,
          1,
          1,
          1,
          0,
          1,
          1,
          1,
          1,
          1,
          0,
          0,
          0,
          0,
          0,
          1,
          0,
          0,
          0,
          0,
          1,
          0,
          0,
          0,
          0,
          0,
          0,
          0,
          0,
          0,
          0,
          1,
          0,
          0,
          0,
          0,
          1,
          1,
          0,
          0,
          0,
          0,
          0,
          0,
          0,
          1,
          1,
          0,
          0,
          0,
          0,
          0,
          0,
          0,
          0,
          0,
          1,
          0,
          0,
          0,
          0,
          0,
          0,
          0,
          0,
          0,
          0,
          0,
          0,
          0,
          0,
          0,
          0,
          0,
          0,
          0,
          0,
          0,
          0,
          0,
          0,
          0,
          0,
          0,
          0,
          0,
          0,
          0,
          1,
          0,
          0,
          0,
          0,
          0,
          0,
          0,
          0,
          1,
          0,
          0,
          0,
          0,
          0,
          0,
          0,
          0,
          0,
          0,
          0,
          0,
          0,
          0,
          0,
          0,
          0,
          0,
          0,
          0,
          0,
          0,
          0,
          0,
          0,
          0,
          0,
          0,
          0,
          0,
          0,
          0,
          0,
          0,
          0,
          1,
          0,
          0,
          0,
          0,
          1,
          0,
          1,
          0,
          0,
          0,
          0,
          0,
          0,
          0,
          1,
          0,
          0,
          0,
          0,
          0,
          0,
          0,
          0,
          0,
          1,
          0,
          0,
          0,
          0,
          0,
          0,
          0,
          0,
          0,
          0,
          0,
          0,
          0,
          0,
          1,
          0,
          0,
          0,
          0,
          0,
          0,
          0,
          0,
          0,
          0,
          0,
          0,
          1,
          0,
          0,
          0,
          1,
          0,
          0,
          1,
          0,
          0,
          1,
          0,
          0,
          0,
          0,
          0,
          1,
          0,
          1,
          0,
          0,
          0,
          0,
          0,
          0,
          0,
          0,
          1,
          0,
          1,
          0,
          0,
          0,
          0,
          0,
          0,
          0,
          0,
          0,
          0,
          1,
          1,
          1,
          0,
          1,
          1,
          1,
          0,
          0,
          1,
          0,
          0,
          0,
          1,
          1,
          1,
          1,
          1,
          0,
          0,
          0,
          0,
          0,
          1,
          0,
          0,
          1,
          0,
          0,
          0,
          0,
          0,
          0,
          0,
          1,
          0,
          0,
          1,
          0,
          0,
          0,
          0,
          0,
          1,
          1,
          0,
          0,
          0,
          0,
          1,
          0,
          1,
          0,
          0,
          0,
          0,
          0,
          1,
          0,
          0,
          1,
          0,
          1,
          0,
          0,
          0,
          1,
          0,
          1,
          0,
          0,
          1,
          0
         ],
         "x0": " ",
         "xaxis": "x",
         "y": [
          17.6,
          23.3,
          25.5,
          23.8,
          23,
          22.7,
          24.1,
          18.4,
          24.1,
          23.1,
          23.1,
          22.6,
          23.6,
          24.2,
          16,
          23.6,
          23.1,
          18,
          21.6,
          21.9,
          21.5,
          24,
          24,
          22.3,
          24.4,
          26.1,
          25.4,
          23.7,
          25.4,
          25.8,
          24,
          22.2,
          37.8,
          24.1,
          24.4,
          26.2,
          27.4,
          28.6,
          31.4,
          25.3,
          28.9,
          29.2,
          27.4,
          23.9,
          23,
          27.5,
          27.5,
          25.4,
          27.8,
          19.6,
          29.7,
          27,
          22.4,
          27.1,
          26.8,
          26.3,
          27.1,
          29,
          27.8,
          20.8,
          27.9,
          27.6,
          18.5,
          37.8,
          28.9,
          28.9,
          21.5,
          29.4,
          29,
          20.9,
          28.6,
          29.8,
          22.2,
          30.2,
          24,
          28.1,
          24.6,
          26,
          23,
          25.2,
          28.4,
          23,
          28,
          26.9,
          28,
          27.8,
          27.8,
          27.1,
          26.6,
          30.7,
          24.2,
          25.3,
          28.8,
          29.7,
          30,
          26.1,
          26.2,
          26.6,
          27,
          25.8,
          25,
          25,
          24.6,
          24.3,
          24,
          22.6,
          24.9,
          23.9,
          28.9,
          29.3,
          26.5,
          24,
          21.5,
          27.3,
          25.3,
          25.3,
          23.7,
          22.1,
          21.9,
          25.2,
          27.7,
          27,
          30.4,
          30.3,
          29.9,
          32.8,
          33.8,
          31.1,
          33.3,
          31.6,
          26.3,
          30.9,
          31.2,
          30.7,
          31.2,
          31.3,
          25.4,
          30,
          27.1,
          27.4,
          26.5,
          26.2,
          28,
          28.9,
          27.3,
          40.4,
          26.8,
          21,
          28,
          34.5,
          33.3,
          26,
          31.3,
          24.3,
          21.5,
          31.1,
          23.2,
          23.4,
          37.5,
          30.8,
          33.7,
          26.7,
          24.1,
          21,
          27,
          28.3,
          28.6,
          28.4,
          26.9,
          27.3,
          28,
          26.2,
          23,
          28.5,
          22.2,
          26.3,
          26,
          26.6,
          28.4,
          26.7,
          28.9,
          25.3,
          25.6,
          29.2,
          29.7,
          32.7,
          32.2,
          28.8,
          29.3,
          29.8,
          27.1,
          26.3,
          25.7,
          21.2,
          23.5,
          25.4,
          27.1,
          24.6,
          22.5,
          20.1,
          24.7,
          24.4,
          28,
          28.4,
          23.6,
          23.9,
          26,
          20.8,
          23.2,
          24.6,
          23,
          29.8,
          32.9,
          31.2,
          29.8,
          27.8,
          29.4,
          29.4,
          30.2,
          26.9,
          29.3,
          30.2,
          26.9,
          26.6,
          25.1,
          25.3,
          27.3,
          25,
          29.8,
          23.7,
          23.4,
          29.8,
          23.5,
          32.8,
          27,
          28.7,
          28.3,
          28.8,
          25.7,
          27.3,
          22.1,
          37.1,
          25.3,
          25,
          29.1,
          25.1,
          28.4,
          25.2,
          22.4,
          27,
          30.7,
          29.1,
          28.7,
          31.6,
          34.2,
          28.1,
          29.5,
          35.7,
          31.9,
          30.8,
          31.5,
          30.2,
          26.2,
          29.3,
          25.3,
          32.8,
          32.4,
          33.8,
          32.8,
          32.4,
          27.5,
          31.6,
          32.9,
          33.3,
          32.9,
          32,
          33.3,
          33.7,
          31.6,
          31.6,
          31.2,
          31.1,
          29.1,
          27.7,
          26.9,
          25.8,
          29.4,
          30.8,
          30.8,
          30.4,
          31.2,
          28.3,
          34.2,
          31.6,
          35.1,
          35.6,
          36.1,
          26.2,
          25.4,
          27.3,
          30.5,
          30.9,
          29.3,
          30.1,
          27.6,
          29.1,
          29.6,
          30.7,
          31.1,
          26.8,
          26.8,
          29.9,
          26.2,
          26.1,
          27.3,
          31.2,
          25.5,
          30.7,
          36.4,
          32.8,
          34,
          26.2,
          25.3,
          27.7,
          23.5,
          30.5,
          32.5,
          32,
          24,
          27.5,
          29.1,
          31.6,
          27.4,
          30.8,
          25.4,
          30.5,
          23.8,
          30.5,
          31.6,
          32.3,
          32,
          31.6,
          35,
          32,
          27.3,
          28.2,
          30.5,
          29,
          31.1,
          29.4,
          31.2,
          29.6,
          34.7,
          31.6,
          31.2,
          27.2,
          37.3,
          31.6,
          36,
          31.3,
          31.3,
          31.6,
          36.4,
          29.7,
          30.5,
          31.6,
          31.2,
          30.8,
          29.4,
          28.4,
          29.6,
          29.1,
          30.4,
          32.5,
          37.1,
          31.6,
          29,
          32.9,
          29,
          29.4,
          36.6,
          28.6,
          40,
          34.2,
          33,
          41.1,
          36.5,
          28.1,
          28.1,
          29.3,
          36,
          30,
          39.3,
          32.9,
          29,
          30.8,
          36.3,
          36.7,
          32,
          29.6,
          29.6,
          37.1,
          29.1,
          25.8,
          36.6,
          32,
          32,
          29.4,
          28.7,
          30.8,
          31.6,
          29,
          27.6,
          26.7,
          29,
          28.3,
          30.8,
          27.6,
          27.3,
          37.1,
          28.2,
          27.4,
          31.5,
          21.7,
          27.4,
          38.4,
          24.5,
          24.2,
          30.5,
          35.4,
          37.3,
          28.4,
          31.6,
          35.2,
          32,
          41.1,
          39.8,
          30.9,
          27.5,
          30.9,
          31.3,
          27.7,
          30.4,
          33.3,
          28.7,
          27.1,
          32.7,
          32.9,
          33.7,
          32,
          30.4,
          33.7,
          32.9,
          31.3,
          36.2,
          34.4,
          31.2,
          38.6,
          33.3,
          30.5,
          35.2,
          33.2,
          21.8,
          34.5,
          33.2,
          25.7,
          27.5,
          37.3,
          32.5,
          33.3,
          36,
          39,
          36,
          36.2,
          33.7,
          36.7,
          36.6,
          32.7,
          32.3,
          29.7,
          33.7,
          30.5,
          37.8,
          40.4,
          33.1,
          40,
          30.9,
          40,
          36.6,
          31,
          34.3,
          34.2,
          34.8,
          35.6,
          36.5,
          34.7,
          29.8,
          35.7,
          38.3,
          39.1,
          39.7,
          37.8,
          29.3,
          35.6,
          36.8,
          30.5,
          37.9,
          29.4,
          30.1,
          32.7,
          39.6,
          39.3,
          25.1,
          32.3,
          32.3,
          36.1,
          38.3,
          36.3,
          29.4,
          19.3,
          29.7,
          25.7,
          27.2,
          22.7,
          21.3,
          29.4,
          38.1,
          25.4,
          23,
          29.7,
          28,
          25.7,
          29.1,
          33.7,
          21.6,
          22,
          22.9,
          28.3,
          26.7,
          22.9,
          31.3,
          26.7,
          29.3,
          25.6,
          26.3,
          25,
          22.5,
          31.9,
          25.3,
          22,
          23,
          25.1,
          21.5,
          31.1,
          26.4,
          27.4,
          24,
          25.8,
          21.3,
          22.9,
          24.5,
          22.5,
          24.5,
          23,
          23.5,
          27.7,
          21.3,
          28.4,
          26.5,
          31.6,
          24,
          32.1,
          25.7,
          25.1,
          27.2,
          30.1,
          24.7,
          26,
          31.6,
          31,
          23.4,
          30,
          26.7,
          24.7,
          23.4,
          26.1,
          26.2,
          35.7,
          34.1,
          24.9,
          27.3,
          32.4,
          32.5,
          32.9,
          30.8,
          27.9,
          31.2,
          20.2,
          33.2,
          17.9,
          31.2,
          33.5,
          34.1,
          19.2,
          20.1,
          22.1,
          34.2,
          33.7,
          30.5,
          27.6,
          25.2,
          27.9,
          29.9,
          27.4,
          24.8,
          29,
          26.6,
          28.8,
          27.4,
          38.2,
          34.2,
          23.1,
          25.1,
          23.4,
          32.4,
          29.3,
          31.6,
          36.9,
          24.4,
          27.9,
          23.4,
          24,
          20.1,
          22.1,
          24.3,
          26.3,
          20.7,
          30.9,
          32,
          25.6,
          22.5,
          31.6,
          26.2,
          19.2,
          24.8,
          27.9,
          21,
          21.3,
          28.5,
          34,
          27.6,
          29.8,
          29,
          29.8,
          26.7,
          23.5,
          27.1,
          28.8,
          27.5,
          23.3,
          30.5,
          33.1,
          23.3,
          30.1,
          40.6,
          33.1,
          23.8,
          20.5,
          27.7,
          28.2,
          27.4,
          27,
          27.3,
          31.2,
          30.8,
          24.5,
          29.3,
          37.4,
          25.3,
          32.4,
          23.3,
          36.2,
          32.5,
          31.6,
          23.9,
          25.1,
          26.8,
          25.3,
          30.5,
          31.3,
          31.6,
          32.9,
          23.3,
          23.1,
          29.6,
          33.7,
          27.4,
          27.1,
          30.4,
          29,
          27,
          24.9,
          22.9,
          26.8,
          27.4,
          21.9,
          28.5,
          25,
          28,
          30.9,
          27.4,
          35.1,
          21.3,
          27.2,
          25.4,
          30.1,
          37.1,
          32.7,
          29,
          19.4,
          29.4,
          22.3,
          25.8,
          32.3,
          26.8,
          29.7,
          26.6,
          26,
          26,
          26.1,
          25.7,
          34.8,
          21.5,
          36.3,
          20.6,
          27.7,
          29.3,
          34.2,
          24.2,
          28,
          31.3,
          35.2,
          29.3,
          27.9,
          24.8,
          39.1,
          32.5,
          37.2,
          29.6,
          19.1,
          26.2,
          37.1,
          33.7,
          30.8,
          21.6,
          27.1,
          23.2,
          26.9,
          28,
          19.5,
          28.7,
          28.1,
          27.9,
          33.3,
          28,
          31.1,
          24.7,
          28,
          22.3,
          26.3,
          23.4,
          32.9,
          32.3,
          34,
          38,
          37.9,
          33.3,
          40,
          32,
          26.4,
          30.8,
          34.9,
          27.8,
          30.4,
          31.6,
          20,
          29,
          21.6,
          21.7,
          37.2,
          36.8,
          21.9,
          27.4,
          24.4,
          32.2,
          32.8,
          35,
          26.5,
          30,
          26,
          26.8,
          22.9,
          22.7,
          17.4,
          26,
          23.5,
          34.6,
          32,
          26.6,
          29.7,
          34.2,
          27.7,
          36.3,
          28.2,
          27.3,
          26.7,
          32.4,
          28.3,
          27.4,
          33.9,
          37.9,
          29,
          32,
          34.3,
          36.6,
          32.7,
          31.5,
          38.7,
          36.6,
          38.1,
          35.6,
          34,
          39,
          35.6,
          32,
          40.3,
          33.4,
          35.2,
          35.5,
          36.9,
          35.2,
          38.2,
          36.5,
          39,
          35.9,
          39.6,
          29.8,
          31.6,
          30.7,
          27.1,
          23,
          29.7,
          25.8,
          38,
          28.3,
          30.1,
          36.1,
          35.3,
          27.8,
          24.2,
          27.5,
          34.4,
          35.9,
          37.4,
          32.7,
          30.1,
          24.4,
          29.3,
          28.7,
          36.6,
          34.2,
          34.6,
          35.9,
          35,
          33.6,
          33.2,
          30.4,
          23.2,
          27.6,
          38.5,
          27.9,
          27.4,
          31.2,
          34,
          36.2,
          37.3,
          37.5,
          35.2,
          32,
          26.2,
          23.3,
          27.9
         ],
         "y0": " ",
         "yaxis": "y"
        }
       ],
       "layout": {
        "autosize": true,
        "legend": {
         "tracegroupgap": 0
        },
        "template": {
         "data": {
          "bar": [
           {
            "error_x": {
             "color": "#2a3f5f"
            },
            "error_y": {
             "color": "#2a3f5f"
            },
            "marker": {
             "line": {
              "color": "#E5ECF6",
              "width": 0.5
             },
             "pattern": {
              "fillmode": "overlay",
              "size": 10,
              "solidity": 0.2
             }
            },
            "type": "bar"
           }
          ],
          "barpolar": [
           {
            "marker": {
             "line": {
              "color": "#E5ECF6",
              "width": 0.5
             },
             "pattern": {
              "fillmode": "overlay",
              "size": 10,
              "solidity": 0.2
             }
            },
            "type": "barpolar"
           }
          ],
          "carpet": [
           {
            "aaxis": {
             "endlinecolor": "#2a3f5f",
             "gridcolor": "white",
             "linecolor": "white",
             "minorgridcolor": "white",
             "startlinecolor": "#2a3f5f"
            },
            "baxis": {
             "endlinecolor": "#2a3f5f",
             "gridcolor": "white",
             "linecolor": "white",
             "minorgridcolor": "white",
             "startlinecolor": "#2a3f5f"
            },
            "type": "carpet"
           }
          ],
          "choropleth": [
           {
            "colorbar": {
             "outlinewidth": 0,
             "ticks": ""
            },
            "type": "choropleth"
           }
          ],
          "contour": [
           {
            "colorbar": {
             "outlinewidth": 0,
             "ticks": ""
            },
            "colorscale": [
             [
              0,
              "#0d0887"
             ],
             [
              0.1111111111111111,
              "#46039f"
             ],
             [
              0.2222222222222222,
              "#7201a8"
             ],
             [
              0.3333333333333333,
              "#9c179e"
             ],
             [
              0.4444444444444444,
              "#bd3786"
             ],
             [
              0.5555555555555556,
              "#d8576b"
             ],
             [
              0.6666666666666666,
              "#ed7953"
             ],
             [
              0.7777777777777778,
              "#fb9f3a"
             ],
             [
              0.8888888888888888,
              "#fdca26"
             ],
             [
              1,
              "#f0f921"
             ]
            ],
            "type": "contour"
           }
          ],
          "contourcarpet": [
           {
            "colorbar": {
             "outlinewidth": 0,
             "ticks": ""
            },
            "type": "contourcarpet"
           }
          ],
          "heatmap": [
           {
            "colorbar": {
             "outlinewidth": 0,
             "ticks": ""
            },
            "colorscale": [
             [
              0,
              "#0d0887"
             ],
             [
              0.1111111111111111,
              "#46039f"
             ],
             [
              0.2222222222222222,
              "#7201a8"
             ],
             [
              0.3333333333333333,
              "#9c179e"
             ],
             [
              0.4444444444444444,
              "#bd3786"
             ],
             [
              0.5555555555555556,
              "#d8576b"
             ],
             [
              0.6666666666666666,
              "#ed7953"
             ],
             [
              0.7777777777777778,
              "#fb9f3a"
             ],
             [
              0.8888888888888888,
              "#fdca26"
             ],
             [
              1,
              "#f0f921"
             ]
            ],
            "type": "heatmap"
           }
          ],
          "heatmapgl": [
           {
            "colorbar": {
             "outlinewidth": 0,
             "ticks": ""
            },
            "colorscale": [
             [
              0,
              "#0d0887"
             ],
             [
              0.1111111111111111,
              "#46039f"
             ],
             [
              0.2222222222222222,
              "#7201a8"
             ],
             [
              0.3333333333333333,
              "#9c179e"
             ],
             [
              0.4444444444444444,
              "#bd3786"
             ],
             [
              0.5555555555555556,
              "#d8576b"
             ],
             [
              0.6666666666666666,
              "#ed7953"
             ],
             [
              0.7777777777777778,
              "#fb9f3a"
             ],
             [
              0.8888888888888888,
              "#fdca26"
             ],
             [
              1,
              "#f0f921"
             ]
            ],
            "type": "heatmapgl"
           }
          ],
          "histogram": [
           {
            "marker": {
             "pattern": {
              "fillmode": "overlay",
              "size": 10,
              "solidity": 0.2
             }
            },
            "type": "histogram"
           }
          ],
          "histogram2d": [
           {
            "colorbar": {
             "outlinewidth": 0,
             "ticks": ""
            },
            "colorscale": [
             [
              0,
              "#0d0887"
             ],
             [
              0.1111111111111111,
              "#46039f"
             ],
             [
              0.2222222222222222,
              "#7201a8"
             ],
             [
              0.3333333333333333,
              "#9c179e"
             ],
             [
              0.4444444444444444,
              "#bd3786"
             ],
             [
              0.5555555555555556,
              "#d8576b"
             ],
             [
              0.6666666666666666,
              "#ed7953"
             ],
             [
              0.7777777777777778,
              "#fb9f3a"
             ],
             [
              0.8888888888888888,
              "#fdca26"
             ],
             [
              1,
              "#f0f921"
             ]
            ],
            "type": "histogram2d"
           }
          ],
          "histogram2dcontour": [
           {
            "colorbar": {
             "outlinewidth": 0,
             "ticks": ""
            },
            "colorscale": [
             [
              0,
              "#0d0887"
             ],
             [
              0.1111111111111111,
              "#46039f"
             ],
             [
              0.2222222222222222,
              "#7201a8"
             ],
             [
              0.3333333333333333,
              "#9c179e"
             ],
             [
              0.4444444444444444,
              "#bd3786"
             ],
             [
              0.5555555555555556,
              "#d8576b"
             ],
             [
              0.6666666666666666,
              "#ed7953"
             ],
             [
              0.7777777777777778,
              "#fb9f3a"
             ],
             [
              0.8888888888888888,
              "#fdca26"
             ],
             [
              1,
              "#f0f921"
             ]
            ],
            "type": "histogram2dcontour"
           }
          ],
          "mesh3d": [
           {
            "colorbar": {
             "outlinewidth": 0,
             "ticks": ""
            },
            "type": "mesh3d"
           }
          ],
          "parcoords": [
           {
            "line": {
             "colorbar": {
              "outlinewidth": 0,
              "ticks": ""
             }
            },
            "type": "parcoords"
           }
          ],
          "pie": [
           {
            "automargin": true,
            "type": "pie"
           }
          ],
          "scatter": [
           {
            "fillpattern": {
             "fillmode": "overlay",
             "size": 10,
             "solidity": 0.2
            },
            "type": "scatter"
           }
          ],
          "scatter3d": [
           {
            "line": {
             "colorbar": {
              "outlinewidth": 0,
              "ticks": ""
             }
            },
            "marker": {
             "colorbar": {
              "outlinewidth": 0,
              "ticks": ""
             }
            },
            "type": "scatter3d"
           }
          ],
          "scattercarpet": [
           {
            "marker": {
             "colorbar": {
              "outlinewidth": 0,
              "ticks": ""
             }
            },
            "type": "scattercarpet"
           }
          ],
          "scattergeo": [
           {
            "marker": {
             "colorbar": {
              "outlinewidth": 0,
              "ticks": ""
             }
            },
            "type": "scattergeo"
           }
          ],
          "scattergl": [
           {
            "marker": {
             "colorbar": {
              "outlinewidth": 0,
              "ticks": ""
             }
            },
            "type": "scattergl"
           }
          ],
          "scattermapbox": [
           {
            "marker": {
             "colorbar": {
              "outlinewidth": 0,
              "ticks": ""
             }
            },
            "type": "scattermapbox"
           }
          ],
          "scatterpolar": [
           {
            "marker": {
             "colorbar": {
              "outlinewidth": 0,
              "ticks": ""
             }
            },
            "type": "scatterpolar"
           }
          ],
          "scatterpolargl": [
           {
            "marker": {
             "colorbar": {
              "outlinewidth": 0,
              "ticks": ""
             }
            },
            "type": "scatterpolargl"
           }
          ],
          "scatterternary": [
           {
            "marker": {
             "colorbar": {
              "outlinewidth": 0,
              "ticks": ""
             }
            },
            "type": "scatterternary"
           }
          ],
          "surface": [
           {
            "colorbar": {
             "outlinewidth": 0,
             "ticks": ""
            },
            "colorscale": [
             [
              0,
              "#0d0887"
             ],
             [
              0.1111111111111111,
              "#46039f"
             ],
             [
              0.2222222222222222,
              "#7201a8"
             ],
             [
              0.3333333333333333,
              "#9c179e"
             ],
             [
              0.4444444444444444,
              "#bd3786"
             ],
             [
              0.5555555555555556,
              "#d8576b"
             ],
             [
              0.6666666666666666,
              "#ed7953"
             ],
             [
              0.7777777777777778,
              "#fb9f3a"
             ],
             [
              0.8888888888888888,
              "#fdca26"
             ],
             [
              1,
              "#f0f921"
             ]
            ],
            "type": "surface"
           }
          ],
          "table": [
           {
            "cells": {
             "fill": {
              "color": "#EBF0F8"
             },
             "line": {
              "color": "white"
             }
            },
            "header": {
             "fill": {
              "color": "#C8D4E3"
             },
             "line": {
              "color": "white"
             }
            },
            "type": "table"
           }
          ]
         },
         "layout": {
          "annotationdefaults": {
           "arrowcolor": "#2a3f5f",
           "arrowhead": 0,
           "arrowwidth": 1
          },
          "autotypenumbers": "strict",
          "coloraxis": {
           "colorbar": {
            "outlinewidth": 0,
            "ticks": ""
           }
          },
          "colorscale": {
           "diverging": [
            [
             0,
             "#8e0152"
            ],
            [
             0.1,
             "#c51b7d"
            ],
            [
             0.2,
             "#de77ae"
            ],
            [
             0.3,
             "#f1b6da"
            ],
            [
             0.4,
             "#fde0ef"
            ],
            [
             0.5,
             "#f7f7f7"
            ],
            [
             0.6,
             "#e6f5d0"
            ],
            [
             0.7,
             "#b8e186"
            ],
            [
             0.8,
             "#7fbc41"
            ],
            [
             0.9,
             "#4d9221"
            ],
            [
             1,
             "#276419"
            ]
           ],
           "sequential": [
            [
             0,
             "#0d0887"
            ],
            [
             0.1111111111111111,
             "#46039f"
            ],
            [
             0.2222222222222222,
             "#7201a8"
            ],
            [
             0.3333333333333333,
             "#9c179e"
            ],
            [
             0.4444444444444444,
             "#bd3786"
            ],
            [
             0.5555555555555556,
             "#d8576b"
            ],
            [
             0.6666666666666666,
             "#ed7953"
            ],
            [
             0.7777777777777778,
             "#fb9f3a"
            ],
            [
             0.8888888888888888,
             "#fdca26"
            ],
            [
             1,
             "#f0f921"
            ]
           ],
           "sequentialminus": [
            [
             0,
             "#0d0887"
            ],
            [
             0.1111111111111111,
             "#46039f"
            ],
            [
             0.2222222222222222,
             "#7201a8"
            ],
            [
             0.3333333333333333,
             "#9c179e"
            ],
            [
             0.4444444444444444,
             "#bd3786"
            ],
            [
             0.5555555555555556,
             "#d8576b"
            ],
            [
             0.6666666666666666,
             "#ed7953"
            ],
            [
             0.7777777777777778,
             "#fb9f3a"
            ],
            [
             0.8888888888888888,
             "#fdca26"
            ],
            [
             1,
             "#f0f921"
            ]
           ]
          },
          "colorway": [
           "#636efa",
           "#EF553B",
           "#00cc96",
           "#ab63fa",
           "#FFA15A",
           "#19d3f3",
           "#FF6692",
           "#B6E880",
           "#FF97FF",
           "#FECB52"
          ],
          "font": {
           "color": "#2a3f5f"
          },
          "geo": {
           "bgcolor": "white",
           "lakecolor": "white",
           "landcolor": "#E5ECF6",
           "showlakes": true,
           "showland": true,
           "subunitcolor": "white"
          },
          "hoverlabel": {
           "align": "left"
          },
          "hovermode": "closest",
          "mapbox": {
           "style": "light"
          },
          "paper_bgcolor": "white",
          "plot_bgcolor": "#E5ECF6",
          "polar": {
           "angularaxis": {
            "gridcolor": "white",
            "linecolor": "white",
            "ticks": ""
           },
           "bgcolor": "#E5ECF6",
           "radialaxis": {
            "gridcolor": "white",
            "linecolor": "white",
            "ticks": ""
           }
          },
          "scene": {
           "xaxis": {
            "backgroundcolor": "#E5ECF6",
            "gridcolor": "white",
            "gridwidth": 2,
            "linecolor": "white",
            "showbackground": true,
            "ticks": "",
            "zerolinecolor": "white"
           },
           "yaxis": {
            "backgroundcolor": "#E5ECF6",
            "gridcolor": "white",
            "gridwidth": 2,
            "linecolor": "white",
            "showbackground": true,
            "ticks": "",
            "zerolinecolor": "white"
           },
           "zaxis": {
            "backgroundcolor": "#E5ECF6",
            "gridcolor": "white",
            "gridwidth": 2,
            "linecolor": "white",
            "showbackground": true,
            "ticks": "",
            "zerolinecolor": "white"
           }
          },
          "shapedefaults": {
           "line": {
            "color": "#2a3f5f"
           }
          },
          "ternary": {
           "aaxis": {
            "gridcolor": "white",
            "linecolor": "white",
            "ticks": ""
           },
           "baxis": {
            "gridcolor": "white",
            "linecolor": "white",
            "ticks": ""
           },
           "bgcolor": "#E5ECF6",
           "caxis": {
            "gridcolor": "white",
            "linecolor": "white",
            "ticks": ""
           }
          },
          "title": {
           "x": 0.05
          },
          "xaxis": {
           "automargin": true,
           "gridcolor": "white",
           "linecolor": "white",
           "ticks": "",
           "title": {
            "standoff": 15
           },
           "zerolinecolor": "white",
           "zerolinewidth": 2
          },
          "yaxis": {
           "automargin": true,
           "gridcolor": "white",
           "linecolor": "white",
           "ticks": "",
           "title": {
            "standoff": 15
           },
           "zerolinecolor": "white",
           "zerolinewidth": 2
          }
         }
        },
        "title": {
         "text": "BMI Distribution Across Prediction Levels"
        },
        "violinmode": "group",
        "xaxis": {
         "anchor": "y",
         "autorange": true,
         "domain": [
          0,
          1
         ],
         "range": [
          -0.5063829787234042,
          1.5
         ],
         "title": {
          "text": "Prediction"
         },
         "type": "linear"
        },
        "yaxis": {
         "anchor": "x",
         "autorange": true,
         "domain": [
          0,
          1
         ],
         "range": [
          11.893404723060506,
          45.939777464411584
         ],
         "title": {
          "text": "BMI"
         },
         "type": "linear"
        }
       }
      },
      "image/png": "[encoded data removed]",
      "text/html": [
       "<div>                            <div id=\"02c5586f-f5cf-43fc-954c-71b024929698\" class=\"plotly-graph-div\" style=\"height:525px; width:100%;\"></div>            <script type=\"text/javascript\">                require([\"plotly\"], function(Plotly) {                    window.PLOTLYENV=window.PLOTLYENV || {};                                    if (document.getElementById(\"02c5586f-f5cf-43fc-954c-71b024929698\")) {                    Plotly.newPlot(                        \"02c5586f-f5cf-43fc-954c-71b024929698\",                        [{\"alignmentgroup\":\"True\",\"box\":{\"visible\":true},\"hovertemplate\":\"Prediction=%{x}\\u003cbr\\u003eBMI=%{y}\\u003cextra\\u003e\\u003c\\u002fextra\\u003e\",\"legendgroup\":\"\",\"marker\":{\"color\":\"#636efa\"},\"name\":\"\",\"offsetgroup\":\"\",\"orientation\":\"v\",\"points\":\"all\",\"scalegroup\":\"True\",\"showlegend\":false,\"x\":[0,0,0,0,0,0,0,0,0,0,0,0,0,0,0,0,0,0,0,0,0,0,0,0,0,0,0,0,0,0,0,0,0,0,0,0,0,0,0,0,0,0,0,0,0,0,0,0,0,0,0,0,0,0,0,0,0,0,0,0,0,0,0,1,0,0,0,0,0,0,0,0,0,0,0,0,0,0,0,0,0,0,1,0,0,0,0,0,0,0,0,0,0,0,0,0,0,0,0,0,0,0,0,0,0,0,0,0,0,0,0,0,0,0,0,0,0,0,0,0,0,0,0,0,0,0,1,0,1,0,0,1,0,0,0,0,0,0,0,0,0,0,1,0,0,1,1,0,0,0,0,0,0,0,0,1,1,0,1,0,0,0,0,0,0,0,0,0,0,0,0,0,0,0,0,0,0,0,0,0,0,0,0,0,0,1,1,0,0,0,0,0,0,0,0,0,0,0,0,0,0,0,0,0,0,0,0,0,0,0,0,0,1,1,0,0,0,0,0,0,0,0,0,0,0,0,0,0,0,0,0,0,0,1,0,0,0,0,0,0,0,1,0,0,0,0,0,0,0,0,0,0,0,0,1,0,0,0,0,0,0,0,0,0,0,0,0,1,0,1,0,0,1,1,1,0,1,1,0,1,0,0,0,0,0,0,1,0,0,0,0,0,1,0,1,1,1,0,0,0,0,0,0,0,0,0,0,0,0,0,0,0,0,0,0,0,0,0,1,0,1,0,0,0,1,1,0,1,0,0,0,0,0,0,0,0,0,0,1,1,0,0,1,1,0,0,0,0,0,1,0,0,1,0,0,0,1,0,1,0,0,1,1,0,0,0,0,1,1,1,0,1,1,1,1,0,0,1,0,1,1,0,1,1,1,1,0,1,0,0,1,0,1,1,0,0,0,1,0,0,0,1,0,0,1,0,0,0,0,0,1,0,0,0,0,0,0,0,1,0,0,0,0,0,1,0,0,1,0,1,1,0,1,1,1,1,1,1,0,0,0,0,1,1,0,0,1,0,1,0,0,1,1,0,1,0,0,0,0,1,1,0,0,0,0,0,0,0,1,1,1,1,0,1,0,0,1,1,1,0,1,0,1,1,0,1,1,1,1,0,0,1,1,0,1,1,0,1,1,1,0,1,0,0,0,0,1,0,0,0,1,1,0,1,1,1,1,0,0,0,0,0,0,0,0,1,0,0,0,0,0,0,1,0,0,1,0,1,0,0,0,0,0,1,0,0,0,0,0,0,0,0,0,0,0,0,0,0,0,1,1,0,0,0,0,1,0,0,0,1,1,0,0,0,1,0,0,0,1,0,0,1,0,0,0,0,1,0,0,0,1,1,0,1,1,1,1,0,1,1,1,1,1,0,0,0,0,0,1,0,0,0,0,1,0,0,0,0,0,0,0,0,0,0,1,0,0,0,0,1,1,0,0,0,0,0,0,0,1,1,0,0,0,0,0,0,0,0,0,1,0,0,0,0,0,0,0,0,0,0,0,0,0,0,0,0,0,0,0,0,0,0,0,0,0,0,0,0,0,0,0,1,0,0,0,0,0,0,0,0,1,0,0,0,0,0,0,0,0,0,0,0,0,0,0,0,0,0,0,0,0,0,0,0,0,0,0,0,0,0,0,0,0,0,0,0,1,0,0,0,0,1,0,1,0,0,0,0,0,0,0,1,0,0,0,0,0,0,0,0,0,1,0,0,0,0,0,0,0,0,0,0,0,0,0,0,1,0,0,0,0,0,0,0,0,0,0,0,0,1,0,0,0,1,0,0,1,0,0,1,0,0,0,0,0,1,0,1,0,0,0,0,0,0,0,0,1,0,1,0,0,0,0,0,0,0,0,0,0,1,1,1,0,1,1,1,0,0,1,0,0,0,1,1,1,1,1,0,0,0,0,0,1,0,0,1,0,0,0,0,0,0,0,1,0,0,1,0,0,0,0,0,1,1,0,0,0,0,1,0,1,0,0,0,0,0,1,0,0,1,0,1,0,0,0,1,0,1,0,0,1,0],\"x0\":\" \",\"xaxis\":\"x\",\"y\":[17.6,23.3,25.5,23.8,23.0,22.7,24.1,18.4,24.1,23.1,23.1,22.6,23.6,24.2,16.0,23.6,23.1,18.0,21.6,21.9,21.5,24.0,24.0,22.3,24.4,26.1,25.4,23.7,25.4,25.8,24.0,22.2,37.8,24.1,24.4,26.2,27.4,28.6,31.4,25.3,28.9,29.2,27.4,23.9,23.0,27.5,27.5,25.4,27.8,19.6,29.7,27.0,22.4,27.1,26.8,26.3,27.1,29.0,27.8,20.8,27.9,27.6,18.5,37.8,28.9,28.9,21.5,29.4,29.0,20.9,28.6,29.8,22.2,30.2,24.0,28.1,24.6,26.0,23.0,25.2,28.4,23.0,28.0,26.9,28.0,27.8,27.8,27.1,26.6,30.7,24.2,25.3,28.8,29.7,30.0,26.1,26.2,26.6,27.0,25.8,25.0,25.0,24.6,24.3,24.0,22.6,24.9,23.9,28.9,29.3,26.5,24.0,21.5,27.3,25.3,25.3,23.7,22.1,21.9,25.2,27.7,27.0,30.4,30.3,29.9,32.8,33.8,31.1,33.3,31.6,26.3,30.9,31.2,30.7,31.2,31.3,25.4,30.0,27.1,27.4,26.5,26.2,28.0,28.9,27.3,40.4,26.8,21.0,28.0,34.5,33.3,26.0,31.3,24.3,21.5,31.1,23.2,23.4,37.5,30.8,33.7,26.7,24.1,21.0,27.0,28.3,28.6,28.4,26.9,27.3,28.0,26.2,23.0,28.5,22.2,26.3,26.0,26.6,28.4,26.7,28.9,25.3,25.6,29.2,29.7,32.7,32.2,28.8,29.3,29.8,27.1,26.3,25.7,21.2,23.5,25.4,27.1,24.6,22.5,20.1,24.7,24.4,28.0,28.4,23.6,23.9,26.0,20.8,23.2,24.6,23.0,29.8,32.9,31.2,29.8,27.8,29.4,29.4,30.2,26.9,29.3,30.2,26.9,26.6,25.1,25.3,27.3,25.0,29.8,23.7,23.4,29.8,23.5,32.8,27.0,28.7,28.3,28.8,25.7,27.3,22.1,37.1,25.3,25.0,29.1,25.1,28.4,25.2,22.4,27.0,30.7,29.1,28.7,31.6,34.2,28.1,29.5,35.7,31.9,30.8,31.5,30.2,26.2,29.3,25.3,32.8,32.4,33.8,32.8,32.4,27.5,31.6,32.9,33.3,32.9,32.0,33.3,33.7,31.6,31.6,31.2,31.1,29.1,27.7,26.9,25.8,29.4,30.8,30.8,30.4,31.2,28.3,34.2,31.6,35.1,35.6,36.1,26.2,25.4,27.3,30.5,30.9,29.3,30.1,27.6,29.1,29.6,30.7,31.1,26.8,26.8,29.9,26.2,26.1,27.3,31.2,25.5,30.7,36.4,32.8,34.0,26.2,25.3,27.7,23.5,30.5,32.5,32.0,24.0,27.5,29.1,31.6,27.4,30.8,25.4,30.5,23.8,30.5,31.6,32.3,32.0,31.6,35.0,32.0,27.3,28.2,30.5,29.0,31.1,29.4,31.2,29.6,34.7,31.6,31.2,27.2,37.3,31.6,36.0,31.3,31.3,31.6,36.4,29.7,30.5,31.6,31.2,30.8,29.4,28.4,29.6,29.1,30.4,32.5,37.1,31.6,29.0,32.9,29.0,29.4,36.6,28.6,40.0,34.2,33.0,41.1,36.5,28.1,28.1,29.3,36.0,30.0,39.3,32.9,29.0,30.8,36.3,36.7,32.0,29.6,29.6,37.1,29.1,25.8,36.6,32.0,32.0,29.4,28.7,30.8,31.6,29.0,27.6,26.7,29.0,28.3,30.8,27.6,27.3,37.1,28.2,27.4,31.5,21.7,27.4,38.4,24.5,24.2,30.5,35.4,37.3,28.4,31.6,35.2,32.0,41.1,39.8,30.9,27.5,30.9,31.3,27.7,30.4,33.3,28.7,27.1,32.7,32.9,33.7,32.0,30.4,33.7,32.9,31.3,36.2,34.4,31.2,38.6,33.3,30.5,35.2,33.2,21.8,34.5,33.2,25.7,27.5,37.3,32.5,33.3,36.0,39.0,36.0,36.2,33.7,36.7,36.6,32.7,32.3,29.7,33.7,30.5,37.8,40.4,33.1,40.0,30.9,40.0,36.6,31.0,34.3,34.2,34.8,35.6,36.5,34.7,29.8,35.7,38.3,39.1,39.7,37.8,29.3,35.6,36.8,30.5,37.9,29.4,30.1,32.7,39.6,39.3,25.1,32.3,32.3,36.1,38.3,36.3,29.4,19.3,29.7,25.7,27.2,22.7,21.3,29.4,38.1,25.4,23.0,29.7,28.0,25.7,29.1,33.7,21.6,22.0,22.9,28.3,26.7,22.9,31.3,26.7,29.3,25.6,26.3,25.0,22.5,31.9,25.3,22.0,23.0,25.1,21.5,31.1,26.4,27.4,24.0,25.8,21.3,22.9,24.5,22.5,24.5,23.0,23.5,27.7,21.3,28.4,26.5,31.6,24.0,32.1,25.7,25.1,27.2,30.1,24.7,26.0,31.6,31.0,23.4,30.0,26.7,24.7,23.4,26.1,26.2,35.7,34.1,24.9,27.3,32.4,32.5,32.9,30.8,27.9,31.2,20.2,33.2,17.9,31.2,33.5,34.1,19.2,20.1,22.1,34.2,33.7,30.5,27.6,25.2,27.9,29.9,27.4,24.8,29.0,26.6,28.8,27.4,38.2,34.2,23.1,25.1,23.4,32.4,29.3,31.6,36.9,24.4,27.9,23.4,24.0,20.1,22.1,24.3,26.3,20.7,30.9,32.0,25.6,22.5,31.6,26.2,19.2,24.8,27.9,21.0,21.3,28.5,34.0,27.6,29.8,29.0,29.8,26.7,23.5,27.1,28.8,27.5,23.3,30.5,33.1,23.3,30.1,40.6,33.1,23.8,20.5,27.7,28.2,27.4,27.0,27.3,31.2,30.8,24.5,29.3,37.4,25.3,32.4,23.3,36.2,32.5,31.6,23.9,25.1,26.8,25.3,30.5,31.3,31.6,32.9,23.3,23.1,29.6,33.7,27.4,27.1,30.4,29.0,27.0,24.9,22.9,26.8,27.4,21.9,28.5,25.0,28.0,30.9,27.4,35.1,21.3,27.2,25.4,30.1,37.1,32.7,29.0,19.4,29.4,22.3,25.8,32.3,26.8,29.7,26.6,26.0,26.0,26.1,25.7,34.8,21.5,36.3,20.6,27.7,29.3,34.2,24.2,28.0,31.3,35.2,29.3,27.9,24.8,39.1,32.5,37.2,29.6,19.1,26.2,37.1,33.7,30.8,21.6,27.1,23.2,26.9,28.0,19.5,28.7,28.1,27.9,33.3,28.0,31.1,24.7,28.0,22.3,26.3,23.4,32.9,32.3,34.0,38.0,37.9,33.3,40.0,32.0,26.4,30.8,34.9,27.8,30.4,31.6,20.0,29.0,21.6,21.7,37.2,36.8,21.9,27.4,24.4,32.2,32.8,35.0,26.5,30.0,26.0,26.8,22.9,22.7,17.4,26.0,23.5,34.6,32.0,26.6,29.7,34.2,27.7,36.3,28.2,27.3,26.7,32.4,28.3,27.4,33.9,37.9,29.0,32.0,34.3,36.6,32.7,31.5,38.7,36.6,38.1,35.6,34.0,39.0,35.6,32.0,40.3,33.4,35.2,35.5,36.9,35.2,38.2,36.5,39.0,35.9,39.6,29.8,31.6,30.7,27.1,23.0,29.7,25.8,38.0,28.3,30.1,36.1,35.3,27.8,24.2,27.5,34.4,35.9,37.4,32.7,30.1,24.4,29.3,28.7,36.6,34.2,34.6,35.9,35.0,33.6,33.2,30.4,23.2,27.6,38.5,27.9,27.4,31.2,34.0,36.2,37.3,37.5,35.2,32.0,26.2,23.3,27.9],\"y0\":\" \",\"yaxis\":\"y\",\"type\":\"violin\"}],                        {\"template\":{\"data\":{\"histogram2dcontour\":[{\"type\":\"histogram2dcontour\",\"colorbar\":{\"outlinewidth\":0,\"ticks\":\"\"},\"colorscale\":[[0.0,\"#0d0887\"],[0.1111111111111111,\"#46039f\"],[0.2222222222222222,\"#7201a8\"],[0.3333333333333333,\"#9c179e\"],[0.4444444444444444,\"#bd3786\"],[0.5555555555555556,\"#d8576b\"],[0.6666666666666666,\"#ed7953\"],[0.7777777777777778,\"#fb9f3a\"],[0.8888888888888888,\"#fdca26\"],[1.0,\"#f0f921\"]]}],\"choropleth\":[{\"type\":\"choropleth\",\"colorbar\":{\"outlinewidth\":0,\"ticks\":\"\"}}],\"histogram2d\":[{\"type\":\"histogram2d\",\"colorbar\":{\"outlinewidth\":0,\"ticks\":\"\"},\"colorscale\":[[0.0,\"#0d0887\"],[0.1111111111111111,\"#46039f\"],[0.2222222222222222,\"#7201a8\"],[0.3333333333333333,\"#9c179e\"],[0.4444444444444444,\"#bd3786\"],[0.5555555555555556,\"#d8576b\"],[0.6666666666666666,\"#ed7953\"],[0.7777777777777778,\"#fb9f3a\"],[0.8888888888888888,\"#fdca26\"],[1.0,\"#f0f921\"]]}],\"heatmap\":[{\"type\":\"heatmap\",\"colorbar\":{\"outlinewidth\":0,\"ticks\":\"\"},\"colorscale\":[[0.0,\"#0d0887\"],[0.1111111111111111,\"#46039f\"],[0.2222222222222222,\"#7201a8\"],[0.3333333333333333,\"#9c179e\"],[0.4444444444444444,\"#bd3786\"],[0.5555555555555556,\"#d8576b\"],[0.6666666666666666,\"#ed7953\"],[0.7777777777777778,\"#fb9f3a\"],[0.8888888888888888,\"#fdca26\"],[1.0,\"#f0f921\"]]}],\"heatmapgl\":[{\"type\":\"heatmapgl\",\"colorbar\":{\"outlinewidth\":0,\"ticks\":\"\"},\"colorscale\":[[0.0,\"#0d0887\"],[0.1111111111111111,\"#46039f\"],[0.2222222222222222,\"#7201a8\"],[0.3333333333333333,\"#9c179e\"],[0.4444444444444444,\"#bd3786\"],[0.5555555555555556,\"#d8576b\"],[0.6666666666666666,\"#ed7953\"],[0.7777777777777778,\"#fb9f3a\"],[0.8888888888888888,\"#fdca26\"],[1.0,\"#f0f921\"]]}],\"contourcarpet\":[{\"type\":\"contourcarpet\",\"colorbar\":{\"outlinewidth\":0,\"ticks\":\"\"}}],\"contour\":[{\"type\":\"contour\",\"colorbar\":{\"outlinewidth\":0,\"ticks\":\"\"},\"colorscale\":[[0.0,\"#0d0887\"],[0.1111111111111111,\"#46039f\"],[0.2222222222222222,\"#7201a8\"],[0.3333333333333333,\"#9c179e\"],[0.4444444444444444,\"#bd3786\"],[0.5555555555555556,\"#d8576b\"],[0.6666666666666666,\"#ed7953\"],[0.7777777777777778,\"#fb9f3a\"],[0.8888888888888888,\"#fdca26\"],[1.0,\"#f0f921\"]]}],\"surface\":[{\"type\":\"surface\",\"colorbar\":{\"outlinewidth\":0,\"ticks\":\"\"},\"colorscale\":[[0.0,\"#0d0887\"],[0.1111111111111111,\"#46039f\"],[0.2222222222222222,\"#7201a8\"],[0.3333333333333333,\"#9c179e\"],[0.4444444444444444,\"#bd3786\"],[0.5555555555555556,\"#d8576b\"],[0.6666666666666666,\"#ed7953\"],[0.7777777777777778,\"#fb9f3a\"],[0.8888888888888888,\"#fdca26\"],[1.0,\"#f0f921\"]]}],\"mesh3d\":[{\"type\":\"mesh3d\",\"colorbar\":{\"outlinewidth\":0,\"ticks\":\"\"}}],\"scatter\":[{\"fillpattern\":{\"fillmode\":\"overlay\",\"size\":10,\"solidity\":0.2},\"type\":\"scatter\"}],\"parcoords\":[{\"type\":\"parcoords\",\"line\":{\"colorbar\":{\"outlinewidth\":0,\"ticks\":\"\"}}}],\"scatterpolargl\":[{\"type\":\"scatterpolargl\",\"marker\":{\"colorbar\":{\"outlinewidth\":0,\"ticks\":\"\"}}}],\"bar\":[{\"error_x\":{\"color\":\"#2a3f5f\"},\"error_y\":{\"color\":\"#2a3f5f\"},\"marker\":{\"line\":{\"color\":\"#E5ECF6\",\"width\":0.5},\"pattern\":{\"fillmode\":\"overlay\",\"size\":10,\"solidity\":0.2}},\"type\":\"bar\"}],\"scattergeo\":[{\"type\":\"scattergeo\",\"marker\":{\"colorbar\":{\"outlinewidth\":0,\"ticks\":\"\"}}}],\"scatterpolar\":[{\"type\":\"scatterpolar\",\"marker\":{\"colorbar\":{\"outlinewidth\":0,\"ticks\":\"\"}}}],\"histogram\":[{\"marker\":{\"pattern\":{\"fillmode\":\"overlay\",\"size\":10,\"solidity\":0.2}},\"type\":\"histogram\"}],\"scattergl\":[{\"type\":\"scattergl\",\"marker\":{\"colorbar\":{\"outlinewidth\":0,\"ticks\":\"\"}}}],\"scatter3d\":[{\"type\":\"scatter3d\",\"line\":{\"colorbar\":{\"outlinewidth\":0,\"ticks\":\"\"}},\"marker\":{\"colorbar\":{\"outlinewidth\":0,\"ticks\":\"\"}}}],\"scattermapbox\":[{\"type\":\"scattermapbox\",\"marker\":{\"colorbar\":{\"outlinewidth\":0,\"ticks\":\"\"}}}],\"scatterternary\":[{\"type\":\"scatterternary\",\"marker\":{\"colorbar\":{\"outlinewidth\":0,\"ticks\":\"\"}}}],\"scattercarpet\":[{\"type\":\"scattercarpet\",\"marker\":{\"colorbar\":{\"outlinewidth\":0,\"ticks\":\"\"}}}],\"carpet\":[{\"aaxis\":{\"endlinecolor\":\"#2a3f5f\",\"gridcolor\":\"white\",\"linecolor\":\"white\",\"minorgridcolor\":\"white\",\"startlinecolor\":\"#2a3f5f\"},\"baxis\":{\"endlinecolor\":\"#2a3f5f\",\"gridcolor\":\"white\",\"linecolor\":\"white\",\"minorgridcolor\":\"white\",\"startlinecolor\":\"#2a3f5f\"},\"type\":\"carpet\"}],\"table\":[{\"cells\":{\"fill\":{\"color\":\"#EBF0F8\"},\"line\":{\"color\":\"white\"}},\"header\":{\"fill\":{\"color\":\"#C8D4E3\"},\"line\":{\"color\":\"white\"}},\"type\":\"table\"}],\"barpolar\":[{\"marker\":{\"line\":{\"color\":\"#E5ECF6\",\"width\":0.5},\"pattern\":{\"fillmode\":\"overlay\",\"size\":10,\"solidity\":0.2}},\"type\":\"barpolar\"}],\"pie\":[{\"automargin\":true,\"type\":\"pie\"}]},\"layout\":{\"autotypenumbers\":\"strict\",\"colorway\":[\"#636efa\",\"#EF553B\",\"#00cc96\",\"#ab63fa\",\"#FFA15A\",\"#19d3f3\",\"#FF6692\",\"#B6E880\",\"#FF97FF\",\"#FECB52\"],\"font\":{\"color\":\"#2a3f5f\"},\"hovermode\":\"closest\",\"hoverlabel\":{\"align\":\"left\"},\"paper_bgcolor\":\"white\",\"plot_bgcolor\":\"#E5ECF6\",\"polar\":{\"bgcolor\":\"#E5ECF6\",\"angularaxis\":{\"gridcolor\":\"white\",\"linecolor\":\"white\",\"ticks\":\"\"},\"radialaxis\":{\"gridcolor\":\"white\",\"linecolor\":\"white\",\"ticks\":\"\"}},\"ternary\":{\"bgcolor\":\"#E5ECF6\",\"aaxis\":{\"gridcolor\":\"white\",\"linecolor\":\"white\",\"ticks\":\"\"},\"baxis\":{\"gridcolor\":\"white\",\"linecolor\":\"white\",\"ticks\":\"\"},\"caxis\":{\"gridcolor\":\"white\",\"linecolor\":\"white\",\"ticks\":\"\"}},\"coloraxis\":{\"colorbar\":{\"outlinewidth\":0,\"ticks\":\"\"}},\"colorscale\":{\"sequential\":[[0.0,\"#0d0887\"],[0.1111111111111111,\"#46039f\"],[0.2222222222222222,\"#7201a8\"],[0.3333333333333333,\"#9c179e\"],[0.4444444444444444,\"#bd3786\"],[0.5555555555555556,\"#d8576b\"],[0.6666666666666666,\"#ed7953\"],[0.7777777777777778,\"#fb9f3a\"],[0.8888888888888888,\"#fdca26\"],[1.0,\"#f0f921\"]],\"sequentialminus\":[[0.0,\"#0d0887\"],[0.1111111111111111,\"#46039f\"],[0.2222222222222222,\"#7201a8\"],[0.3333333333333333,\"#9c179e\"],[0.4444444444444444,\"#bd3786\"],[0.5555555555555556,\"#d8576b\"],[0.6666666666666666,\"#ed7953\"],[0.7777777777777778,\"#fb9f3a\"],[0.8888888888888888,\"#fdca26\"],[1.0,\"#f0f921\"]],\"diverging\":[[0,\"#8e0152\"],[0.1,\"#c51b7d\"],[0.2,\"#de77ae\"],[0.3,\"#f1b6da\"],[0.4,\"#fde0ef\"],[0.5,\"#f7f7f7\"],[0.6,\"#e6f5d0\"],[0.7,\"#b8e186\"],[0.8,\"#7fbc41\"],[0.9,\"#4d9221\"],[1,\"#276419\"]]},\"xaxis\":{\"gridcolor\":\"white\",\"linecolor\":\"white\",\"ticks\":\"\",\"title\":{\"standoff\":15},\"zerolinecolor\":\"white\",\"automargin\":true,\"zerolinewidth\":2},\"yaxis\":{\"gridcolor\":\"white\",\"linecolor\":\"white\",\"ticks\":\"\",\"title\":{\"standoff\":15},\"zerolinecolor\":\"white\",\"automargin\":true,\"zerolinewidth\":2},\"scene\":{\"xaxis\":{\"backgroundcolor\":\"#E5ECF6\",\"gridcolor\":\"white\",\"linecolor\":\"white\",\"showbackground\":true,\"ticks\":\"\",\"zerolinecolor\":\"white\",\"gridwidth\":2},\"yaxis\":{\"backgroundcolor\":\"#E5ECF6\",\"gridcolor\":\"white\",\"linecolor\":\"white\",\"showbackground\":true,\"ticks\":\"\",\"zerolinecolor\":\"white\",\"gridwidth\":2},\"zaxis\":{\"backgroundcolor\":\"#E5ECF6\",\"gridcolor\":\"white\",\"linecolor\":\"white\",\"showbackground\":true,\"ticks\":\"\",\"zerolinecolor\":\"white\",\"gridwidth\":2}},\"shapedefaults\":{\"line\":{\"color\":\"#2a3f5f\"}},\"annotationdefaults\":{\"arrowcolor\":\"#2a3f5f\",\"arrowhead\":0,\"arrowwidth\":1},\"geo\":{\"bgcolor\":\"white\",\"landcolor\":\"#E5ECF6\",\"subunitcolor\":\"white\",\"showland\":true,\"showlakes\":true,\"lakecolor\":\"white\"},\"title\":{\"x\":0.05},\"mapbox\":{\"style\":\"light\"}}},\"xaxis\":{\"anchor\":\"y\",\"domain\":[0.0,1.0],\"title\":{\"text\":\"Prediction\"}},\"yaxis\":{\"anchor\":\"x\",\"domain\":[0.0,1.0],\"title\":{\"text\":\"BMI\"}},\"legend\":{\"tracegroupgap\":0},\"title\":{\"text\":\"BMI Distribution Across Prediction Levels\"},\"violinmode\":\"group\"},                        {\"responsive\": true}                    ).then(function(){\n",
       "                            \n",
       "var gd = document.getElementById('02c5586f-f5cf-43fc-954c-71b024929698');\n",
       "var x = new MutationObserver(function (mutations, observer) {{\n",
       "        var display = window.getComputedStyle(gd).display;\n",
       "        if (!display || display === 'none') {{\n",
       "            console.log([gd, 'removed!']);\n",
       "            Plotly.purge(gd);\n",
       "            observer.disconnect();\n",
       "        }}\n",
       "}});\n",
       "\n",
       "// Listen for the removal of the full notebook cells\n",
       "var notebookContainer = gd.closest('#notebook-container');\n",
       "if (notebookContainer) {{\n",
       "    x.observe(notebookContainer, {childList: true});\n",
       "}}\n",
       "\n",
       "// Listen for the clearing of the current output cell\n",
       "var outputEl = gd.closest('.output');\n",
       "if (outputEl) {{\n",
       "    x.observe(outputEl, {childList: true});\n",
       "}}\n",
       "\n",
       "                        })                };                });            </script>        </div>"
      ]
     },
     "metadata": {},
     "output_type": "display_data"
    }
   ],
   "source": [
    "# Plot a violin plot for 'BMI' grouped by 'Prediction'. What does the distribution look like across different prediction levels?\n",
    "fig = px.violin(data, x='Prediction', y='BMI', box=True, points=\"all\", title=\"BMI Distribution Across Prediction Levels\")\n",
    "\n",
    "# Show the plot\n",
    "fig.show()"
   ]
  },
  {
   "cell_type": "code",
   "execution_count": 116,
   "id": "54ffd7ea-04b9-40ee-8bff-8491313d4d94",
   "metadata": {},
   "outputs": [],
   "source": [
    "# Create a new column called 'Age Group' that categorizes individuals into 'Young', 'Middle-aged', and 'Senior' based on their age.\n",
    "def add_new_column(col):\n",
    "    if col <= 25:\n",
    "        return 'Young'\n",
    "    elif 25 < col < 35:\n",
    "        return 'Middle-aged'\n",
    "    else:\n",
    "        return 'Senior'\n",
    "\n",
    "# Apply the function to the 'Age' column and create a new column 'Age Group'\n",
    "data['Age Group'] = data['Age'].map(add_new_column)"
   ]
  },
  {
   "cell_type": "code",
   "execution_count": 112,
   "id": "6c0a1e79-a4e0-4f69-81f4-02fe9fd4f7fe",
   "metadata": {},
   "outputs": [],
   "source": [
    "data.drop('Age Group', axis=1, inplace=True)"
   ]
  },
  {
   "cell_type": "code",
   "execution_count": 78,
   "id": "f1b0867b-e672-40a3-ab56-f6c5c8871849",
   "metadata": {},
   "outputs": [
    {
     "data": {
      "image/png": "[encoded data removed]",
      "text/plain": [
       "<Figure size 640x480 with 2 Axes>"
      ]
     },
     "metadata": {},
     "output_type": "display_data"
    }
   ],
   "source": [
    "# Compute the correlation matrix for the numerical columns in the dataset. Identify the most strongly correlated pairs of features \n",
    "# and interpret the results.\n",
    "\n",
    "correlation_matrix = data.corr()\n",
    "sns.heatmap(correlation_matrix, annot=True)\n",
    "plt.show()"
   ]
  },
  {
   "cell_type": "code",
   "execution_count": 113,
   "id": "683d9816-d0df-4396-95b0-4be4289c95dc",
   "metadata": {},
   "outputs": [
    {
     "name": "stdout",
     "output_type": "stream",
     "text": [
      "BMI           Weight          0.845383\n",
      "Weight        BMI             0.845383\n",
      "Age           Pregnancy No    0.694880\n",
      "Pregnancy No  Age             0.694880\n",
      "Weight        Age             0.574599\n",
      "Age           Weight          0.574599\n",
      "              BMI             0.524466\n",
      "BMI           Age             0.524466\n",
      "Weight        Pregnancy No    0.517925\n",
      "Pregnancy No  Weight          0.517925\n",
      "dtype: float64\n"
     ]
    }
   ],
   "source": [
    "# Unstack the correlation matrix\n",
    "correlation_pairs = correlation_matrix.unstack()\n",
    "\n",
    "# Sort the correlation pairs by absolute value in descending order\n",
    "sorted_pairs = correlation_pairs.abs().sort_values(kind=\"quicksort\", ascending=False)\n",
    "\n",
    "# Remove the correlation of each feature with itself (which is always 1)\n",
    "strongest_pairs = sorted_pairs[sorted_pairs != 1]\n",
    "\n",
    "# Display the top pairs\n",
    "print(strongest_pairs.head(10))  # Displaying top 10 strongly correlated pairs\n"
   ]
  },
  {
   "cell_type": "code",
   "execution_count": 119,
   "id": "045b484f-c050-4e15-b8b4-cd06713a280a",
   "metadata": {},
   "outputs": [
    {
     "data": {
      "text/html": [
       "<div>\n",
       "<style scoped>\n",
       "    .dataframe tbody tr th:only-of-type {\n",
       "        vertical-align: middle;\n",
       "    }\n",
       "\n",
       "    .dataframe tbody tr th {\n",
       "        vertical-align: top;\n",
       "    }\n",
       "\n",
       "    .dataframe thead tr th {\n",
       "        text-align: left;\n",
       "    }\n",
       "\n",
       "    .dataframe thead tr:last-of-type th {\n",
       "        text-align: right;\n",
       "    }\n",
       "</style>\n",
       "<table border=\"1\" class=\"dataframe\">\n",
       "  <thead>\n",
       "    <tr>\n",
       "      <th></th>\n",
       "      <th colspan=\"3\" halign=\"left\">BMI</th>\n",
       "      <th colspan=\"3\" halign=\"left\">Weight</th>\n",
       "    </tr>\n",
       "    <tr>\n",
       "      <th></th>\n",
       "      <th>mean</th>\n",
       "      <th>median</th>\n",
       "      <th>std</th>\n",
       "      <th>mean</th>\n",
       "      <th>median</th>\n",
       "      <th>std</th>\n",
       "    </tr>\n",
       "    <tr>\n",
       "      <th>Age Group</th>\n",
       "      <th></th>\n",
       "      <th></th>\n",
       "      <th></th>\n",
       "      <th></th>\n",
       "      <th></th>\n",
       "      <th></th>\n",
       "    </tr>\n",
       "  </thead>\n",
       "  <tbody>\n",
       "    <tr>\n",
       "      <th>Middle-aged</th>\n",
       "      <td>28.631831</td>\n",
       "      <td>28.4</td>\n",
       "      <td>4.308194</td>\n",
       "      <td>72.163380</td>\n",
       "      <td>70.0</td>\n",
       "      <td>9.489888</td>\n",
       "    </tr>\n",
       "    <tr>\n",
       "      <th>Senior</th>\n",
       "      <td>32.133210</td>\n",
       "      <td>32.0</td>\n",
       "      <td>4.194733</td>\n",
       "      <td>80.771218</td>\n",
       "      <td>81.0</td>\n",
       "      <td>10.038780</td>\n",
       "    </tr>\n",
       "    <tr>\n",
       "      <th>Young</th>\n",
       "      <td>26.458647</td>\n",
       "      <td>26.3</td>\n",
       "      <td>3.914089</td>\n",
       "      <td>64.996241</td>\n",
       "      <td>64.0</td>\n",
       "      <td>9.894347</td>\n",
       "    </tr>\n",
       "  </tbody>\n",
       "</table>\n",
       "</div>"
      ],
      "text/plain": [
       "                   BMI                      Weight                  \n",
       "                  mean median       std       mean median        std\n",
       "Age Group                                                           \n",
       "Middle-aged  28.631831   28.4  4.308194  72.163380   70.0   9.489888\n",
       "Senior       32.133210   32.0  4.194733  80.771218   81.0  10.038780\n",
       "Young        26.458647   26.3  3.914089  64.996241   64.0   9.894347"
      ]
     },
     "execution_count": 119,
     "metadata": {},
     "output_type": "execute_result"
    }
   ],
   "source": [
    "# Group the data by 'Age Group' and calculate the mean, median, and standard deviation for 'BMI' and 'Weight'.\n",
    "# How do these statistics vary across different age groups?\n",
    "data.groupby('Age Group')[['BMI', 'Weight']].agg(['mean', 'median', 'std'])\n"
   ]
  },
  {
   "cell_type": "code",
   "execution_count": 136,
   "id": "f93b0e5a-ba84-4773-badb-c5af32f107e7",
   "metadata": {},
   "outputs": [],
   "source": [
    "# Filter the dataset to find the records where the 'Prediction' is positive, and the 'BMI' is above the 75th percentile \n",
    "# for their respective 'Age Group'. How many such records are there, and what is their distribution across 'Pregnancy No'?\n",
    "\n",
    "# BMI_75th_Percentile = data.groupby('Age Group')['BMI'].quantile(0.75)\n",
    "# data = data.merge(BMI_75th_Percentile.rename('BMI_75th_Percentile'), on='Age Group')\n",
    "# data[(data['Prediction']>0) & (data['BMI']>BMI_75th_Percentile)]"
   ]
  },
  {
   "cell_type": "code",
   "execution_count": 139,
   "id": "7e8e2346-28d6-4e64-9acd-d13272c9b3a4",
   "metadata": {},
   "outputs": [
    {
     "data": {
      "text/html": [
       "<div>\n",
       "<style scoped>\n",
       "    .dataframe tbody tr th:only-of-type {\n",
       "        vertical-align: middle;\n",
       "    }\n",
       "\n",
       "    .dataframe tbody tr th {\n",
       "        vertical-align: top;\n",
       "    }\n",
       "\n",
       "    .dataframe thead th {\n",
       "        text-align: right;\n",
       "    }\n",
       "</style>\n",
       "<table border=\"1\" class=\"dataframe\">\n",
       "  <thead>\n",
       "    <tr style=\"text-align: right;\">\n",
       "      <th></th>\n",
       "      <th></th>\n",
       "      <th>Age</th>\n",
       "      <th>Weight</th>\n",
       "      <th>Height</th>\n",
       "      <th>BMI</th>\n",
       "      <th>Heredity</th>\n",
       "      <th>Prediction</th>\n",
       "      <th>BMI_75th_Percentile</th>\n",
       "      <th>Risk Factor</th>\n",
       "    </tr>\n",
       "    <tr>\n",
       "      <th>Age Group</th>\n",
       "      <th>Pregnancy No</th>\n",
       "      <th></th>\n",
       "      <th></th>\n",
       "      <th></th>\n",
       "      <th></th>\n",
       "      <th></th>\n",
       "      <th></th>\n",
       "      <th></th>\n",
       "      <th></th>\n",
       "    </tr>\n",
       "  </thead>\n",
       "  <tbody>\n",
       "    <tr>\n",
       "      <th rowspan=\"7\" valign=\"top\">Middle-aged</th>\n",
       "      <th>1.0</th>\n",
       "      <td>29.319444</td>\n",
       "      <td>69.833333</td>\n",
       "      <td>160.236111</td>\n",
       "      <td>27.366667</td>\n",
       "      <td>0.194444</td>\n",
       "      <td>0.166667</td>\n",
       "      <td>31.4</td>\n",
       "      <td>19.215000</td>\n",
       "    </tr>\n",
       "    <tr>\n",
       "      <th>2.0</th>\n",
       "      <td>29.967742</td>\n",
       "      <td>70.451613</td>\n",
       "      <td>158.322581</td>\n",
       "      <td>28.296774</td>\n",
       "      <td>0.167742</td>\n",
       "      <td>0.141935</td>\n",
       "      <td>31.4</td>\n",
       "      <td>19.858065</td>\n",
       "    </tr>\n",
       "    <tr>\n",
       "      <th>3.0</th>\n",
       "      <td>30.582278</td>\n",
       "      <td>73.949367</td>\n",
       "      <td>159.025316</td>\n",
       "      <td>29.322785</td>\n",
       "      <td>0.291139</td>\n",
       "      <td>0.253165</td>\n",
       "      <td>31.4</td>\n",
       "      <td>20.613291</td>\n",
       "    </tr>\n",
       "    <tr>\n",
       "      <th>4.0</th>\n",
       "      <td>30.775000</td>\n",
       "      <td>77.800000</td>\n",
       "      <td>160.775000</td>\n",
       "      <td>30.235000</td>\n",
       "      <td>0.225000</td>\n",
       "      <td>0.200000</td>\n",
       "      <td>31.4</td>\n",
       "      <td>21.232000</td>\n",
       "    </tr>\n",
       "    <tr>\n",
       "      <th>5.0</th>\n",
       "      <td>30.500000</td>\n",
       "      <td>81.500000</td>\n",
       "      <td>162.500000</td>\n",
       "      <td>30.800000</td>\n",
       "      <td>0.250000</td>\n",
       "      <td>0.000000</td>\n",
       "      <td>31.4</td>\n",
       "      <td>21.635000</td>\n",
       "    </tr>\n",
       "    <tr>\n",
       "      <th>6.0</th>\n",
       "      <td>32.500000</td>\n",
       "      <td>80.000000</td>\n",
       "      <td>156.750000</td>\n",
       "      <td>32.500000</td>\n",
       "      <td>0.250000</td>\n",
       "      <td>0.250000</td>\n",
       "      <td>31.4</td>\n",
       "      <td>22.825000</td>\n",
       "    </tr>\n",
       "    <tr>\n",
       "      <th>7.0</th>\n",
       "      <td>34.000000</td>\n",
       "      <td>70.000000</td>\n",
       "      <td>156.000000</td>\n",
       "      <td>28.800000</td>\n",
       "      <td>0.000000</td>\n",
       "      <td>0.000000</td>\n",
       "      <td>31.4</td>\n",
       "      <td>20.160000</td>\n",
       "    </tr>\n",
       "    <tr>\n",
       "      <th rowspan=\"9\" valign=\"top\">Senior</th>\n",
       "      <th>1.0</th>\n",
       "      <td>37.500000</td>\n",
       "      <td>76.833333</td>\n",
       "      <td>162.666667</td>\n",
       "      <td>28.950000</td>\n",
       "      <td>0.166667</td>\n",
       "      <td>0.000000</td>\n",
       "      <td>35.6</td>\n",
       "      <td>20.315000</td>\n",
       "    </tr>\n",
       "    <tr>\n",
       "      <th>2.0</th>\n",
       "      <td>37.300000</td>\n",
       "      <td>73.900000</td>\n",
       "      <td>157.850000</td>\n",
       "      <td>29.715000</td>\n",
       "      <td>0.225000</td>\n",
       "      <td>0.250000</td>\n",
       "      <td>35.6</td>\n",
       "      <td>20.868000</td>\n",
       "    </tr>\n",
       "    <tr>\n",
       "      <th>3.0</th>\n",
       "      <td>38.121622</td>\n",
       "      <td>81.040541</td>\n",
       "      <td>158.756757</td>\n",
       "      <td>32.247297</td>\n",
       "      <td>0.337838</td>\n",
       "      <td>0.405405</td>\n",
       "      <td>35.6</td>\n",
       "      <td>22.674459</td>\n",
       "    </tr>\n",
       "    <tr>\n",
       "      <th>4.0</th>\n",
       "      <td>39.084507</td>\n",
       "      <td>80.704225</td>\n",
       "      <td>159.295775</td>\n",
       "      <td>31.880282</td>\n",
       "      <td>0.352113</td>\n",
       "      <td>0.352113</td>\n",
       "      <td>35.6</td>\n",
       "      <td>22.421831</td>\n",
       "    </tr>\n",
       "    <tr>\n",
       "      <th>5.0</th>\n",
       "      <td>40.542857</td>\n",
       "      <td>85.000000</td>\n",
       "      <td>157.771429</td>\n",
       "      <td>34.182857</td>\n",
       "      <td>0.514286</td>\n",
       "      <td>0.571429</td>\n",
       "      <td>35.6</td>\n",
       "      <td>24.082286</td>\n",
       "    </tr>\n",
       "    <tr>\n",
       "      <th>6.0</th>\n",
       "      <td>39.960000</td>\n",
       "      <td>80.640000</td>\n",
       "      <td>156.800000</td>\n",
       "      <td>32.808000</td>\n",
       "      <td>0.480000</td>\n",
       "      <td>0.520000</td>\n",
       "      <td>35.6</td>\n",
       "      <td>23.109600</td>\n",
       "    </tr>\n",
       "    <tr>\n",
       "      <th>7.0</th>\n",
       "      <td>41.000000</td>\n",
       "      <td>86.600000</td>\n",
       "      <td>161.000000</td>\n",
       "      <td>33.606667</td>\n",
       "      <td>0.466667</td>\n",
       "      <td>0.466667</td>\n",
       "      <td>35.6</td>\n",
       "      <td>23.664667</td>\n",
       "    </tr>\n",
       "    <tr>\n",
       "      <th>8.0</th>\n",
       "      <td>43.000000</td>\n",
       "      <td>90.000000</td>\n",
       "      <td>164.000000</td>\n",
       "      <td>33.566667</td>\n",
       "      <td>0.333333</td>\n",
       "      <td>1.000000</td>\n",
       "      <td>35.6</td>\n",
       "      <td>23.596667</td>\n",
       "    </tr>\n",
       "    <tr>\n",
       "      <th>9.0</th>\n",
       "      <td>44.500000</td>\n",
       "      <td>92.500000</td>\n",
       "      <td>157.500000</td>\n",
       "      <td>37.300000</td>\n",
       "      <td>1.000000</td>\n",
       "      <td>0.500000</td>\n",
       "      <td>35.6</td>\n",
       "      <td>26.410000</td>\n",
       "    </tr>\n",
       "    <tr>\n",
       "      <th rowspan=\"4\" valign=\"top\">Young</th>\n",
       "      <th>1.0</th>\n",
       "      <td>21.561798</td>\n",
       "      <td>63.275281</td>\n",
       "      <td>156.146067</td>\n",
       "      <td>26.020225</td>\n",
       "      <td>0.095506</td>\n",
       "      <td>0.078652</td>\n",
       "      <td>28.8</td>\n",
       "      <td>18.242809</td>\n",
       "    </tr>\n",
       "    <tr>\n",
       "      <th>2.0</th>\n",
       "      <td>23.120000</td>\n",
       "      <td>67.986667</td>\n",
       "      <td>158.240000</td>\n",
       "      <td>27.202667</td>\n",
       "      <td>0.160000</td>\n",
       "      <td>0.066667</td>\n",
       "      <td>28.8</td>\n",
       "      <td>19.089867</td>\n",
       "    </tr>\n",
       "    <tr>\n",
       "      <th>3.0</th>\n",
       "      <td>22.727273</td>\n",
       "      <td>71.818182</td>\n",
       "      <td>159.090909</td>\n",
       "      <td>28.427273</td>\n",
       "      <td>0.272727</td>\n",
       "      <td>0.181818</td>\n",
       "      <td>28.8</td>\n",
       "      <td>19.980909</td>\n",
       "    </tr>\n",
       "    <tr>\n",
       "      <th>4.0</th>\n",
       "      <td>23.500000</td>\n",
       "      <td>68.500000</td>\n",
       "      <td>160.000000</td>\n",
       "      <td>26.750000</td>\n",
       "      <td>1.000000</td>\n",
       "      <td>0.000000</td>\n",
       "      <td>28.8</td>\n",
       "      <td>19.025000</td>\n",
       "    </tr>\n",
       "  </tbody>\n",
       "</table>\n",
       "</div>"
      ],
      "text/plain": [
       "                                Age     Weight      Height        BMI  \\\n",
       "Age Group   Pregnancy No                                                \n",
       "Middle-aged 1.0           29.319444  69.833333  160.236111  27.366667   \n",
       "            2.0           29.967742  70.451613  158.322581  28.296774   \n",
       "            3.0           30.582278  73.949367  159.025316  29.322785   \n",
       "            4.0           30.775000  77.800000  160.775000  30.235000   \n",
       "            5.0           30.500000  81.500000  162.500000  30.800000   \n",
       "            6.0           32.500000  80.000000  156.750000  32.500000   \n",
       "            7.0           34.000000  70.000000  156.000000  28.800000   \n",
       "Senior      1.0           37.500000  76.833333  162.666667  28.950000   \n",
       "            2.0           37.300000  73.900000  157.850000  29.715000   \n",
       "            3.0           38.121622  81.040541  158.756757  32.247297   \n",
       "            4.0           39.084507  80.704225  159.295775  31.880282   \n",
       "            5.0           40.542857  85.000000  157.771429  34.182857   \n",
       "            6.0           39.960000  80.640000  156.800000  32.808000   \n",
       "            7.0           41.000000  86.600000  161.000000  33.606667   \n",
       "            8.0           43.000000  90.000000  164.000000  33.566667   \n",
       "            9.0           44.500000  92.500000  157.500000  37.300000   \n",
       "Young       1.0           21.561798  63.275281  156.146067  26.020225   \n",
       "            2.0           23.120000  67.986667  158.240000  27.202667   \n",
       "            3.0           22.727273  71.818182  159.090909  28.427273   \n",
       "            4.0           23.500000  68.500000  160.000000  26.750000   \n",
       "\n",
       "                          Heredity  Prediction  BMI_75th_Percentile  \\\n",
       "Age Group   Pregnancy No                                              \n",
       "Middle-aged 1.0           0.194444    0.166667                 31.4   \n",
       "            2.0           0.167742    0.141935                 31.4   \n",
       "            3.0           0.291139    0.253165                 31.4   \n",
       "            4.0           0.225000    0.200000                 31.4   \n",
       "            5.0           0.250000    0.000000                 31.4   \n",
       "            6.0           0.250000    0.250000                 31.4   \n",
       "            7.0           0.000000    0.000000                 31.4   \n",
       "Senior      1.0           0.166667    0.000000                 35.6   \n",
       "            2.0           0.225000    0.250000                 35.6   \n",
       "            3.0           0.337838    0.405405                 35.6   \n",
       "            4.0           0.352113    0.352113                 35.6   \n",
       "            5.0           0.514286    0.571429                 35.6   \n",
       "            6.0           0.480000    0.520000                 35.6   \n",
       "            7.0           0.466667    0.466667                 35.6   \n",
       "            8.0           0.333333    1.000000                 35.6   \n",
       "            9.0           1.000000    0.500000                 35.6   \n",
       "Young       1.0           0.095506    0.078652                 28.8   \n",
       "            2.0           0.160000    0.066667                 28.8   \n",
       "            3.0           0.272727    0.181818                 28.8   \n",
       "            4.0           1.000000    0.000000                 28.8   \n",
       "\n",
       "                          Risk Factor  \n",
       "Age Group   Pregnancy No               \n",
       "Middle-aged 1.0             19.215000  \n",
       "            2.0             19.858065  \n",
       "            3.0             20.613291  \n",
       "            4.0             21.232000  \n",
       "            5.0             21.635000  \n",
       "            6.0             22.825000  \n",
       "            7.0             20.160000  \n",
       "Senior      1.0             20.315000  \n",
       "            2.0             20.868000  \n",
       "            3.0             22.674459  \n",
       "            4.0             22.421831  \n",
       "            5.0             24.082286  \n",
       "            6.0             23.109600  \n",
       "            7.0             23.664667  \n",
       "            8.0             23.596667  \n",
       "            9.0             26.410000  \n",
       "Young       1.0             18.242809  \n",
       "            2.0             19.089867  \n",
       "            3.0             19.980909  \n",
       "            4.0             19.025000  "
      ]
     },
     "execution_count": 139,
     "metadata": {},
     "output_type": "execute_result"
    }
   ],
   "source": [
    "# Create a new column called 'Risk Factor' by combining 'BMI' and 'Heredity' using a weighted sum (e.g., 0.7 * BMI + 0.3 * Heredity).\n",
    "# Then, group by 'Age Group' and 'Pregnancy No' to find the average 'Risk Factor'. What insights can you derive from this new feature?\n",
    "data['Risk Factor'] = 0.7 * data['BMI'] + 0.3 * data['Heredity']\n",
    "data.groupby(['Age Group', 'Pregnancy No']).mean('Risk Factor')"
   ]
  },
  {
   "cell_type": "code",
   "execution_count": 140,
   "id": "4d37e539-c8df-4bb9-8fe9-bd73df56336e",
   "metadata": {},
   "outputs": [],
   "source": [
    "# Detect outliers in the 'Weight' and 'Height' columns using the Z-score method or the IQR method. \n",
    "# How many outliers are present, and do they correspond to any specific 'Age Group' or 'Prediction'?"
   ]
  },
  {
   "cell_type": "code",
   "execution_count": 153,
   "id": "5f96da14-740f-474f-937b-c42edd2deda4",
   "metadata": {},
   "outputs": [
    {
     "data": {
      "text/html": [
       "<div>\n",
       "<style scoped>\n",
       "    .dataframe tbody tr th:only-of-type {\n",
       "        vertical-align: middle;\n",
       "    }\n",
       "\n",
       "    .dataframe tbody tr th {\n",
       "        vertical-align: top;\n",
       "    }\n",
       "\n",
       "    .dataframe thead th {\n",
       "        text-align: right;\n",
       "    }\n",
       "</style>\n",
       "<table border=\"1\" class=\"dataframe\">\n",
       "  <thead>\n",
       "    <tr style=\"text-align: right;\">\n",
       "      <th></th>\n",
       "      <th>Age Group</th>\n",
       "      <th>Heredity</th>\n",
       "      <th>Prediction</th>\n",
       "    </tr>\n",
       "  </thead>\n",
       "  <tbody>\n",
       "    <tr>\n",
       "      <th>0</th>\n",
       "      <td>Middle-aged</td>\n",
       "      <td>0</td>\n",
       "      <td>17</td>\n",
       "    </tr>\n",
       "    <tr>\n",
       "      <th>1</th>\n",
       "      <td>Middle-aged</td>\n",
       "      <td>1</td>\n",
       "      <td>46</td>\n",
       "    </tr>\n",
       "    <tr>\n",
       "      <th>2</th>\n",
       "      <td>Senior</td>\n",
       "      <td>0</td>\n",
       "      <td>44</td>\n",
       "    </tr>\n",
       "    <tr>\n",
       "      <th>3</th>\n",
       "      <td>Senior</td>\n",
       "      <td>1</td>\n",
       "      <td>65</td>\n",
       "    </tr>\n",
       "    <tr>\n",
       "      <th>4</th>\n",
       "      <td>Young</td>\n",
       "      <td>0</td>\n",
       "      <td>12</td>\n",
       "    </tr>\n",
       "    <tr>\n",
       "      <th>5</th>\n",
       "      <td>Young</td>\n",
       "      <td>1</td>\n",
       "      <td>9</td>\n",
       "    </tr>\n",
       "  </tbody>\n",
       "</table>\n",
       "</div>"
      ],
      "text/plain": [
       "     Age Group  Heredity  Prediction\n",
       "0  Middle-aged         0          17\n",
       "1  Middle-aged         1          46\n",
       "2       Senior         0          44\n",
       "3       Senior         1          65\n",
       "4        Young         0          12\n",
       "5        Young         1           9"
      ]
     },
     "execution_count": 153,
     "metadata": {},
     "output_type": "execute_result"
    }
   ],
   "source": [
    "# Analyze the distribution of 'Prediction' values across different 'Age Group' and 'Heredity' levels. \n",
    "# Are there any significant trends or patterns that emerge?\n",
    "df = data.groupby(['Age Group', 'Heredity'])['Prediction'].sum().reset_index()\n",
    "df"
   ]
  },
  {
   "cell_type": "code",
   "execution_count": 155,
   "id": "6b9c49ed-6abb-4029-8843-793d032fdff3",
   "metadata": {},
   "outputs": [
    {
     "data": {
      "image/png": "[encoded data removed]",
      "text/plain": [
       "<Figure size 800x400 with 1 Axes>"
      ]
     },
     "metadata": {},
     "output_type": "display_data"
    }
   ],
   "source": [
    "plt.figure(figsize=(8, 4))\n",
    "sns.barplot(x='Age Group', y='Prediction', hue='Heredity', data=df)\n",
    "plt.title('Sum of Prediction by Age Group and Heredity')\n",
    "plt.xlabel('Age Group')\n",
    "plt.ylabel('Sum of Prediction')\n",
    "plt.xticks(rotation=0)\n",
    "plt.legend(title='Heredity')\n",
    "plt.tight_layout()\n",
    "plt.show()"
   ]
  },
  {
   "cell_type": "code",
   "execution_count": 156,
   "id": "1bbe96c9-fe7d-4a41-8b2f-5bb81fe98493",
   "metadata": {},
   "outputs": [
    {
     "data": {
      "application/vnd.plotly.v1+json": {
       "config": {
        "plotlyServerURL": "https://plot.ly"
       },
       "data": [
        {
         "alignmentgroup": "True",
         "hovertemplate": "Age Group=%{x}<br>Sum of Prediction=%{y}<br>Heredity=%{marker.color}<extra></extra>",
         "legendgroup": "",
         "marker": {
          "color": [
           0,
           1,
           0,
           1,
           0,
           1
          ],
          "coloraxis": "coloraxis",
          "pattern": {
           "shape": ""
          }
         },
         "name": "",
         "offsetgroup": "",
         "orientation": "v",
         "showlegend": false,
         "textposition": "auto",
         "type": "bar",
         "x": [
          "Middle-aged",
          "Middle-aged",
          "Senior",
          "Senior",
          "Young",
          "Young"
         ],
         "xaxis": "x",
         "y": [
          17,
          46,
          44,
          65,
          12,
          9
         ],
         "yaxis": "y"
        }
       ],
       "layout": {
        "autosize": true,
        "barmode": "group",
        "coloraxis": {
         "colorbar": {
          "title": {
           "text": "Heredity"
          }
         },
         "colorscale": [
          [
           0,
           "#0d0887"
          ],
          [
           0.1111111111111111,
           "#46039f"
          ],
          [
           0.2222222222222222,
           "#7201a8"
          ],
          [
           0.3333333333333333,
           "#9c179e"
          ],
          [
           0.4444444444444444,
           "#bd3786"
          ],
          [
           0.5555555555555556,
           "#d8576b"
          ],
          [
           0.6666666666666666,
           "#ed7953"
          ],
          [
           0.7777777777777778,
           "#fb9f3a"
          ],
          [
           0.8888888888888888,
           "#fdca26"
          ],
          [
           1,
           "#f0f921"
          ]
         ]
        },
        "legend": {
         "tracegroupgap": 0
        },
        "template": {
         "data": {
          "bar": [
           {
            "error_x": {
             "color": "#2a3f5f"
            },
            "error_y": {
             "color": "#2a3f5f"
            },
            "marker": {
             "line": {
              "color": "#E5ECF6",
              "width": 0.5
             },
             "pattern": {
              "fillmode": "overlay",
              "size": 10,
              "solidity": 0.2
             }
            },
            "type": "bar"
           }
          ],
          "barpolar": [
           {
            "marker": {
             "line": {
              "color": "#E5ECF6",
              "width": 0.5
             },
             "pattern": {
              "fillmode": "overlay",
              "size": 10,
              "solidity": 0.2
             }
            },
            "type": "barpolar"
           }
          ],
          "carpet": [
           {
            "aaxis": {
             "endlinecolor": "#2a3f5f",
             "gridcolor": "white",
             "linecolor": "white",
             "minorgridcolor": "white",
             "startlinecolor": "#2a3f5f"
            },
            "baxis": {
             "endlinecolor": "#2a3f5f",
             "gridcolor": "white",
             "linecolor": "white",
             "minorgridcolor": "white",
             "startlinecolor": "#2a3f5f"
            },
            "type": "carpet"
           }
          ],
          "choropleth": [
           {
            "colorbar": {
             "outlinewidth": 0,
             "ticks": ""
            },
            "type": "choropleth"
           }
          ],
          "contour": [
           {
            "colorbar": {
             "outlinewidth": 0,
             "ticks": ""
            },
            "colorscale": [
             [
              0,
              "#0d0887"
             ],
             [
              0.1111111111111111,
              "#46039f"
             ],
             [
              0.2222222222222222,
              "#7201a8"
             ],
             [
              0.3333333333333333,
              "#9c179e"
             ],
             [
              0.4444444444444444,
              "#bd3786"
             ],
             [
              0.5555555555555556,
              "#d8576b"
             ],
             [
              0.6666666666666666,
              "#ed7953"
             ],
             [
              0.7777777777777778,
              "#fb9f3a"
             ],
             [
              0.8888888888888888,
              "#fdca26"
             ],
             [
              1,
              "#f0f921"
             ]
            ],
            "type": "contour"
           }
          ],
          "contourcarpet": [
           {
            "colorbar": {
             "outlinewidth": 0,
             "ticks": ""
            },
            "type": "contourcarpet"
           }
          ],
          "heatmap": [
           {
            "colorbar": {
             "outlinewidth": 0,
             "ticks": ""
            },
            "colorscale": [
             [
              0,
              "#0d0887"
             ],
             [
              0.1111111111111111,
              "#46039f"
             ],
             [
              0.2222222222222222,
              "#7201a8"
             ],
             [
              0.3333333333333333,
              "#9c179e"
             ],
             [
              0.4444444444444444,
              "#bd3786"
             ],
             [
              0.5555555555555556,
              "#d8576b"
             ],
             [
              0.6666666666666666,
              "#ed7953"
             ],
             [
              0.7777777777777778,
              "#fb9f3a"
             ],
             [
              0.8888888888888888,
              "#fdca26"
             ],
             [
              1,
              "#f0f921"
             ]
            ],
            "type": "heatmap"
           }
          ],
          "heatmapgl": [
           {
            "colorbar": {
             "outlinewidth": 0,
             "ticks": ""
            },
            "colorscale": [
             [
              0,
              "#0d0887"
             ],
             [
              0.1111111111111111,
              "#46039f"
             ],
             [
              0.2222222222222222,
              "#7201a8"
             ],
             [
              0.3333333333333333,
              "#9c179e"
             ],
             [
              0.4444444444444444,
              "#bd3786"
             ],
             [
              0.5555555555555556,
              "#d8576b"
             ],
             [
              0.6666666666666666,
              "#ed7953"
             ],
             [
              0.7777777777777778,
              "#fb9f3a"
             ],
             [
              0.8888888888888888,
              "#fdca26"
             ],
             [
              1,
              "#f0f921"
             ]
            ],
            "type": "heatmapgl"
           }
          ],
          "histogram": [
           {
            "marker": {
             "pattern": {
              "fillmode": "overlay",
              "size": 10,
              "solidity": 0.2
             }
            },
            "type": "histogram"
           }
          ],
          "histogram2d": [
           {
            "colorbar": {
             "outlinewidth": 0,
             "ticks": ""
            },
            "colorscale": [
             [
              0,
              "#0d0887"
             ],
             [
              0.1111111111111111,
              "#46039f"
             ],
             [
              0.2222222222222222,
              "#7201a8"
             ],
             [
              0.3333333333333333,
              "#9c179e"
             ],
             [
              0.4444444444444444,
              "#bd3786"
             ],
             [
              0.5555555555555556,
              "#d8576b"
             ],
             [
              0.6666666666666666,
              "#ed7953"
             ],
             [
              0.7777777777777778,
              "#fb9f3a"
             ],
             [
              0.8888888888888888,
              "#fdca26"
             ],
             [
              1,
              "#f0f921"
             ]
            ],
            "type": "histogram2d"
           }
          ],
          "histogram2dcontour": [
           {
            "colorbar": {
             "outlinewidth": 0,
             "ticks": ""
            },
            "colorscale": [
             [
              0,
              "#0d0887"
             ],
             [
              0.1111111111111111,
              "#46039f"
             ],
             [
              0.2222222222222222,
              "#7201a8"
             ],
             [
              0.3333333333333333,
              "#9c179e"
             ],
             [
              0.4444444444444444,
              "#bd3786"
             ],
             [
              0.5555555555555556,
              "#d8576b"
             ],
             [
              0.6666666666666666,
              "#ed7953"
             ],
             [
              0.7777777777777778,
              "#fb9f3a"
             ],
             [
              0.8888888888888888,
              "#fdca26"
             ],
             [
              1,
              "#f0f921"
             ]
            ],
            "type": "histogram2dcontour"
           }
          ],
          "mesh3d": [
           {
            "colorbar": {
             "outlinewidth": 0,
             "ticks": ""
            },
            "type": "mesh3d"
           }
          ],
          "parcoords": [
           {
            "line": {
             "colorbar": {
              "outlinewidth": 0,
              "ticks": ""
             }
            },
            "type": "parcoords"
           }
          ],
          "pie": [
           {
            "automargin": true,
            "type": "pie"
           }
          ],
          "scatter": [
           {
            "fillpattern": {
             "fillmode": "overlay",
             "size": 10,
             "solidity": 0.2
            },
            "type": "scatter"
           }
          ],
          "scatter3d": [
           {
            "line": {
             "colorbar": {
              "outlinewidth": 0,
              "ticks": ""
             }
            },
            "marker": {
             "colorbar": {
              "outlinewidth": 0,
              "ticks": ""
             }
            },
            "type": "scatter3d"
           }
          ],
          "scattercarpet": [
           {
            "marker": {
             "colorbar": {
              "outlinewidth": 0,
              "ticks": ""
             }
            },
            "type": "scattercarpet"
           }
          ],
          "scattergeo": [
           {
            "marker": {
             "colorbar": {
              "outlinewidth": 0,
              "ticks": ""
             }
            },
            "type": "scattergeo"
           }
          ],
          "scattergl": [
           {
            "marker": {
             "colorbar": {
              "outlinewidth": 0,
              "ticks": ""
             }
            },
            "type": "scattergl"
           }
          ],
          "scattermapbox": [
           {
            "marker": {
             "colorbar": {
              "outlinewidth": 0,
              "ticks": ""
             }
            },
            "type": "scattermapbox"
           }
          ],
          "scatterpolar": [
           {
            "marker": {
             "colorbar": {
              "outlinewidth": 0,
              "ticks": ""
             }
            },
            "type": "scatterpolar"
           }
          ],
          "scatterpolargl": [
           {
            "marker": {
             "colorbar": {
              "outlinewidth": 0,
              "ticks": ""
             }
            },
            "type": "scatterpolargl"
           }
          ],
          "scatterternary": [
           {
            "marker": {
             "colorbar": {
              "outlinewidth": 0,
              "ticks": ""
             }
            },
            "type": "scatterternary"
           }
          ],
          "surface": [
           {
            "colorbar": {
             "outlinewidth": 0,
             "ticks": ""
            },
            "colorscale": [
             [
              0,
              "#0d0887"
             ],
             [
              0.1111111111111111,
              "#46039f"
             ],
             [
              0.2222222222222222,
              "#7201a8"
             ],
             [
              0.3333333333333333,
              "#9c179e"
             ],
             [
              0.4444444444444444,
              "#bd3786"
             ],
             [
              0.5555555555555556,
              "#d8576b"
             ],
             [
              0.6666666666666666,
              "#ed7953"
             ],
             [
              0.7777777777777778,
              "#fb9f3a"
             ],
             [
              0.8888888888888888,
              "#fdca26"
             ],
             [
              1,
              "#f0f921"
             ]
            ],
            "type": "surface"
           }
          ],
          "table": [
           {
            "cells": {
             "fill": {
              "color": "#EBF0F8"
             },
             "line": {
              "color": "white"
             }
            },
            "header": {
             "fill": {
              "color": "#C8D4E3"
             },
             "line": {
              "color": "white"
             }
            },
            "type": "table"
           }
          ]
         },
         "layout": {
          "annotationdefaults": {
           "arrowcolor": "#2a3f5f",
           "arrowhead": 0,
           "arrowwidth": 1
          },
          "autotypenumbers": "strict",
          "coloraxis": {
           "colorbar": {
            "outlinewidth": 0,
            "ticks": ""
           }
          },
          "colorscale": {
           "diverging": [
            [
             0,
             "#8e0152"
            ],
            [
             0.1,
             "#c51b7d"
            ],
            [
             0.2,
             "#de77ae"
            ],
            [
             0.3,
             "#f1b6da"
            ],
            [
             0.4,
             "#fde0ef"
            ],
            [
             0.5,
             "#f7f7f7"
            ],
            [
             0.6,
             "#e6f5d0"
            ],
            [
             0.7,
             "#b8e186"
            ],
            [
             0.8,
             "#7fbc41"
            ],
            [
             0.9,
             "#4d9221"
            ],
            [
             1,
             "#276419"
            ]
           ],
           "sequential": [
            [
             0,
             "#0d0887"
            ],
            [
             0.1111111111111111,
             "#46039f"
            ],
            [
             0.2222222222222222,
             "#7201a8"
            ],
            [
             0.3333333333333333,
             "#9c179e"
            ],
            [
             0.4444444444444444,
             "#bd3786"
            ],
            [
             0.5555555555555556,
             "#d8576b"
            ],
            [
             0.6666666666666666,
             "#ed7953"
            ],
            [
             0.7777777777777778,
             "#fb9f3a"
            ],
            [
             0.8888888888888888,
             "#fdca26"
            ],
            [
             1,
             "#f0f921"
            ]
           ],
           "sequentialminus": [
            [
             0,
             "#0d0887"
            ],
            [
             0.1111111111111111,
             "#46039f"
            ],
            [
             0.2222222222222222,
             "#7201a8"
            ],
            [
             0.3333333333333333,
             "#9c179e"
            ],
            [
             0.4444444444444444,
             "#bd3786"
            ],
            [
             0.5555555555555556,
             "#d8576b"
            ],
            [
             0.6666666666666666,
             "#ed7953"
            ],
            [
             0.7777777777777778,
             "#fb9f3a"
            ],
            [
             0.8888888888888888,
             "#fdca26"
            ],
            [
             1,
             "#f0f921"
            ]
           ]
          },
          "colorway": [
           "#636efa",
           "#EF553B",
           "#00cc96",
           "#ab63fa",
           "#FFA15A",
           "#19d3f3",
           "#FF6692",
           "#B6E880",
           "#FF97FF",
           "#FECB52"
          ],
          "font": {
           "color": "#2a3f5f"
          },
          "geo": {
           "bgcolor": "white",
           "lakecolor": "white",
           "landcolor": "#E5ECF6",
           "showlakes": true,
           "showland": true,
           "subunitcolor": "white"
          },
          "hoverlabel": {
           "align": "left"
          },
          "hovermode": "closest",
          "mapbox": {
           "style": "light"
          },
          "paper_bgcolor": "white",
          "plot_bgcolor": "#E5ECF6",
          "polar": {
           "angularaxis": {
            "gridcolor": "white",
            "linecolor": "white",
            "ticks": ""
           },
           "bgcolor": "#E5ECF6",
           "radialaxis": {
            "gridcolor": "white",
            "linecolor": "white",
            "ticks": ""
           }
          },
          "scene": {
           "xaxis": {
            "backgroundcolor": "#E5ECF6",
            "gridcolor": "white",
            "gridwidth": 2,
            "linecolor": "white",
            "showbackground": true,
            "ticks": "",
            "zerolinecolor": "white"
           },
           "yaxis": {
            "backgroundcolor": "#E5ECF6",
            "gridcolor": "white",
            "gridwidth": 2,
            "linecolor": "white",
            "showbackground": true,
            "ticks": "",
            "zerolinecolor": "white"
           },
           "zaxis": {
            "backgroundcolor": "#E5ECF6",
            "gridcolor": "white",
            "gridwidth": 2,
            "linecolor": "white",
            "showbackground": true,
            "ticks": "",
            "zerolinecolor": "white"
           }
          },
          "shapedefaults": {
           "line": {
            "color": "#2a3f5f"
           }
          },
          "ternary": {
           "aaxis": {
            "gridcolor": "white",
            "linecolor": "white",
            "ticks": ""
           },
           "baxis": {
            "gridcolor": "white",
            "linecolor": "white",
            "ticks": ""
           },
           "bgcolor": "#E5ECF6",
           "caxis": {
            "gridcolor": "white",
            "linecolor": "white",
            "ticks": ""
           }
          },
          "title": {
           "x": 0.05
          },
          "xaxis": {
           "automargin": true,
           "gridcolor": "white",
           "linecolor": "white",
           "ticks": "",
           "title": {
            "standoff": 15
           },
           "zerolinecolor": "white",
           "zerolinewidth": 2
          },
          "yaxis": {
           "automargin": true,
           "gridcolor": "white",
           "linecolor": "white",
           "ticks": "",
           "title": {
            "standoff": 15
           },
           "zerolinecolor": "white",
           "zerolinewidth": 2
          }
         }
        },
        "title": {
         "text": "Sum of Prediction by Age Group and Heredity"
        },
        "xaxis": {
         "anchor": "y",
         "autorange": true,
         "domain": [
          0,
          1
         ],
         "range": [
          -0.5,
          2.5
         ],
         "title": {
          "text": "Age Group"
         },
         "type": "category"
        },
        "yaxis": {
         "anchor": "x",
         "autorange": true,
         "domain": [
          0,
          1
         ],
         "range": [
          0,
          114.73684210526316
         ],
         "title": {
          "text": "Sum of Prediction"
         },
         "type": "linear"
        }
       }
      },
      "image/png": "[encoded data removed]",
      "text/html": [
       "<div>                            <div id=\"e6fea24a-c641-4256-a120-57f0f416b154\" class=\"plotly-graph-div\" style=\"height:525px; width:100%;\"></div>            <script type=\"text/javascript\">                require([\"plotly\"], function(Plotly) {                    window.PLOTLYENV=window.PLOTLYENV || {};                                    if (document.getElementById(\"e6fea24a-c641-4256-a120-57f0f416b154\")) {                    Plotly.newPlot(                        \"e6fea24a-c641-4256-a120-57f0f416b154\",                        [{\"alignmentgroup\":\"True\",\"hovertemplate\":\"Age Group=%{x}\\u003cbr\\u003eSum of Prediction=%{y}\\u003cbr\\u003eHeredity=%{marker.color}\\u003cextra\\u003e\\u003c\\u002fextra\\u003e\",\"legendgroup\":\"\",\"marker\":{\"color\":[0,1,0,1,0,1],\"coloraxis\":\"coloraxis\",\"pattern\":{\"shape\":\"\"}},\"name\":\"\",\"offsetgroup\":\"\",\"orientation\":\"v\",\"showlegend\":false,\"textposition\":\"auto\",\"x\":[\"Middle-aged\",\"Middle-aged\",\"Senior\",\"Senior\",\"Young\",\"Young\"],\"xaxis\":\"x\",\"y\":[17,46,44,65,12,9],\"yaxis\":\"y\",\"type\":\"bar\"}],                        {\"template\":{\"data\":{\"histogram2dcontour\":[{\"type\":\"histogram2dcontour\",\"colorbar\":{\"outlinewidth\":0,\"ticks\":\"\"},\"colorscale\":[[0.0,\"#0d0887\"],[0.1111111111111111,\"#46039f\"],[0.2222222222222222,\"#7201a8\"],[0.3333333333333333,\"#9c179e\"],[0.4444444444444444,\"#bd3786\"],[0.5555555555555556,\"#d8576b\"],[0.6666666666666666,\"#ed7953\"],[0.7777777777777778,\"#fb9f3a\"],[0.8888888888888888,\"#fdca26\"],[1.0,\"#f0f921\"]]}],\"choropleth\":[{\"type\":\"choropleth\",\"colorbar\":{\"outlinewidth\":0,\"ticks\":\"\"}}],\"histogram2d\":[{\"type\":\"histogram2d\",\"colorbar\":{\"outlinewidth\":0,\"ticks\":\"\"},\"colorscale\":[[0.0,\"#0d0887\"],[0.1111111111111111,\"#46039f\"],[0.2222222222222222,\"#7201a8\"],[0.3333333333333333,\"#9c179e\"],[0.4444444444444444,\"#bd3786\"],[0.5555555555555556,\"#d8576b\"],[0.6666666666666666,\"#ed7953\"],[0.7777777777777778,\"#fb9f3a\"],[0.8888888888888888,\"#fdca26\"],[1.0,\"#f0f921\"]]}],\"heatmap\":[{\"type\":\"heatmap\",\"colorbar\":{\"outlinewidth\":0,\"ticks\":\"\"},\"colorscale\":[[0.0,\"#0d0887\"],[0.1111111111111111,\"#46039f\"],[0.2222222222222222,\"#7201a8\"],[0.3333333333333333,\"#9c179e\"],[0.4444444444444444,\"#bd3786\"],[0.5555555555555556,\"#d8576b\"],[0.6666666666666666,\"#ed7953\"],[0.7777777777777778,\"#fb9f3a\"],[0.8888888888888888,\"#fdca26\"],[1.0,\"#f0f921\"]]}],\"heatmapgl\":[{\"type\":\"heatmapgl\",\"colorbar\":{\"outlinewidth\":0,\"ticks\":\"\"},\"colorscale\":[[0.0,\"#0d0887\"],[0.1111111111111111,\"#46039f\"],[0.2222222222222222,\"#7201a8\"],[0.3333333333333333,\"#9c179e\"],[0.4444444444444444,\"#bd3786\"],[0.5555555555555556,\"#d8576b\"],[0.6666666666666666,\"#ed7953\"],[0.7777777777777778,\"#fb9f3a\"],[0.8888888888888888,\"#fdca26\"],[1.0,\"#f0f921\"]]}],\"contourcarpet\":[{\"type\":\"contourcarpet\",\"colorbar\":{\"outlinewidth\":0,\"ticks\":\"\"}}],\"contour\":[{\"type\":\"contour\",\"colorbar\":{\"outlinewidth\":0,\"ticks\":\"\"},\"colorscale\":[[0.0,\"#0d0887\"],[0.1111111111111111,\"#46039f\"],[0.2222222222222222,\"#7201a8\"],[0.3333333333333333,\"#9c179e\"],[0.4444444444444444,\"#bd3786\"],[0.5555555555555556,\"#d8576b\"],[0.6666666666666666,\"#ed7953\"],[0.7777777777777778,\"#fb9f3a\"],[0.8888888888888888,\"#fdca26\"],[1.0,\"#f0f921\"]]}],\"surface\":[{\"type\":\"surface\",\"colorbar\":{\"outlinewidth\":0,\"ticks\":\"\"},\"colorscale\":[[0.0,\"#0d0887\"],[0.1111111111111111,\"#46039f\"],[0.2222222222222222,\"#7201a8\"],[0.3333333333333333,\"#9c179e\"],[0.4444444444444444,\"#bd3786\"],[0.5555555555555556,\"#d8576b\"],[0.6666666666666666,\"#ed7953\"],[0.7777777777777778,\"#fb9f3a\"],[0.8888888888888888,\"#fdca26\"],[1.0,\"#f0f921\"]]}],\"mesh3d\":[{\"type\":\"mesh3d\",\"colorbar\":{\"outlinewidth\":0,\"ticks\":\"\"}}],\"scatter\":[{\"fillpattern\":{\"fillmode\":\"overlay\",\"size\":10,\"solidity\":0.2},\"type\":\"scatter\"}],\"parcoords\":[{\"type\":\"parcoords\",\"line\":{\"colorbar\":{\"outlinewidth\":0,\"ticks\":\"\"}}}],\"scatterpolargl\":[{\"type\":\"scatterpolargl\",\"marker\":{\"colorbar\":{\"outlinewidth\":0,\"ticks\":\"\"}}}],\"bar\":[{\"error_x\":{\"color\":\"#2a3f5f\"},\"error_y\":{\"color\":\"#2a3f5f\"},\"marker\":{\"line\":{\"color\":\"#E5ECF6\",\"width\":0.5},\"pattern\":{\"fillmode\":\"overlay\",\"size\":10,\"solidity\":0.2}},\"type\":\"bar\"}],\"scattergeo\":[{\"type\":\"scattergeo\",\"marker\":{\"colorbar\":{\"outlinewidth\":0,\"ticks\":\"\"}}}],\"scatterpolar\":[{\"type\":\"scatterpolar\",\"marker\":{\"colorbar\":{\"outlinewidth\":0,\"ticks\":\"\"}}}],\"histogram\":[{\"marker\":{\"pattern\":{\"fillmode\":\"overlay\",\"size\":10,\"solidity\":0.2}},\"type\":\"histogram\"}],\"scattergl\":[{\"type\":\"scattergl\",\"marker\":{\"colorbar\":{\"outlinewidth\":0,\"ticks\":\"\"}}}],\"scatter3d\":[{\"type\":\"scatter3d\",\"line\":{\"colorbar\":{\"outlinewidth\":0,\"ticks\":\"\"}},\"marker\":{\"colorbar\":{\"outlinewidth\":0,\"ticks\":\"\"}}}],\"scattermapbox\":[{\"type\":\"scattermapbox\",\"marker\":{\"colorbar\":{\"outlinewidth\":0,\"ticks\":\"\"}}}],\"scatterternary\":[{\"type\":\"scatterternary\",\"marker\":{\"colorbar\":{\"outlinewidth\":0,\"ticks\":\"\"}}}],\"scattercarpet\":[{\"type\":\"scattercarpet\",\"marker\":{\"colorbar\":{\"outlinewidth\":0,\"ticks\":\"\"}}}],\"carpet\":[{\"aaxis\":{\"endlinecolor\":\"#2a3f5f\",\"gridcolor\":\"white\",\"linecolor\":\"white\",\"minorgridcolor\":\"white\",\"startlinecolor\":\"#2a3f5f\"},\"baxis\":{\"endlinecolor\":\"#2a3f5f\",\"gridcolor\":\"white\",\"linecolor\":\"white\",\"minorgridcolor\":\"white\",\"startlinecolor\":\"#2a3f5f\"},\"type\":\"carpet\"}],\"table\":[{\"cells\":{\"fill\":{\"color\":\"#EBF0F8\"},\"line\":{\"color\":\"white\"}},\"header\":{\"fill\":{\"color\":\"#C8D4E3\"},\"line\":{\"color\":\"white\"}},\"type\":\"table\"}],\"barpolar\":[{\"marker\":{\"line\":{\"color\":\"#E5ECF6\",\"width\":0.5},\"pattern\":{\"fillmode\":\"overlay\",\"size\":10,\"solidity\":0.2}},\"type\":\"barpolar\"}],\"pie\":[{\"automargin\":true,\"type\":\"pie\"}]},\"layout\":{\"autotypenumbers\":\"strict\",\"colorway\":[\"#636efa\",\"#EF553B\",\"#00cc96\",\"#ab63fa\",\"#FFA15A\",\"#19d3f3\",\"#FF6692\",\"#B6E880\",\"#FF97FF\",\"#FECB52\"],\"font\":{\"color\":\"#2a3f5f\"},\"hovermode\":\"closest\",\"hoverlabel\":{\"align\":\"left\"},\"paper_bgcolor\":\"white\",\"plot_bgcolor\":\"#E5ECF6\",\"polar\":{\"bgcolor\":\"#E5ECF6\",\"angularaxis\":{\"gridcolor\":\"white\",\"linecolor\":\"white\",\"ticks\":\"\"},\"radialaxis\":{\"gridcolor\":\"white\",\"linecolor\":\"white\",\"ticks\":\"\"}},\"ternary\":{\"bgcolor\":\"#E5ECF6\",\"aaxis\":{\"gridcolor\":\"white\",\"linecolor\":\"white\",\"ticks\":\"\"},\"baxis\":{\"gridcolor\":\"white\",\"linecolor\":\"white\",\"ticks\":\"\"},\"caxis\":{\"gridcolor\":\"white\",\"linecolor\":\"white\",\"ticks\":\"\"}},\"coloraxis\":{\"colorbar\":{\"outlinewidth\":0,\"ticks\":\"\"}},\"colorscale\":{\"sequential\":[[0.0,\"#0d0887\"],[0.1111111111111111,\"#46039f\"],[0.2222222222222222,\"#7201a8\"],[0.3333333333333333,\"#9c179e\"],[0.4444444444444444,\"#bd3786\"],[0.5555555555555556,\"#d8576b\"],[0.6666666666666666,\"#ed7953\"],[0.7777777777777778,\"#fb9f3a\"],[0.8888888888888888,\"#fdca26\"],[1.0,\"#f0f921\"]],\"sequentialminus\":[[0.0,\"#0d0887\"],[0.1111111111111111,\"#46039f\"],[0.2222222222222222,\"#7201a8\"],[0.3333333333333333,\"#9c179e\"],[0.4444444444444444,\"#bd3786\"],[0.5555555555555556,\"#d8576b\"],[0.6666666666666666,\"#ed7953\"],[0.7777777777777778,\"#fb9f3a\"],[0.8888888888888888,\"#fdca26\"],[1.0,\"#f0f921\"]],\"diverging\":[[0,\"#8e0152\"],[0.1,\"#c51b7d\"],[0.2,\"#de77ae\"],[0.3,\"#f1b6da\"],[0.4,\"#fde0ef\"],[0.5,\"#f7f7f7\"],[0.6,\"#e6f5d0\"],[0.7,\"#b8e186\"],[0.8,\"#7fbc41\"],[0.9,\"#4d9221\"],[1,\"#276419\"]]},\"xaxis\":{\"gridcolor\":\"white\",\"linecolor\":\"white\",\"ticks\":\"\",\"title\":{\"standoff\":15},\"zerolinecolor\":\"white\",\"automargin\":true,\"zerolinewidth\":2},\"yaxis\":{\"gridcolor\":\"white\",\"linecolor\":\"white\",\"ticks\":\"\",\"title\":{\"standoff\":15},\"zerolinecolor\":\"white\",\"automargin\":true,\"zerolinewidth\":2},\"scene\":{\"xaxis\":{\"backgroundcolor\":\"#E5ECF6\",\"gridcolor\":\"white\",\"linecolor\":\"white\",\"showbackground\":true,\"ticks\":\"\",\"zerolinecolor\":\"white\",\"gridwidth\":2},\"yaxis\":{\"backgroundcolor\":\"#E5ECF6\",\"gridcolor\":\"white\",\"linecolor\":\"white\",\"showbackground\":true,\"ticks\":\"\",\"zerolinecolor\":\"white\",\"gridwidth\":2},\"zaxis\":{\"backgroundcolor\":\"#E5ECF6\",\"gridcolor\":\"white\",\"linecolor\":\"white\",\"showbackground\":true,\"ticks\":\"\",\"zerolinecolor\":\"white\",\"gridwidth\":2}},\"shapedefaults\":{\"line\":{\"color\":\"#2a3f5f\"}},\"annotationdefaults\":{\"arrowcolor\":\"#2a3f5f\",\"arrowhead\":0,\"arrowwidth\":1},\"geo\":{\"bgcolor\":\"white\",\"landcolor\":\"#E5ECF6\",\"subunitcolor\":\"white\",\"showland\":true,\"showlakes\":true,\"lakecolor\":\"white\"},\"title\":{\"x\":0.05},\"mapbox\":{\"style\":\"light\"}}},\"xaxis\":{\"anchor\":\"y\",\"domain\":[0.0,1.0],\"title\":{\"text\":\"Age Group\"}},\"yaxis\":{\"anchor\":\"x\",\"domain\":[0.0,1.0],\"title\":{\"text\":\"Sum of Prediction\"}},\"coloraxis\":{\"colorbar\":{\"title\":{\"text\":\"Heredity\"}},\"colorscale\":[[0.0,\"#0d0887\"],[0.1111111111111111,\"#46039f\"],[0.2222222222222222,\"#7201a8\"],[0.3333333333333333,\"#9c179e\"],[0.4444444444444444,\"#bd3786\"],[0.5555555555555556,\"#d8576b\"],[0.6666666666666666,\"#ed7953\"],[0.7777777777777778,\"#fb9f3a\"],[0.8888888888888888,\"#fdca26\"],[1.0,\"#f0f921\"]]},\"legend\":{\"tracegroupgap\":0},\"title\":{\"text\":\"Sum of Prediction by Age Group and Heredity\"},\"barmode\":\"group\"},                        {\"responsive\": true}                    ).then(function(){\n",
       "                            \n",
       "var gd = document.getElementById('e6fea24a-c641-4256-a120-57f0f416b154');\n",
       "var x = new MutationObserver(function (mutations, observer) {{\n",
       "        var display = window.getComputedStyle(gd).display;\n",
       "        if (!display || display === 'none') {{\n",
       "            console.log([gd, 'removed!']);\n",
       "            Plotly.purge(gd);\n",
       "            observer.disconnect();\n",
       "        }}\n",
       "}});\n",
       "\n",
       "// Listen for the removal of the full notebook cells\n",
       "var notebookContainer = gd.closest('#notebook-container');\n",
       "if (notebookContainer) {{\n",
       "    x.observe(notebookContainer, {childList: true});\n",
       "}}\n",
       "\n",
       "// Listen for the clearing of the current output cell\n",
       "var outputEl = gd.closest('.output');\n",
       "if (outputEl) {{\n",
       "    x.observe(outputEl, {childList: true});\n",
       "}}\n",
       "\n",
       "                        })                };                });            </script>        </div>"
      ]
     },
     "metadata": {},
     "output_type": "display_data"
    }
   ],
   "source": [
    "fig = px.bar(df, x='Age Group', y='Prediction', color='Heredity', barmode='group',\n",
    "             labels={'Prediction': 'Sum of Prediction'},\n",
    "             title='Sum of Prediction by Age Group and Heredity')\n",
    "\n",
    "# Customize layout\n",
    "fig.update_layout(xaxis_title='Age Group', yaxis_title='Sum of Prediction')\n",
    "\n",
    "# Show the plot\n",
    "fig.show()"
   ]
  },
  {
   "cell_type": "code",
   "execution_count": 157,
   "id": "416c7318-a4e6-416b-9df0-45acebb6f573",
   "metadata": {},
   "outputs": [],
   "source": [
    "# Normalize the 'Weight' and 'Height' columns using Min-Max scaling and Standardization. Compare the effect of \n",
    "# these two techniques on the dataset. Which scaling method is more suitable for your data, and why?"
   ]
  },
  {
   "cell_type": "code",
   "execution_count": 164,
   "id": "71a283ac-9afd-4f07-9b58-5d32e2c31e2a",
   "metadata": {},
   "outputs": [
    {
     "data": {
      "text/html": [
       "<div>\n",
       "<style scoped>\n",
       "    .dataframe tbody tr th:only-of-type {\n",
       "        vertical-align: middle;\n",
       "    }\n",
       "\n",
       "    .dataframe tbody tr th {\n",
       "        vertical-align: top;\n",
       "    }\n",
       "\n",
       "    .dataframe thead th {\n",
       "        text-align: right;\n",
       "    }\n",
       "</style>\n",
       "<table border=\"1\" class=\"dataframe\">\n",
       "  <thead>\n",
       "    <tr style=\"text-align: right;\">\n",
       "      <th>Prediction</th>\n",
       "      <th>Age Group</th>\n",
       "      <th>0</th>\n",
       "      <th>1</th>\n",
       "    </tr>\n",
       "  </thead>\n",
       "  <tbody>\n",
       "    <tr>\n",
       "      <th>0</th>\n",
       "      <td>Middle-aged</td>\n",
       "      <td>292</td>\n",
       "      <td>63</td>\n",
       "    </tr>\n",
       "    <tr>\n",
       "      <th>1</th>\n",
       "      <td>Senior</td>\n",
       "      <td>162</td>\n",
       "      <td>109</td>\n",
       "    </tr>\n",
       "    <tr>\n",
       "      <th>2</th>\n",
       "      <td>Young</td>\n",
       "      <td>245</td>\n",
       "      <td>21</td>\n",
       "    </tr>\n",
       "  </tbody>\n",
       "</table>\n",
       "</div>"
      ],
      "text/plain": [
       "Prediction    Age Group    0    1\n",
       "0           Middle-aged  292   63\n",
       "1                Senior  162  109\n",
       "2                 Young  245   21"
      ]
     },
     "execution_count": 164,
     "metadata": {},
     "output_type": "execute_result"
    }
   ],
   "source": [
    "# Create a pivot table with 'Age Group' as rows and 'Prediction' as columns, and aggregate by the count of records. \n",
    "# What does the pivot table reveal about the relationship between 'Age Group' and 'Prediction'?\n",
    "pd.pivot_table(data, columns='Prediction', index='Age Group', aggfunc='size').reset_index()"
   ]
  },
  {
   "cell_type": "code",
   "execution_count": null,
   "id": "7d285c34-dc72-4790-b43e-5ba7bdf0ee19",
   "metadata": {},
   "outputs": [],
   "source": [
    "# Plot a heatmap of the correlation matrix of the dataset. Additionally, create a pairplot to visualize \n",
    "# the relationships between 'Age', 'BMI', 'Weight', and 'Height'. What do these visualizations tell you about the dataset?\n",
    "correlation_matrix = data['Age', 'BMI', 'Weight', 'Height'].corr()\n"
   ]
  }
 ],
 "metadata": {
  "kernelspec": {
   "display_name": "Python 3 (ipykernel)",
   "language": "python",
   "name": "python3"
  },
  "language_info": {
   "codemirror_mode": {
    "name": "ipython",
    "version": 3
   },
   "file_extension": ".py",
   "mimetype": "text/x-python",
   "name": "python",
   "nbconvert_exporter": "python",
   "pygments_lexer": "ipython3",
   "version": "3.8.10"
  }
 },
 "nbformat": 4,
 "nbformat_minor": 5
}
